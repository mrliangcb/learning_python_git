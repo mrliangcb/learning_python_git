{
 "cells": [
  {
   "cell_type": "code",
   "execution_count": 2,
   "metadata": {},
   "outputs": [],
   "source": [
    "import numpy as np\n",
    "import pandas as pd\n",
    "import os\n",
    "import matplotlib.pyplot as plt"
   ]
  },
  {
   "cell_type": "markdown",
   "metadata": {},
   "source": [
    "##### 一、打开文档"
   ]
  },
  {
   "cell_type": "markdown",
   "metadata": {},
   "source": [
    "###### pandas读txt\n",
    "pd.read_csv"
   ]
  },
  {
   "cell_type": "code",
   "execution_count": 3,
   "metadata": {},
   "outputs": [
    {
     "data": {
      "text/html": [
       "<div>\n",
       "<style scoped>\n",
       "    .dataframe tbody tr th:only-of-type {\n",
       "        vertical-align: middle;\n",
       "    }\n",
       "\n",
       "    .dataframe tbody tr th {\n",
       "        vertical-align: top;\n",
       "    }\n",
       "\n",
       "    .dataframe thead th {\n",
       "        text-align: right;\n",
       "    }\n",
       "</style>\n",
       "<table border=\"1\" class=\"dataframe\">\n",
       "  <thead>\n",
       "    <tr style=\"text-align: right;\">\n",
       "      <th></th>\n",
       "      <th>a</th>\n",
       "      <th>b</th>\n",
       "    </tr>\n",
       "  </thead>\n",
       "  <tbody>\n",
       "    <tr>\n",
       "      <th>0</th>\n",
       "      <td>0000001</td>\n",
       "      <td>0000001</td>\n",
       "    </tr>\n",
       "    <tr>\n",
       "      <th>1</th>\n",
       "      <td>0000002</td>\n",
       "      <td>0000002</td>\n",
       "    </tr>\n",
       "    <tr>\n",
       "      <th>2</th>\n",
       "      <td>0000006</td>\n",
       "      <td>0000006</td>\n",
       "    </tr>\n",
       "    <tr>\n",
       "      <th>3</th>\n",
       "      <td>0000008</td>\n",
       "      <td>0000008</td>\n",
       "    </tr>\n",
       "    <tr>\n",
       "      <th>4</th>\n",
       "      <td>0000009</td>\n",
       "      <td>0000009</td>\n",
       "    </tr>\n",
       "    <tr>\n",
       "      <th>5</th>\n",
       "      <td>0000012</td>\n",
       "      <td>0000012</td>\n",
       "    </tr>\n",
       "    <tr>\n",
       "      <th>6</th>\n",
       "      <td>0000027</td>\n",
       "      <td>0000027</td>\n",
       "    </tr>\n",
       "    <tr>\n",
       "      <th>7</th>\n",
       "      <td>0000028</td>\n",
       "      <td>0000028</td>\n",
       "    </tr>\n",
       "  </tbody>\n",
       "</table>\n",
       "</div>"
      ],
      "text/plain": [
       "         a        b\n",
       "0  0000001  0000001\n",
       "1  0000002  0000002\n",
       "2  0000006  0000006\n",
       "3  0000008  0000008\n",
       "4  0000009  0000009\n",
       "5  0000012  0000012\n",
       "6  0000027  0000027\n",
       "7  0000028  0000028"
      ]
     },
     "execution_count": 3,
     "metadata": {},
     "output_type": "execute_result"
    }
   ],
   "source": [
    "\n",
    "#遇到逗号算一个列分割，遇到\\n转下一行\n",
    "#注意路径和文件名都不能是中文\n",
    "path=r'.\\test.txt'\n",
    "df1 = pd.read_csv(path,nrows=None,converters = {u'a':str,u'b':str})#dict 列名或者是列的序列号  {0:str}第0列\n",
    "df1 #因为数据转为了str类，如果是int类型，0001变成1"
   ]
  },
  {
   "cell_type": "code",
   "execution_count": null,
   "metadata": {},
   "outputs": [],
   "source": [
    "# 可选属性\n",
    "\n",
    "# names=[\"a\",\"b\",\"c\"]标列名，这里没name就取第一行作为列名字，行标自动设置0~序号\n",
    "# sep=','\n",
    "# header=None  指的是说明这个文件第一行就是数据，没有列名。默认是有的，就会把第一行当做列名 !!\n",
    "# converters={'列名':类型} 通常用作读文件中001，如果没有conver，则会自动转为float或者int\n",
    "# dtype = {'column_name' : str}\n",
    "# dtype=str\n",
    "# index_col=0\n",
    "# header=0 不读列名\n",
    "\n"
   ]
  },
  {
   "cell_type": "markdown",
   "metadata": {},
   "source": [
    "###### pd.read_table"
   ]
  },
  {
   "cell_type": "code",
   "execution_count": 15,
   "metadata": {},
   "outputs": [
    {
     "data": {
      "text/html": [
       "<div>\n",
       "<style scoped>\n",
       "    .dataframe tbody tr th:only-of-type {\n",
       "        vertical-align: middle;\n",
       "    }\n",
       "\n",
       "    .dataframe tbody tr th {\n",
       "        vertical-align: top;\n",
       "    }\n",
       "\n",
       "    .dataframe thead th {\n",
       "        text-align: right;\n",
       "    }\n",
       "</style>\n",
       "<table border=\"1\" class=\"dataframe\">\n",
       "  <thead>\n",
       "    <tr style=\"text-align: right;\">\n",
       "      <th></th>\n",
       "      <th>a,b</th>\n",
       "    </tr>\n",
       "  </thead>\n",
       "  <tbody>\n",
       "    <tr>\n",
       "      <th>0</th>\n",
       "      <td>0000001,0000001</td>\n",
       "    </tr>\n",
       "    <tr>\n",
       "      <th>1</th>\n",
       "      <td>0000002,0000002</td>\n",
       "    </tr>\n",
       "    <tr>\n",
       "      <th>2</th>\n",
       "      <td>0000006,0000006</td>\n",
       "    </tr>\n",
       "    <tr>\n",
       "      <th>3</th>\n",
       "      <td>0000008,0000008</td>\n",
       "    </tr>\n",
       "    <tr>\n",
       "      <th>4</th>\n",
       "      <td>0000009,0000009</td>\n",
       "    </tr>\n",
       "    <tr>\n",
       "      <th>5</th>\n",
       "      <td>0000012,0000012</td>\n",
       "    </tr>\n",
       "    <tr>\n",
       "      <th>6</th>\n",
       "      <td>0000027,0000027</td>\n",
       "    </tr>\n",
       "    <tr>\n",
       "      <th>7</th>\n",
       "      <td>0000028,0000028</td>\n",
       "    </tr>\n",
       "  </tbody>\n",
       "</table>\n",
       "</div>"
      ],
      "text/plain": [
       "               a,b\n",
       "0  0000001,0000001\n",
       "1  0000002,0000002\n",
       "2  0000006,0000006\n",
       "3  0000008,0000008\n",
       "4  0000009,0000009\n",
       "5  0000012,0000012\n",
       "6  0000027,0000027\n",
       "7  0000028,0000028"
      ]
     },
     "execution_count": 15,
     "metadata": {},
     "output_type": "execute_result"
    }
   ],
   "source": [
    "df2=pd.read_table(path,encoding='utf8') #,encoding='ansi' #有些文件是xls结尾，但不一定是excel文件   这个一般用于读txt\n",
    "df2"
   ]
  },
  {
   "cell_type": "code",
   "execution_count": 12,
   "metadata": {},
   "outputs": [
    {
     "data": {
      "text/plain": [
       "Index(['a,b'], dtype='object')"
      ]
     },
     "execution_count": 12,
     "metadata": {},
     "output_type": "execute_result"
    }
   ],
   "source": [
    "df2.columns"
   ]
  },
  {
   "cell_type": "code",
   "execution_count": null,
   "metadata": {},
   "outputs": [],
   "source": []
  },
  {
   "cell_type": "code",
   "execution_count": null,
   "metadata": {},
   "outputs": [],
   "source": [
    "#逗号分隔的一一般是txt，或者csv\n",
    "#  pd.read_excel()   这种是读标准的excel文件，非逗号空格符的"
   ]
  },
  {
   "cell_type": "markdown",
   "metadata": {},
   "source": [
    "###### open的方法读"
   ]
  },
  {
   "cell_type": "markdown",
   "metadata": {},
   "source": [
    "###### 这个非常常用"
   ]
  },
  {
   "cell_type": "code",
   "execution_count": 17,
   "metadata": {},
   "outputs": [
    {
     "name": "stdout",
     "output_type": "stream",
     "text": [
      "['a,b\\n', '0000001,0000001\\n', '0000002,0000002\\n', '0000006,0000006\\n', '0000008,0000008\\n', '0000009,0000009\\n', '0000012,0000012\\n', '0000027,0000027\\n', '0000028,0000028\\n', '\\n']\n",
      "[['a', 'b'], ['0000001', '0000001'], ['0000002', '0000002'], ['0000006', '0000006'], ['0000008', '0000008'], ['0000009', '0000009'], ['0000012', '0000012'], ['0000027', '0000027'], ['0000028', '0000028'], ['']]\n",
      "         a        b\n",
      "0  0000001  0000001\n",
      "1  0000002  0000002\n",
      "2  0000006  0000006\n",
      "3  0000008  0000008\n",
      "4  0000009  0000009\n",
      "5  0000012  0000012\n",
      "6  0000027  0000027\n",
      "7  0000028  0000028\n",
      "8              None\n"
     ]
    }
   ],
   "source": [
    "# (2)方法二：用open\n",
    "with open(r'.\\test.txt', 'r') as f:\n",
    "    lines = f.readlines() #每行作读作一个str ，['第一行','第二行']\n",
    "    print(lines)\n",
    "    tokens = [i.rstrip('\\n').split(',') for i in lines] #rstrip('内容') 删除字符串末尾的'内容'\n",
    "    print(tokens) \n",
    "    \n",
    "#     tokens0 = [i.rstrip('\\n').split(',')[0] for i in lines]\n",
    "#     print('取出第一列\\n',tokens0)\n",
    "\n",
    "#     #经过split\n",
    "#     #a=[[一行],[二行],['1','2']] ,逗号为分隔符 \n",
    "#     idx_label = dict((int(idx), label) for idx, label in tokens)#创建字典，数字：‘名字’\n",
    "df2=pd.DataFrame(tokens[1:],columns=tokens[0]) # 将list转成 df\n",
    "print(df2)"
   ]
  },
  {
   "cell_type": "code",
   "execution_count": 18,
   "metadata": {},
   "outputs": [
    {
     "name": "stdout",
     "output_type": "stream",
     "text": [
      "1.读前5行          a        b\n",
      "0  0000001  0000001\n",
      "1  0000002  0000002\n",
      "2  0000006  0000006\n",
      "3  0000008  0000008\n",
      "4  0000009  0000009\n",
      "\n",
      "2.形状 (8, 2)\n",
      "\n",
      "3.有哪些列: Index(['a', 'b'], dtype='object')\n",
      "\n",
      "4.每个列的数据类型: Index(['a', 'b'], dtype='object')\n",
      "\n",
      "5.读values [['0000001' '0000001']\n",
      " ['0000002' '0000002']\n",
      " ['0000006' '0000006']\n",
      " ['0000008' '0000008']\n",
      " ['0000009' '0000009']\n",
      " ['0000012' '0000012']\n",
      " ['0000027' '0000027']\n",
      " ['0000028' '0000028']]\n"
     ]
    }
   ],
   "source": [
    "#二、读属性\n",
    "print('1.读前5行',df1.head(5))#tail看尾巴\n",
    "print('\\n2.形状',df1.shape)\n",
    "print('\\n3.有哪些列:',df1.columns)\n",
    "print('\\n4.每个列的数据类型:',df1.columns)\n",
    "print('\\n5.读values',df1.values) #回到list\n"
   ]
  },
  {
   "cell_type": "code",
   "execution_count": null,
   "metadata": {},
   "outputs": [],
   "source": [
    "# 修改属性\n",
    "# (1) numpy: array.astype(np.float32)\n",
    "# (2) 强转换: df.astype(int)\n",
    "# (3) series改变属性\n",
    "pd.to_numeric(df1['a'], errors='coerce')  #默认转为float64  coerce表示无效数据变为nan, errors='ignore'表示对无效数不做改变\n",
    "# (4) 用apply函数，返回int(元素)，再赋值给原df\n"
   ]
  },
  {
   "cell_type": "markdown",
   "metadata": {},
   "source": [
    "###### 保存问题"
   ]
  },
  {
   "cell_type": "code",
   "execution_count": 1,
   "metadata": {},
   "outputs": [],
   "source": [
    "#十二、保存\n",
    "    # data.to_csv(path,sep=',',index=0) #不同value之间用逗号隔开,na_rep='NA',float_format='%.2f'保留两位小数,header=0不保留列名,index=0不保留行索引\n",
    "    # header=0 列名不保存\n",
    "    # np.savetxt(path,c,fmt='%d') #03d表示整数为3位，不够的话前面添0\n",
    "    # encoding= 'utf-8' 保留00001  如果没有，默认是保存为数字1"
   ]
  },
  {
   "cell_type": "code",
   "execution_count": null,
   "metadata": {},
   "outputs": [],
   "source": []
  },
  {
   "cell_type": "code",
   "execution_count": null,
   "metadata": {},
   "outputs": [],
   "source": []
  },
  {
   "cell_type": "code",
   "execution_count": null,
   "metadata": {},
   "outputs": [],
   "source": []
  }
 ],
 "metadata": {
  "kernelspec": {
   "display_name": "Python 3",
   "language": "python",
   "name": "python3"
  },
  "language_info": {
   "codemirror_mode": {
    "name": "ipython",
    "version": 3
   },
   "file_extension": ".py",
   "mimetype": "text/x-python",
   "name": "python",
   "nbconvert_exporter": "python",
   "pygments_lexer": "ipython3",
   "version": "3.6.7"
  }
 },
 "nbformat": 4,
 "nbformat_minor": 2
}
