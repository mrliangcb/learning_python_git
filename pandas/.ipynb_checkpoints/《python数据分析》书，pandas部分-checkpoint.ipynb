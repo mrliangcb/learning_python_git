{
 "cells": [
  {
   "cell_type": "code",
   "execution_count": 43,
   "metadata": {},
   "outputs": [],
   "source": [
    "#《python数据分析》书，pandas部分\n",
    "import numpy as np\n",
    "import pandas as pd\n",
    "import os"
   ]
  },
  {
   "cell_type": "code",
   "execution_count": 44,
   "metadata": {},
   "outputs": [
    {
     "name": "stdout",
     "output_type": "stream",
     "text": [
      "0    1\n",
      "1    2\n",
      "2    3\n",
      "dtype: int64\n",
      "               ID M/F Hand  Age  Educ  SES  MMSE  CDR  eTIV   nWBV    ASF  \\\n",
      "0   OAS1_0001_MR1   F    R   74   2.0  3.0  29.0  0.0  1344  0.743  1.306   \n",
      "1               R   F    R   55   4.0  1.0  29.0  0.0  1147  0.810  1.531   \n",
      "2               R   F    R   73   4.0  3.0  27.0  0.5  1454  0.708  1.207   \n",
      "3               R   M    R   28   NaN  NaN   NaN  NaN  1588  0.803  1.105   \n",
      "4   OAS1_0005_MR1   M    R   18   NaN  NaN   NaN  NaN  1737  0.848  1.010   \n",
      "5   OAS1_0006_MR1   F    R   24   NaN  NaN   NaN  NaN  1131  0.862  1.551   \n",
      "6   OAS1_0007_MR1   M    R   21   NaN  NaN   NaN  NaN  1516  0.830  1.157   \n",
      "7   OAS1_0009_MR1   F    R   20   NaN  NaN   NaN  NaN  1505  0.843  1.166   \n",
      "8   OAS1_0010_MR1   M    R   74   5.0  2.0  30.0  0.0  1636  0.689  1.073   \n",
      "9   OAS1_0011_MR1   F    R   52   3.0  2.0  30.0  0.0  1321  0.827  1.329   \n",
      "10  OAS1_0012_MR1   M    R   30   NaN  NaN   NaN  NaN  1574  0.842  1.115   \n",
      "11  OAS1_0013_MR1   F    R   81   5.0  2.0  30.0  0.0  1664  0.679  1.055   \n",
      "\n",
      "    Delay  \n",
      "0     NaN  \n",
      "1     NaN  \n",
      "2     NaN  \n",
      "3     NaN  \n",
      "4     NaN  \n",
      "5     NaN  \n",
      "6     NaN  \n",
      "7     NaN  \n",
      "8     NaN  \n",
      "9     NaN  \n",
      "10    NaN  \n",
      "11    NaN  \n"
     ]
    }
   ],
   "source": [
    "path=r'C:\\Users\\mrliangcb\\Desktop\\note\\extra_feature\\test.csv'#遇到逗号算一个列分割，遇到\\n转下一行\n",
    "data = pd.read_csv(path,nrows=None) #names=[\"a\",\"b\",\"c\"]标列名，这里没name就取第一行作为列名字，航标自动设置0~序号\n",
    "#print(data.head(10))#先看前10个数据\n",
    "\n",
    "a=pd.Series([1,2,3])\n",
    "print(a)\n",
    "a[2]=5\n",
    "data.loc[[1,2,3],'ID']=data.loc[[1,2,3],'Hand']\n",
    "print(data)\n"
   ]
  },
  {
   "cell_type": "code",
   "execution_count": 45,
   "metadata": {},
   "outputs": [
    {
     "name": "stdout",
     "output_type": "stream",
     "text": [
      "0    1\n",
      "1    2\n",
      "2    5\n",
      "dtype: int64\n"
     ]
    }
   ],
   "source": [
    "#建立series\n",
    "#https://www.baidu.com/link?url=Tw2bA_HzsYklp4OA4Vt0ZTjgn_PFIqVuzPzb7e9lyXvRwi6CdyD7CaZBjFlqAMLUrwPo34MpdR_eJjbpKp6cra&wd=&eqid=8f2c823c0008711a000000065bf2b63c\n",
    "    \n",
    "#series，是一种类似于一维数组的，可以由list或者nparray产生。是一种dataframe的列，且没有了列名\n",
    "#左边是index索引，行标\n",
    "se=pd.Series([4,3,6,10],index=['a','b','c','d'])\n",
    "print(a)"
   ]
  },
  {
   "cell_type": "code",
   "execution_count": 46,
   "metadata": {},
   "outputs": [
    {
     "name": "stdout",
     "output_type": "stream",
     "text": [
      "[ 4  3  6 10]\n",
      "Index(['a', 'b', 'c', 'd'], dtype='object')\n"
     ]
    }
   ],
   "source": [
    "#查看属性\n",
    "#查看.value，返回np\n",
    "print(se.values)#df是返回二维的\n",
    "print(se.index)"
   ]
  },
  {
   "cell_type": "code",
   "execution_count": 47,
   "metadata": {},
   "outputs": [
    {
     "name": "stdout",
     "output_type": "stream",
     "text": [
      "4\n",
      "a    4\n",
      "dtype: int64\n"
     ]
    }
   ],
   "source": [
    "#索引 二维表示自己类型，一维表示比自己低的类型，如np，    df也一样的。一维的时候只能选一个，二维可以选两个属性\n",
    "    #优先级list   np  series  pandas\n",
    "    print(se['a'])\n",
    "    print(se[['a']])\n",
    "\n",
    "    \n",
    "    \n",
    "    \n",
    "\n"
   ]
  },
  {
   "cell_type": "code",
   "execution_count": 48,
   "metadata": {},
   "outputs": [
    {
     "name": "stdout",
     "output_type": "stream",
     "text": [
      "a     4\n",
      "b     3\n",
      "c     6\n",
      "d    10\n",
      "dtype: int64\n",
      "a     8\n",
      "b     6\n",
      "c    12\n",
      "d    20\n",
      "dtype: int64\n"
     ]
    }
   ],
   "source": [
    "#series内运算\n",
    "\n",
    "#选出value大于0的的series\n",
    "print(se[se>0])\n",
    "#se\n",
    "print(se*2)"
   ]
  },
  {
   "cell_type": "code",
   "execution_count": 49,
   "metadata": {},
   "outputs": [
    {
     "name": "stdout",
     "output_type": "stream",
     "text": [
      "True\n"
     ]
    }
   ],
   "source": [
    "#判断index\n",
    "panduan='a' in se\n",
    "print(panduan)"
   ]
  },
  {
   "cell_type": "code",
   "execution_count": 50,
   "metadata": {},
   "outputs": [
    {
     "name": "stdout",
     "output_type": "stream",
     "text": [
      "china      NaN\n",
      "wangwu    35.0\n",
      "france     NaN\n",
      "dtype: float64\n"
     ]
    }
   ],
   "source": [
    "#前面是list转series\n",
    "#现在字典转series，列名为字典键#我称列名=key，作为index的，如果另外设index，则说明只显示这些index，但如果没有重名的话，则会显示nan\n",
    "#如建立了一个有'liming'索引的series，但后来设置了index作为索引，则不显示liming这条记录，而显示index里面的索引时，无value则nan，如果无设置index\n",
    "#则默认使用列名作为index,\n",
    "#series自己的列名优先级最高，其次是自己另外设置的index和column。\n",
    "\n",
    "se2={'liming':25,'wangwu':35,'xiaoming':19}#series的时候，value只有一个。而dataframe的时候value是一个list\n",
    "index=['china','wangwu','france']#指的是我要显示的index行标，如果se2的值中没有china，则那个index对应的value=nan\n",
    "se2=pd.Series(se2,index)\n",
    "print(se2)\n"
   ]
  },
  {
   "cell_type": "code",
   "execution_count": 51,
   "metadata": {},
   "outputs": [
    {
     "name": "stdout",
     "output_type": "stream",
     "text": [
      "liming      25\n",
      "wangwu      35\n",
      "xiaoming    19\n",
      "dtype: int64 \n",
      "\n",
      "liming      False\n",
      "wangwu      False\n",
      "xiaoming    False\n",
      "dtype: bool\n"
     ]
    }
   ],
   "source": [
    "#查找缺失值\n",
    "se3={'liming':25,'wangwu':35,'xiaoming':19}\n",
    "se3=pd.Series(se3)\n",
    "print(se3,'\\n')\n",
    "print(pd.isnull(se3))#.index.tolist()\n"
   ]
  },
  {
   "cell_type": "code",
   "execution_count": 52,
   "metadata": {},
   "outputs": [],
   "source": [
    "#合并，填充\n",
    "    #.fillna()  可以是value，或者数组，series"
   ]
  },
  {
   "cell_type": "code",
   "execution_count": 53,
   "metadata": {},
   "outputs": [
    {
     "name": "stdout",
     "output_type": "stream",
     "text": [
      "a    25\n",
      "b    35\n",
      "c    19\n",
      "dtype: int64\n"
     ]
    },
    {
     "data": {
      "text/plain": [
       "a    25\n",
       "b    35\n",
       "dtype: int64"
      ]
     },
     "execution_count": 53,
     "metadata": {},
     "output_type": "execute_result"
    }
   ],
   "source": [
    "#series修改index\n",
    "se3.index=['a','b','c']#一下子要全部列名index都写出来\n",
    "print(se3)\n",
    "#reindex(上面那个是修改，这里是选择保留什么index的行)\n",
    "se3.reindex(['a','b'],fill_value=0)"
   ]
  },
  {
   "cell_type": "code",
   "execution_count": null,
   "metadata": {},
   "outputs": [],
   "source": []
  },
  {
   "cell_type": "code",
   "execution_count": 54,
   "metadata": {},
   "outputs": [
    {
     "name": "stdout",
     "output_type": "stream",
     "text": [
      "   ming  wang  liang\n",
      "a     1     2      3\n",
      "b     4     5      6\n",
      "c     7     8      9\n",
      "          age  score  birth\n",
      "liming     32     99   2000\n",
      "wangwu     40    100   1998\n",
      "xiaoming   19     80   1999\n"
     ]
    }
   ],
   "source": [
    "#接下来是dataframe\n",
    "\n",
    "#二维矩阵创建df\n",
    "a=np.array([[1,2,3],[4,5,6],[7,8,9]])\n",
    "index=['a','b','c']\n",
    "column=['ming','wang','liang']\n",
    "df1=pd.DataFrame(a,index=['a','b','c'],columns=column)\n",
    "print(df1)\n",
    "\n",
    "\n",
    "\n",
    "\n",
    "\n",
    "\n",
    "\n",
    "#列名在series那里作为index，在df这里就是列名了\n",
    "#以后习惯用list np series df的优先级顺序思考问题\n",
    "#'列名':[一列value]\n",
    "se1=[32,40,19]\n",
    "se2=[99,100,80]\n",
    "se3=[2000,1998,1999]\n",
    "dit={'age':se1,\n",
    "        'score':se2,\n",
    "        'birth':se3}\n",
    "df1=pd.DataFrame(dit,index=['liming','wangwu','xiaoming'])#,columns=[1,2,3]如果加上这个，则不显示字典中的列，因为没有提及字表列名，则显示nan\n",
    "print(df1)\n"
   ]
  },
  {
   "cell_type": "code",
   "execution_count": 26,
   "metadata": {},
   "outputs": [
    {
     "name": "stdout",
     "output_type": "stream",
     "text": [
      "data      age  score  birth\n",
      "name                       \n",
      "liming     32     99   2000\n",
      "wangwu     40    100   1998\n",
      "xiaoming   19     80   1999\n"
     ]
    }
   ],
   "source": [
    "#给行和列名加一个统一的名字\n",
    "    df1.index.name='name'\n",
    "    df1.columns.name='data'\n",
    "    print(df1)\n",
    "    "
   ]
  },
  {
   "cell_type": "code",
   "execution_count": 27,
   "metadata": {},
   "outputs": [
    {
     "name": "stdout",
     "output_type": "stream",
     "text": [
      "[[  32   99 2000]\n",
      " [  40  100 1998]\n",
      " [  19   80 1999]]\n"
     ]
    }
   ],
   "source": [
    "#取得二维内容 np\n",
    "print(df1.values)"
   ]
  },
  {
   "cell_type": "code",
   "execution_count": 28,
   "metadata": {},
   "outputs": [
    {
     "name": "stdout",
     "output_type": "stream",
     "text": [
      "name\n",
      "liming      32\n",
      "wangwu      40\n",
      "xiaoming    19\n",
      "Name: age, dtype: int64\n"
     ]
    }
   ],
   "source": [
    "#取出series\n",
    "print(df1['age'])"
   ]
  },
  {
   "cell_type": "code",
   "execution_count": 29,
   "metadata": {},
   "outputs": [
    {
     "name": "stdout",
     "output_type": "stream",
     "text": [
      "data      age  score\n",
      "name                \n",
      "liming     32     99\n",
      "wangwu     40    100\n",
      "xiaoming   19     80\n",
      "按照loc取:\n",
      " data      age  score\n",
      "name                \n",
      "liming     32     99\n",
      "wangwu     40    100\n",
      "xiaoming   19     80\n"
     ]
    }
   ],
   "source": [
    "#取出df\n",
    "print(df1[['age','score']])\n",
    "print('按照loc取:\\n',df1.loc[:,['age','score']])#选正方形区域返回df的最好方法，loc"
   ]
  },
  {
   "cell_type": "code",
   "execution_count": 30,
   "metadata": {},
   "outputs": [
    {
     "data": {
      "text/html": [
       "<div>\n",
       "<style scoped>\n",
       "    .dataframe tbody tr th:only-of-type {\n",
       "        vertical-align: middle;\n",
       "    }\n",
       "\n",
       "    .dataframe tbody tr th {\n",
       "        vertical-align: top;\n",
       "    }\n",
       "\n",
       "    .dataframe thead th {\n",
       "        text-align: right;\n",
       "    }\n",
       "</style>\n",
       "<table border=\"1\" class=\"dataframe\">\n",
       "  <thead>\n",
       "    <tr style=\"text-align: right;\">\n",
       "      <th>data</th>\n",
       "      <th>age</th>\n",
       "      <th>score</th>\n",
       "    </tr>\n",
       "    <tr>\n",
       "      <th>name</th>\n",
       "      <th></th>\n",
       "      <th></th>\n",
       "    </tr>\n",
       "  </thead>\n",
       "  <tbody>\n",
       "    <tr>\n",
       "      <th>wangwu</th>\n",
       "      <td>40</td>\n",
       "      <td>100</td>\n",
       "    </tr>\n",
       "    <tr>\n",
       "      <th>xiaoming</th>\n",
       "      <td>19</td>\n",
       "      <td>80</td>\n",
       "    </tr>\n",
       "  </tbody>\n",
       "</table>\n",
       "</div>"
      ],
      "text/plain": [
       "data      age  score\n",
       "name                \n",
       "wangwu     40    100\n",
       "xiaoming   19     80"
      ]
     },
     "execution_count": 30,
     "metadata": {},
     "output_type": "execute_result"
    }
   ],
   "source": [
    "#index的不可修改性，不能单独修改\n",
    "#df[]判断和(定位)修改值不能一步做完，要分开\n",
    "\n"
   ]
  },
  {
   "cell_type": "code",
   "execution_count": 236,
   "metadata": {},
   "outputs": [
    {
     "name": "stdout",
     "output_type": "stream",
     "text": [
      "          age  score  birth\n",
      "liming      1     99   2000\n",
      "wangwu      1    100   1998\n",
      "xiaoming    1     80   1999\n",
      "          age  score  birth\n",
      "liming     32     99   2000\n",
      "wangwu     40    100   1998\n",
      "xiaoming   19     80   1999\n"
     ]
    }
   ],
   "source": [
    "#对整一个series赋值\n",
    "#1.赋同一个整数\n",
    "df1['age']=1\n",
    "print(df1)\n",
    "\n",
    "#2.给series赋series或者list，但是长度必须匹配\n",
    "df1['age']=[32,40,19]\n",
    "print(df1)"
   ]
  },
  {
   "cell_type": "code",
   "execution_count": 237,
   "metadata": {},
   "outputs": [],
   "source": [
    "#删除列\n",
    "#del df1['birth']\n",
    "#print(df1)"
   ]
  },
  {
   "cell_type": "code",
   "execution_count": 238,
   "metadata": {},
   "outputs": [
    {
     "name": "stdout",
     "output_type": "stream",
     "text": [
      "          age  score  birth\n",
      "liming     32     99   2000\n",
      "wangwu     40    100   1998\n",
      "xiaoming   19     80   1999\n"
     ]
    }
   ],
   "source": [
    "#df的index不可以改，而series的可以全改\n",
    "#index不可改，但可以选择显示的index\n",
    "#重新改列名\n",
    "print(df1)\n",
    "#df1.reindex([1,'xiaoming','liming'])#而且顺序是按照这个的"
   ]
  },
  {
   "cell_type": "code",
   "execution_count": 239,
   "metadata": {},
   "outputs": [
    {
     "data": {
      "text/html": [
       "<div>\n",
       "<style scoped>\n",
       "    .dataframe tbody tr th:only-of-type {\n",
       "        vertical-align: middle;\n",
       "    }\n",
       "\n",
       "    .dataframe tbody tr th {\n",
       "        vertical-align: top;\n",
       "    }\n",
       "\n",
       "    .dataframe thead th {\n",
       "        text-align: right;\n",
       "    }\n",
       "</style>\n",
       "<table border=\"1\" class=\"dataframe\">\n",
       "  <thead>\n",
       "    <tr style=\"text-align: right;\">\n",
       "      <th></th>\n",
       "      <th>1</th>\n",
       "      <th>xiaoming</th>\n",
       "      <th>liming</th>\n",
       "    </tr>\n",
       "  </thead>\n",
       "  <tbody>\n",
       "    <tr>\n",
       "      <th>liming</th>\n",
       "      <td>NaN</td>\n",
       "      <td>NaN</td>\n",
       "      <td>NaN</td>\n",
       "    </tr>\n",
       "    <tr>\n",
       "      <th>wangwu</th>\n",
       "      <td>NaN</td>\n",
       "      <td>NaN</td>\n",
       "      <td>NaN</td>\n",
       "    </tr>\n",
       "    <tr>\n",
       "      <th>xiaoming</th>\n",
       "      <td>NaN</td>\n",
       "      <td>NaN</td>\n",
       "      <td>NaN</td>\n",
       "    </tr>\n",
       "  </tbody>\n",
       "</table>\n",
       "</div>"
      ],
      "text/plain": [
       "           1  xiaoming  liming\n",
       "liming   NaN       NaN     NaN\n",
       "wangwu   NaN       NaN     NaN\n",
       "xiaoming NaN       NaN     NaN"
      ]
     },
     "execution_count": 239,
     "metadata": {},
     "output_type": "execute_result"
    }
   ],
   "source": [
    "#df改变columns\n",
    "df1.reindex(columns=[1,'xiaoming','liming'])"
   ]
  },
  {
   "cell_type": "code",
   "execution_count": 240,
   "metadata": {},
   "outputs": [
    {
     "name": "stdout",
     "output_type": "stream",
     "text": [
      "          age  score  birth\n",
      "liming     32     99   2000\n",
      "wangwu     40    100   1998\n",
      "xiaoming   19     80   1999\n"
     ]
    }
   ],
   "source": [
    "print(df1)"
   ]
  },
  {
   "cell_type": "code",
   "execution_count": 230,
   "metadata": {},
   "outputs": [
    {
     "name": "stdout",
     "output_type": "stream",
     "text": [
      "          age  score  birth\n",
      "liming     22     99   2000\n",
      "wangwu     22    100   1998\n",
      "xiaoming   22     80   1999\n"
     ]
    },
    {
     "name": "stderr",
     "output_type": "stream",
     "text": [
      "c:\\lcb\\py367\\lib\\site-packages\\ipykernel_launcher.py:2: DeprecationWarning: \n",
      ".ix is deprecated. Please use\n",
      ".loc for label based indexing or\n",
      ".iloc for positional indexing\n",
      "\n",
      "See the documentation here:\n",
      "http://pandas.pydata.org/pandas-docs/stable/indexing.html#ix-indexer-is-deprecated\n",
      "  \n"
     ]
    }
   ],
   "source": [
    "#ix是最简洁的索引功能\n",
    "df1.ix[['liming'],['age']]\n",
    "print(df1)\n",
    "\n",
    "\n",
    "#单个或者批量修改dataframe的value\n",
    "#data.ix[['liming','wangwu'],['age','birth']]#先行，后列\n",
    "#然后可以修改值  df1.ix[['liming'],['age']]=22  可以批量改,整个series改：df1[['age']]=22\n",
    "#批量修改\n"
   ]
  },
  {
   "cell_type": "code",
   "execution_count": 207,
   "metadata": {},
   "outputs": [],
   "source": [
    "#看到p208页"
   ]
  },
  {
   "cell_type": "code",
   "execution_count": null,
   "metadata": {},
   "outputs": [],
   "source": []
  }
 ],
 "metadata": {
  "kernelspec": {
   "display_name": "Python 3",
   "language": "python",
   "name": "python3"
  },
  "language_info": {
   "codemirror_mode": {
    "name": "ipython",
    "version": 3
   },
   "file_extension": ".py",
   "mimetype": "text/x-python",
   "name": "python",
   "nbconvert_exporter": "python",
   "pygments_lexer": "ipython3",
   "version": "3.6.7"
  }
 },
 "nbformat": 4,
 "nbformat_minor": 2
}
