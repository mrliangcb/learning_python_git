{
 "cells": [
  {
   "cell_type": "code",
   "execution_count": 48,
   "metadata": {},
   "outputs": [],
   "source": [
    "import glob\n",
    "import os\n",
    "import pandas as pd\n",
    "import numpy as np"
   ]
  },
  {
   "cell_type": "code",
   "execution_count": null,
   "metadata": {},
   "outputs": [],
   "source": []
  },
  {
   "cell_type": "code",
   "execution_count": 82,
   "metadata": {},
   "outputs": [
    {
     "name": "stdout",
     "output_type": "stream",
     "text": [
      "长度 84\n",
      "加了表头的：\n",
      " (84, 24)\n",
      "    ScanDir ID  DX\n",
      "0   ScanDir ID  DX\n",
      "1      1018959   0\n",
      "2      1019436   3\n",
      "3      1043241   0\n",
      "4      1266183   0\n",
      "5      1535233   0\n",
      "6      1541812   1\n",
      "7      1577042   1\n",
      "8      1594156   0\n",
      "9      1623716   1\n",
      "10     1638334   0\n",
      "11     1652369   0\n",
      "12     1686265   0\n",
      "13     1692275   0\n",
      "14     1735881   0\n",
      "15     1779922   0\n",
      "16     1842819   0\n",
      "17     1846346   0\n",
      "18     1873761   1\n",
      "19     1962503   0\n",
      "20     1988015   0\n",
      "21     1996183   3\n",
      "22     2014113   1\n",
      "23     2018106   0\n",
      "24     2026113   1\n",
      "25     2081148   1\n",
      "26     2104012   0\n",
      "27     2138826   0\n",
      "28     2299519   1\n",
      "29     2344857   0\n",
      "..         ...  ..\n",
      "54     3486975   0\n",
      "55     3519022   1\n",
      "56     3611827   1\n",
      "57     3699991   0\n",
      "58     3713230   0\n",
      "59     3813783   0\n",
      "60     3884955   0\n",
      "61     3902469   0\n",
      "62     3912996   0\n",
      "63     3917422   1\n",
      "64     3972472   0\n",
      "65     3972956   0\n",
      "66     4104523   0\n",
      "67     4154182   0\n",
      "68     4275075   3\n",
      "69     4362730   1\n",
      "70     4601682   0\n",
      "71     5216908   0\n",
      "72     6346605   0\n",
      "73     6453038   1\n",
      "74     7129258   0\n",
      "75     7415617   0\n",
      "76     7774305   0\n",
      "77     8083695   0\n",
      "78     8263351   0\n",
      "79     8337695   1\n",
      "80     8432725   0\n",
      "81     8628223   0\n",
      "82     8658218   0\n",
      "83     9922944   0\n",
      "\n",
      "[84 rows x 2 columns]\n"
     ]
    }
   ],
   "source": [
    "testpath=r'D:\\脑科学\\NYU\\ADHD200_AAL_TCs_filtfix\\csv\\KKI_phenotypic.csv'\n",
    "\n",
    "with open(testpath, 'rt') as f:\n",
    "    lines = f.readlines()\n",
    "    print('长度',len(lines))#长度为0到83\n",
    "    a = [i.rstrip('\\n').split(',') for i in lines]\n",
    "    #print(a[1])\n",
    "    #print(a[0])#长度为23\n",
    "    df=pd.DataFrame(a,columns=['ScanDir ID', 'Site', 'Gender', 'Age', 'Handedness', 'DX', 'Secondary Dx ', 'ADHD Measure', 'ADHD Index', 'Inattentive', 'Hyper/Impulsive', 'IQ Measure', 'Verbal IQ', 'Performance IQ', 'Full2 IQ', 'Full4 IQ', 'Med Status', 'QC_Rest_1', 'QC_Rest_2', 'QC_Rest_3', 'QC_Rest_4', 'QC_Anatomical_1', 'QC_Anatomical_2','wu'])\n",
    "    print(\"加了表头的：\\n\",df.shape)\n",
    "    print(df[[\"ScanDir ID\",\"DX\"]])"
   ]
  },
  {
   "cell_type": "code",
   "execution_count": null,
   "metadata": {},
   "outputs": [],
   "source": []
  },
  {
   "cell_type": "code",
   "execution_count": null,
   "metadata": {},
   "outputs": [],
   "source": []
  }
 ],
 "metadata": {
  "kernelspec": {
   "display_name": "Python 3",
   "language": "python",
   "name": "python3"
  },
  "language_info": {
   "codemirror_mode": {
    "name": "ipython",
    "version": 3
   },
   "file_extension": ".py",
   "mimetype": "text/x-python",
   "name": "python",
   "nbconvert_exporter": "python",
   "pygments_lexer": "ipython3",
   "version": "3.6.7"
  }
 },
 "nbformat": 4,
 "nbformat_minor": 2
}
