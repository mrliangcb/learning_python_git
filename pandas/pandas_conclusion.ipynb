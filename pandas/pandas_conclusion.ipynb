{
 "cells": [
  {
   "cell_type": "code",
   "execution_count": 148,
   "metadata": {},
   "outputs": [],
   "source": [
    "import numpy as np\n",
    "import pandas as pd\n",
    "import os\n",
    "import matplotlib.pyplot as plt"
   ]
  },
  {
   "cell_type": "code",
   "execution_count": 116,
   "metadata": {},
   "outputs": [],
   "source": [
    "path=r'C:\\Users\\mrliangcb\\Desktop\\note\\extra_feature\\test.csv'#遇到逗号算一个列分割，遇到\\n转下一行\n",
    "df1 = pd.read_csv(path,nrows=None) #names=[\"a\",\"b\",\"c\"]标列名，这里没name就取第一行作为列名字，航标自动设置0~序号\n",
    "#header=None指的是说明这个文件第一行就是数据，没有列名。默认是有的，就会把第一行当做列名\n",
    "\n",
    "\n"
   ]
  },
  {
   "cell_type": "code",
   "execution_count": 117,
   "metadata": {},
   "outputs": [
    {
     "name": "stdout",
     "output_type": "stream",
     "text": [
      "\n",
      "1.读前5行\n",
      "               ID M/F Hand  Age  Educ  SES  MMSE  CDR  eTIV   nWBV    ASF  \\\n",
      "0  OAS1_0001_MR1   F    R   74   2.0  3.0  29.0  0.0  1344  0.743  1.306   \n",
      "1  OAS1_0002_MR1   F    R   55   4.0  1.0  29.0  0.0  1147  0.810  1.531   \n",
      "2  OAS1_0003_MR1   F    R   73   4.0  3.0  27.0  0.5  1454  0.708  1.207   \n",
      "3  OAS1_0004_MR1   M    R   28   NaN  NaN   NaN  NaN  1588  0.803  1.105   \n",
      "4  OAS1_0005_MR1   M    R   18   NaN  NaN   NaN  NaN  1737  0.848  1.010   \n",
      "\n",
      "   Delay  \n",
      "0    NaN  \n",
      "1    NaN  \n",
      "2    NaN  \n",
      "3    NaN  \n",
      "4    NaN  \n",
      "\n",
      "2.形状\n",
      " (12, 12)\n",
      "\n",
      "3.有哪些列:\n",
      " Index(['ID', 'M/F', 'Hand', 'Age', 'Educ', 'SES', 'MMSE', 'CDR', 'eTIV',\n",
      "       'nWBV', 'ASF', 'Delay'],\n",
      "      dtype='object')\n",
      "\n",
      "4.每个列的数据类型:\n",
      " Index(['ID', 'M/F', 'Hand', 'Age', 'Educ', 'SES', 'MMSE', 'CDR', 'eTIV',\n",
      "       'nWBV', 'ASF', 'Delay'],\n",
      "      dtype='object')\n"
     ]
    }
   ],
   "source": [
    "#一、拿到数据，先读属性\n",
    "print('\\n1.读前5行\\n',df1.head(5))#tail看尾巴\n",
    "print('\\n2.形状\\n',df1.shape)\n",
    "print('\\n3.有哪些列:\\n',df1.columns)\n",
    "print('\\n4.每个列的数据类型:\\n',df1.columns)"
   ]
  },
  {
   "cell_type": "code",
   "execution_count": 131,
   "metadata": {},
   "outputs": [
    {
     "name": "stdout",
     "output_type": "stream",
     "text": [
      "series过滤:\n",
      " 2    OAS1_0003_MR1\n",
      "Name: ID, dtype: object\n",
      "df过滤\n",
      "               ID M/F Hand  Age  Educ  SES  MMSE  CDR  eTIV   nWBV    ASF  \\\n",
      "2  OAS1_0003_MR1   F    R   73   4.0  3.0  27.0  0.5  1454  0.708  1.207   \n",
      "\n",
      "   Delay  \n",
      "2    NaN  \n",
      "              ID M/F Hand  Age  Educ  SES  MMSE  CDR  eTIV   nWBV    ASF  \\\n",
      "2  OAS1_0003_MR1   F    R   73   4.0  3.0  27.0  0.5  1454  0.708  1.207   \n",
      "\n",
      "   Delay  \n",
      "2    NaN  \n"
     ]
    }
   ],
   "source": [
    "#二、条件过滤方式\n",
    "    #1.series索引和data索引对比  series[series.dtypes!='object']\n",
    "        #这是series的筛选\n",
    "        a=df1.ID[df1['ID']=='OAS1_0003_MR1']#返回一个series,df['ID']=df.ID,\n",
    "        print('series过滤:\\n',a)\n",
    "        \n",
    "        #这是df的筛选\n",
    "        a=df1[df1['ID']=='OAS1_0003_MR1']#返回一个df，可以用\\\\和&&来连接判断语句\n",
    "        print('df过滤\\n',a)\n",
    "        a=df1[df1.loc[:,'ID']=='OAS1_0003_MR1']#返回df\n",
    "        print(a)\n",
    "        \n",
    "        #\n",
    "        \n",
    "        \n",
    "        \n",
    "        "
   ]
  },
  {
   "cell_type": "code",
   "execution_count": 140,
   "metadata": {},
   "outputs": [
    {
     "name": "stdout",
     "output_type": "stream",
     "text": [
      "(1)：标准选series方法\n",
      " 0      0\n",
      "1      1\n",
      "2      2\n",
      "3      3\n",
      "4      4\n",
      "5      5\n",
      "6      6\n",
      "7      7\n",
      "8      8\n",
      "9      9\n",
      "10    10\n",
      "11    11\n",
      "Name: ID, dtype: int32\n",
      "(1)返回df:\n",
      "    ID\n",
      "1   1\n",
      "2   2\n",
      "返回一个值:\n",
      "\n"
     ]
    },
    {
     "data": {
      "text/plain": [
       "pandas.core.series.Series"
      ]
     },
     "execution_count": 140,
     "metadata": {},
     "output_type": "execute_result"
    }
   ],
   "source": [
    "#三、索引对比\n",
    "    #1.返回series\n",
    "        #注意df[]返回series，df[[]]返回df\n",
    "        #返回series\n",
    "        \n",
    "        a=df1['ID']#[2]可以选值\n",
    "        print('(1)：标准选series方法\\n',a)\n",
    "        \n",
    "        #a=df1.ix[[2,3,4],['ID']]#多列的时候返回df，因为单列用[]，多列用[[]]\n",
    "        #print('(2)返回series:\\n',a)\n",
    "    ##返回df\n",
    "        a=df1[['ID']].loc[[1,2]]#因为第一个属性选了[[]]所以返回df，如果是[]则返回series,loc是不改变本身类型的，第一选列，第二loc选行\n",
    "        print('(1)返回df:\\n',a)\n",
    "    ##返回一个value\n",
    "        print('返回一个值:\\n')\n",
    "        df1.ID.loc[1]\n",
    "        df1.loc[3,'ID']\n",
    "        \n",
    "    ##选行\n",
    "        type(data.loc[  list[]  ])#返回df或者series\n",
    "    #选列\n",
    "        df[ list或者index  ]\n",
    "    \n",
    "    ##返回np\n",
    "        #df.values\n",
    "        \n",
    "    ##查找空值\n",
    "        #df[df.loc[:,'Age'].isnull()].index()\n",
    "    \n",
    "    ##一般最常用是loc"
   ]
  },
  {
   "cell_type": "code",
   "execution_count": 135,
   "metadata": {},
   "outputs": [
    {
     "name": "stdout",
     "output_type": "stream",
     "text": [
      "    ID M/F Hand  Age  Educ  SES  MMSE  CDR  eTIV   nWBV    ASF  Delay\n",
      "0    0   F    R   74   2.0  3.0  29.0  0.0  1344  0.743  1.306    NaN\n",
      "1    1   F    R   55   4.0  1.0  29.0  0.0  1147  0.810  1.531    NaN\n",
      "2    2   F    R   73   4.0  3.0  27.0  0.5  1454  0.708  1.207    NaN\n",
      "3    3   M   50   28   NaN  NaN   NaN  NaN  1588  0.803  1.105    NaN\n",
      "4    4   M    R   18   NaN  NaN   NaN  NaN  1737  0.848  1.010    NaN\n",
      "5    5   F    R   24   NaN  NaN   NaN  NaN  1131  0.862  1.551    NaN\n",
      "6    6   M    R   21   NaN  NaN   NaN  NaN  1516  0.830  1.157    NaN\n",
      "7    7   F    R   20   NaN  NaN   NaN  NaN  1505  0.843  1.166    NaN\n",
      "8    8   M    R   74   5.0  2.0  30.0  0.0  1636  0.689  1.073    NaN\n",
      "9    9   F    R   52   3.0  2.0  30.0  0.0  1321  0.827  1.329    NaN\n",
      "10  10   M    R   30   NaN  NaN   NaN  NaN  1574  0.842  1.115    NaN\n",
      "11  11   F    R   81   5.0  2.0  30.0  0.0  1664  0.679  1.055    NaN\n",
      "    ID M/F Hand  Age  Educ  SES  MMSE  CDR  eTIV   nWBV    ASF  Delay\n",
      "0    0   F    R   74   2.0  3.0  29.0  0.0  1344  0.743  1.306    NaN\n",
      "1    1   F    R   55   4.0  1.0  29.0  0.0  1147  0.810  1.531    NaN\n",
      "2    2   F    R   73   4.0  3.0  27.0  0.5  1454  0.708  1.207    NaN\n",
      "3    3   M   50   28   NaN  NaN   NaN  NaN  1588  0.803  1.105    NaN\n",
      "4    4   M    R   18   NaN  NaN   NaN  NaN  1737  0.848  1.010    NaN\n",
      "5    5   F    R   24   NaN  NaN   NaN  NaN  1131  0.862  1.551    NaN\n",
      "6    6   M    R   21   NaN  NaN   NaN  NaN  1516  0.830  1.157    NaN\n",
      "7    7   F    R   20   NaN  NaN   NaN  NaN  1505  0.843  1.166    NaN\n",
      "8    8   M    R   74   5.0  2.0  30.0  0.0  1636  0.689  1.073    NaN\n",
      "9    9   F    R   52   3.0  2.0  30.0  0.0  1321  0.827  1.329    NaN\n",
      "10  10   M    R   30   NaN  NaN   NaN  NaN  1574  0.842  1.115    NaN\n",
      "11  11   F    R   81   5.0  2.0  30.0  0.0  1664  0.679  1.055    NaN\n",
      "类型: <class 'int'>\n"
     ]
    },
    {
     "data": {
      "text/plain": [
       "50"
      ]
     },
     "execution_count": 135,
     "metadata": {},
     "output_type": "execute_result"
    }
   ],
   "source": [
    "#四、修改\n",
    "    df2=df1\n",
    "    #整列修改 \n",
    "    b=pd.Series(np.arange(12))\n",
    "    df2[['ID']]=b #直接取他的series出来改22可以改成series，赋值的时候，会对应series的行标，不是强硬赋值\n",
    "    print(df1)\n",
    "    \n",
    "    #只修改一个值\n",
    "    df1.Hand.loc[3]=50#选出来的就是一个value，然后赋值\n",
    "    print(df1)\n",
    "    df1.Hand.loc[3]\n",
    "    \n",
    "    #排列行标\n",
    "    #a=np.arange(0,data.shape[0])\n",
    "    #data.index=[a]\n",
    "    "
   ]
  },
  {
   "cell_type": "code",
   "execution_count": 130,
   "metadata": {},
   "outputs": [],
   "source": [
    "df1 = pd.read_csv(path,nrows=None) #names=[\"a\",\"b\",\"c\"]标列名，这里没name就取第一行作为列名字，航标自动设置0~序号"
   ]
  },
  {
   "cell_type": "code",
   "execution_count": null,
   "metadata": {},
   "outputs": [],
   "source": []
  },
  {
   "cell_type": "code",
   "execution_count": 110,
   "metadata": {},
   "outputs": [
    {
     "name": "stdout",
     "output_type": "stream",
     "text": [
      "[22, 22, 22, 22, 22, 22, 22, 22, 22, 22, 22, 22]\n",
      "[22, 'M', 22, 28, nan, nan, nan, nan, 1588, 0.8029999999999999, 1.105, nan]\n"
     ]
    }
   ],
   "source": [
    "#五、转换类型\n",
    "    #选一个一维的东西进行tolist()，一列、一行都可以作为一维\n",
    "    a=df1.ID.tolist()\n",
    "    print(a)\n",
    "    a=df1.loc[3].tolist()\n",
    "    print(a)\n",
    "    \n",
    "    #转numpy\n",
    "    #np.array()\n",
    "    \n",
    "    #转list\n",
    "    #.tolist()"
   ]
  },
  {
   "cell_type": "code",
   "execution_count": null,
   "metadata": {},
   "outputs": [],
   "source": [
    "#六、增\n",
    "    #1、result=pd.concat([x,y],axis=1)#1是水平拼接，0是垂直，而且拼接的时候对应index的拼接\n",
    "    \n",
    "    #2、df['新增的列名']=2 #可以复制value或者series或者list\n",
    "    s=pd.DataFrame({'all':[1,2,3],\n",
    "        'P1':[1,2,3],'P2':[1,2,3],\n",
    "        'P3':[1,2,3]},index=['0-30','30-60','60-82'])#大家都有的属性是放在'',关键字，私有的叫做index,,columns=['a','b']参数是选择显示哪些列\n",
    "    b=pd.Series([1,2],index=['0-30','d'])\n",
    "    s['add']=b\n",
    "    print(s) #因为se自己有index，所以赋值的时候，会匹配上data的inex，然后再赋值，没有对应index的不赋值\n",
    "    \n",
    "    #增加行\n",
    "    #da=np.array([[1,12,3]])\n",
    "    #df2=pd.DataFrame(da,columns=['imgID','ground_true','answer'])\n",
    "    #df3=df1.append(df2)\n",
    "    "
   ]
  },
  {
   "cell_type": "code",
   "execution_count": null,
   "metadata": {},
   "outputs": [],
   "source": [
    "#七、删除\n",
    "    #删除列\n",
    "    #data.drop(['ID'],axis=1,inplace=True)\n",
    "    \n",
    "    #删除行\n",
    "    #data.drop([0,1,2,3],axis=0)"
   ]
  },
  {
   "cell_type": "code",
   "execution_count": 156,
   "metadata": {},
   "outputs": [
    {
     "name": "stdout",
     "output_type": "stream",
     "text": [
      "   one  two  three  four\n",
      "a    0    1      2     3\n",
      "b    4    5      6     7\n",
      "c    8    9     10    11\n",
      "d   12   13     14    15\n",
      "       all  P1  P2  P3\n",
      "0-30     1   1   1   1\n",
      "30-60    2   2   2   2\n",
      "60-82    3   3   3   3\n"
     ]
    }
   ],
   "source": [
    "#八创建\n",
    "    #np创建\n",
    "    df2=pd.DataFrame(np.arange(16).reshape((4,4)),index=['a','b','c','d'],columns=['one','two','three','four'])\n",
    "    print(df2)\n",
    "    \n",
    "    #字典创建\n",
    "    s=pd.DataFrame({'all':[1,2,3],\n",
    "        'P1':[1,2,3],'P2':[1,2,3],\n",
    "        'P3':[1,2,3]},index=['0-30','30-60','60-82'])#大家都有的属性是放在'',关键字，私有的叫做index,,columns=['a','b']参数是选择显示哪些列\n",
    "    print(s)\n"
   ]
  },
  {
   "cell_type": "code",
   "execution_count": 159,
   "metadata": {},
   "outputs": [
    {
     "name": "stdout",
     "output_type": "stream",
     "text": [
      "       all  P1  P2  P3\n",
      "0-30     1   1   1   1\n",
      "30-60    2   2   2   2\n",
      "60-82    3   3   3   3\n"
     ]
    },
    {
     "data": {
      "image/png": "[encoded data removed]",
      "text/plain": [
       "<Figure size 432x288 with 1 Axes>"
      ]
     },
     "metadata": {
      "needs_background": "light"
     },
     "output_type": "display_data"
    }
   ],
   "source": [
    "#九、统计api功能\n",
    "    #按照某列的大小排列\n",
    "    #df.sort_values(by='Age')\n",
    "    \n",
    "    #求相关性\n",
    "    #df.corr()\n",
    "    \n",
    "    #计数\n",
    "    #df.ID.count()#相当于series.count()\n",
    "    \n",
    "    #统计频次\n",
    "    #df.Age.value_counts(ascending=True)#参数表示排列顺序\n",
    "    \n",
    "    #统计某个列  0出现的次数\n",
    "    #dict(df[0]value_counts())\n",
    "    \n",
    "    #普通排列\n",
    "    #np.sort(a,axis=0)\n",
    "    \n",
    "    #用df进行统计画图\n",
    "    s=pd.DataFrame({'all':[1,2,3],\n",
    "        'P1':[1,2,3],'P2':[1,2,3],\n",
    "        'P3':[1,2,3]},index=['0-30','30-60','60-82'])#大家都有的属性是放在'',关键字，私有的叫做index\n",
    "    print(s)\n",
    "    s.plot(kind='bar')\n",
    "    plt.show()\n",
    "    \n",
    "    \n",
    "    \n",
    "    "
   ]
  },
  {
   "cell_type": "code",
   "execution_count": 213,
   "metadata": {},
   "outputs": [
    {
     "name": "stdout",
     "output_type": "stream",
     "text": [
      "    0   1   2   3   4   name\n",
      "0  10  11  12  13  14  liang\n",
      "1  15  16  17  18  19   duan\n",
      "2  20  21  22  23  24   wang\n",
      "3  25  26  27  28  29    hua\n",
      "Index([0, 1, 2, 3, 4], dtype='object')\n",
      "    0   1   2   3   4\n",
      "0  10  11  12  13  14\n",
      "1  15  16  17  18  19\n",
      "2  20  21  22  23  24\n",
      "3  25  26  27  28  29\n",
      "          0         1         2         3         4   name\n",
      "0 -1.161895 -1.161895 -1.161895 -1.161895 -1.161895  liang\n",
      "1 -0.387298 -0.387298 -0.387298 -0.387298 -0.387298   duan\n",
      "2  0.387298  0.387298  0.387298  0.387298  0.387298   wang\n",
      "3  1.161895  1.161895  1.161895  1.161895  1.161895    hua\n",
      "          0         1         2         3         4   name\n",
      "0  1.000000 -1.161895 -1.161895 -1.161895 -1.161895  liang\n",
      "1  1.000000 -0.387298 -0.387298 -0.387298 -0.387298   duan\n",
      "2  0.387298  0.387298  0.387298  0.387298  0.387298   wang\n",
      "3  1.161895  1.161895  1.161895  1.161895  1.161895    hua\n",
      "0    0.000000\n",
      "1    0.000000\n",
      "2   -0.948560\n",
      "3    0.150052\n",
      "Name: 0, dtype: float64\n"
     ]
    }
   ],
   "source": [
    "#十、运算\n",
    "\n",
    "    #1、基本\n",
    "    df2=pd.DataFrame(np.arange(10,30,1).reshape((4,5)))#index=['a','b','c','d'],columns=['one','two','three','four']\n",
    "    df2['name']=['liang','duan','wang','hua']\n",
    "    print(df2)\n",
    "    #df2.loc[[1,2],[1,2]]\n",
    "    df2.dtypes\n",
    "    #先选出所以可以计算的类型\n",
    "    df_col_index=df2.dtypes[df2.dtypes!='object'].index\n",
    "    print(df_col_index)#列名的index，因为列名在dtype的series里面是作为行index\n",
    "    df_num=df2[df_col_index] #把数字类型的列拿出来\n",
    "    print(df_num)\n",
    "    #print(df_num)\n",
    "    ##对每个元素做公式运算\n",
    "    a=df_num.apply(lambda x:(x-x.mean())/x.std())\n",
    "    #拿出来计算之后，又赋值给回df2   选取多个series进行赋值\n",
    "    df2[df_col_index]=a\n",
    "    print(df2)\n",
    "    #完成计算（通常是拿出来计算，然后又赋值回去）\n",
    "    \n",
    "    #2、拿出来算np.log  因为x要是正数的\n",
    "    \n",
    "    df2[0].loc[[0,1]]=1 #选出一个series，然后选第1第2个值\n",
    "    print(df2)\n",
    "    print(np.log(df2[0]))\n",
    "    \n",
    "    "
   ]
  },
  {
   "cell_type": "code",
   "execution_count": 6,
   "metadata": {},
   "outputs": [
    {
     "name": "stdout",
     "output_type": "stream",
     "text": [
      "<class 'numpy.int64'>\n"
     ]
    }
   ],
   "source": [
    "#十一、读取，可以用来读txt，csv好方便\n",
    "    import pandas as pd\n",
    "    path=r'C:\\Users\\mrliangcb\\Desktop\\note\\extra_feature\\open\\labels.txt'\n",
    "    a=pd.read_csv(path,header=None,sep=',')#说明遇到,则认为是下一个value,没有列名\n",
    "    print(type(a.values[0,0]))#返回的是二维的np\n",
    "   \n"
   ]
  },
  {
   "cell_type": "code",
   "execution_count": null,
   "metadata": {},
   "outputs": [],
   "source": [
    "#十二、保存\n",
    "    #data.to_csv(path,sep=',',index=0)#不同value之间用逗号隔开,na_rep='NA',float_format='%.2f'保留两位小数,header=0不保留列名,index=0不保留行索引\n",
    "    \n",
    "    #np.savetxt(path,c,fmt='%d')#03d表示整数为3位，不够的话前面添0"
   ]
  },
  {
   "cell_type": "code",
   "execution_count": 157,
   "metadata": {},
   "outputs": [
    {
     "name": "stdout",
     "output_type": "stream",
     "text": [
      "              ID M/F Hand  Age  Educ  SES  MMSE  CDR  eTIV   nWBV    ASF  \\\n",
      "1  OAS1_0002_MR1   F    R   55   4.0  1.0  29.0  0.0  1147  0.810  1.531   \n",
      "2  OAS1_0003_MR1   F    R   73   4.0  3.0  27.0  0.5  1454  0.708  1.207   \n",
      "3  OAS1_0004_MR1   M    R   28   NaN  NaN   NaN  NaN  1588  0.803  1.105   \n",
      "\n",
      "   Delay  \n",
      "1    NaN  \n",
      "2    NaN  \n",
      "3    NaN  \n",
      "    Age Hand\n",
      "0    74    R\n",
      "1    55    R\n",
      "2    73    R\n",
      "3    28    R\n",
      "4    18    R\n",
      "5    24    R\n",
      "6    21    R\n",
      "7    20    R\n",
      "8    74    R\n",
      "9    52    R\n",
      "10   30    R\n",
      "11   81    R\n",
      "0     OAS1_0001_MR1\n",
      "1     OAS1_0002_MR1\n",
      "2     OAS1_0003_MR1\n",
      "3     OAS1_0004_MR1\n",
      "4     OAS1_0005_MR1\n",
      "5     OAS1_0006_MR1\n",
      "6     OAS1_0007_MR1\n",
      "7     OAS1_0009_MR1\n",
      "8     OAS1_0010_MR1\n",
      "9     OAS1_0011_MR1\n",
      "10    OAS1_0012_MR1\n",
      "11    OAS1_0013_MR1\n",
      "Name: ID, dtype: object\n",
      "['OAS1_0001_MR1', 'F', 'R', 74, 2.0, 3.0, 29.0, 0.0, 1344, 0.743, 1.306, nan]\n"
     ]
    }
   ],
   "source": [
    "#选取比较\n",
    "#返回df\n",
    "print(data.loc[[1,2,3]])\n",
    "print(data[['Age','Hand']])\n",
    "#返回series，可以tolist\n",
    "print(data['ID'])\n",
    "\n",
    "#行没有series，但可以这样取list，而且数字类型还是数字类型\n",
    "c=np.array(data)\n",
    "print(c[0].tolist())\n"
   ]
  },
  {
   "cell_type": "code",
   "execution_count": null,
   "metadata": {},
   "outputs": [],
   "source": []
  },
  {
   "cell_type": "code",
   "execution_count": null,
   "metadata": {},
   "outputs": [],
   "source": []
  },
  {
   "cell_type": "code",
   "execution_count": null,
   "metadata": {},
   "outputs": [],
   "source": []
  }
 ],
 "metadata": {
  "kernelspec": {
   "display_name": "Python 3",
   "language": "python",
   "name": "python3"
  },
  "language_info": {
   "codemirror_mode": {
    "name": "ipython",
    "version": 3
   },
   "file_extension": ".py",
   "mimetype": "text/x-python",
   "name": "python",
   "nbconvert_exporter": "python",
   "pygments_lexer": "ipython3",
   "version": "3.6.7"
  }
 },
 "nbformat": 4,
 "nbformat_minor": 2
}
