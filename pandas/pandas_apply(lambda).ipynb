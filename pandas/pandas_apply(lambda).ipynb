{
 "cells": [
  {
   "cell_type": "code",
   "execution_count": 23,
   "metadata": {},
   "outputs": [],
   "source": [
    "import numpy as np\n",
    "import pandas as pd\n",
    "import os"
   ]
  },
  {
   "cell_type": "code",
   "execution_count": 28,
   "metadata": {},
   "outputs": [
    {
     "name": "stdout",
     "output_type": "stream",
     "text": [
      "                       video name  1  2  3  4  5  6  7  8  9    ...     21  \\\n",
      "0  src01_hrc00.avi                 3  4  4  4  5  5  4  4  5    ...      4   \n",
      "1  src01_hrc01.avi                 2  1  1  3  2  1  1  1  1    ...      1   \n",
      "2  src01_hrc02.avi                 1  1  1  2  2  1  2  2  2    ...      3   \n",
      "3  src01_hrc03.avi                 2  2  3  3  2  2  2  2  3    ...      2   \n",
      "4  src01_hrc04.avi                 2  2  2  4  2  2  2  3  3    ...      4   \n",
      "\n",
      "   22  23  24  25  26  27  28  29       MOS  \n",
      "0   5   4   4   5   4   5   4   5  4.214286  \n",
      "1   1   2   1   2   1   1   1   2  1.285714  \n",
      "2   4   2   1   1   2   2   1   2  1.821429  \n",
      "3   1   2   1   2   2   1   2   3  2.035714  \n",
      "4   3   3   2   3   4   4   3   3  2.750000  \n",
      "\n",
      "[5 rows x 31 columns]\n"
     ]
    }
   ],
   "source": [
    "path=r'./test.csv'#遇到逗号算一个列分割，遇到\\n转下一行\n",
    "df1 = pd.read_csv(path,nrows=None)\n",
    "print(df1.head(5))\n",
    "#print(df1.dtypes)\n",
    "#print(df1.columns)"
   ]
  },
  {
   "cell_type": "code",
   "execution_count": 29,
   "metadata": {},
   "outputs": [
    {
     "name": "stdout",
     "output_type": "stream",
     "text": [
      "                       video name  1  2  3  4  5  6  7  8  9  ...    22  23  \\\n",
      "0  src01_hrc00.avi                 3  4  4  4  5  5  4  4  5  ...     5   4   \n",
      "1  src01_hrc01.avi                 2  1  1  3  2  1  1  1  1  ...     1   2   \n",
      "2  src01_hrc02.avi                 1  1  1  2  2  1  2  2  2  ...     4   2   \n",
      "\n",
      "   24  25  26  27  28  29       MOS  Value  \n",
      "0   4   5   4   5   4   5  4.214286      7  \n",
      "1   1   2   1   1   1   2  1.285714      3  \n",
      "2   1   1   2   2   1   2  1.821429      2  \n",
      "\n",
      "[3 rows x 32 columns]\n",
      "                       video name  1  2  3  4  5  6  7  8  9  ...    22  23  \\\n",
      "0  src01_hrc00.avi                 3  4  4  4  5  5  4  4  5  ...     5   4   \n",
      "1  src01_hrc01.avi                 2  1  1  3  2  1  1  1  1  ...     1   2   \n",
      "2  src01_hrc02.avi                 1  1  1  2  2  1  2  2  2  ...     4   2   \n",
      "\n",
      "   24  25  26  27  28  29       MOS  Value  \n",
      "0   4   5   4   5   4   5  4.214286      7  \n",
      "1   1   2   1   1   1   2  1.285714      3  \n",
      "2   1   1   2   2   1   2  1.821429      2  \n",
      "\n",
      "[3 rows x 32 columns]\n"
     ]
    }
   ],
   "source": [
    "#1、列和列之间相加\n",
    "def my_test(a, b):\n",
    "    return a + b\n",
    " \n",
    "df1['Value'] = df1.apply(lambda row: my_test(row['1'], row['2']), axis=1)\n",
    "print(df1.head(3))\n",
    "\n",
    "\n",
    "df1['Value'] = df1.apply(lambda row: my_test(row['1'], row['2']), axis=1)#返回列\n",
    "print(df1.head(3))\n"
   ]
  },
  {
   "cell_type": "code",
   "execution_count": 16,
   "metadata": {},
   "outputs": [
    {
     "name": "stdout",
     "output_type": "stream",
     "text": [
      "        exam1 exam2\n",
      "Andre       E     E\n",
      "Barry       B     B\n",
      "Chris       C     C\n",
      "Dan         C     C\n",
      "Emilio      B     B\n",
      "Fred        C     C\n",
      "Greta       A     A\n",
      "Humbert     D     D\n",
      "Ivan        A     A\n",
      "James       B     B\n"
     ]
    }
   ],
   "source": [
    "#2:映射替换\n",
    "\n",
    "def convert_grades_curve(exam_grades):\n",
    "    return pd.qcut(exam_grades, [0, 0.1, 0.2, 0.5, 0.8, 1], labels=['E', 'D', 'C', 'B', 'A'])\n",
    "\n",
    "grades_df = pd.DataFrame(\n",
    "    data={'exam1': [43, 81, 78, 75, 89, 70, 91, 65, 98, 87],\n",
    "          'exam2': [24, 63, 56, 56, 67, 51, 79, 46, 72, 60]},\n",
    "    index=['Andre', 'Barry', 'Chris', 'Dan', 'Emilio', \n",
    "           'Fred', 'Greta', 'Humbert', 'Ivan', 'James']\n",
    ")\n",
    "\n",
    "print(grades_df.apply(convert_grades_curve))"
   ]
  },
  {
   "cell_type": "code",
   "execution_count": 31,
   "metadata": {},
   "outputs": [
    {
     "name": "stdout",
     "output_type": "stream",
     "text": [
      "   score\n",
      "0     98\n",
      "1     88\n",
      "2     37\n",
      "3     68\n",
      "4     86\n",
      "5     33\n",
      "   score level\n",
      "0     98     A\n",
      "1     88     B\n",
      "2     37     C\n",
      "3     68     B\n",
      "4     86     B\n",
      "5     33     C\n"
     ]
    }
   ],
   "source": [
    "#3.lambda代替for \n",
    "\n",
    "list = [98,88,37,68,86,33]\n",
    " \n",
    "df = pd.DataFrame(list, columns=['score']) # convert list to dataframe\n",
    "print(df)\n",
    " \n",
    "def classes(df):\n",
    "    for i in range(len(df)):\n",
    "        if df['score'] < 60:\n",
    "            df['level'] = 'C'\n",
    "        elif df['score'] > 90:\n",
    "            df['level'] = 'A'\n",
    "        else:\n",
    "            df['level'] = 'B'\n",
    "    return df\n",
    "\n",
    "#for循环方法（低效）\n",
    "#df = classes(df)\n",
    "\n",
    "#lambda方法（高效）\n",
    "df = df.apply(lambda r: classes(r), axis=1)#返回整个dataframe\n",
    "print(df)\n",
    "\n"
   ]
  },
  {
   "cell_type": "code",
   "execution_count": null,
   "metadata": {},
   "outputs": [],
   "source": []
  }
 ],
 "metadata": {
  "kernelspec": {
   "display_name": "Python 3",
   "language": "python",
   "name": "python3"
  },
  "language_info": {
   "codemirror_mode": {
    "name": "ipython",
    "version": 3
   },
   "file_extension": ".py",
   "mimetype": "text/x-python",
   "name": "python",
   "nbconvert_exporter": "python",
   "pygments_lexer": "ipython3",
   "version": "3.6.7"
  }
 },
 "nbformat": 4,
 "nbformat_minor": 2
}
