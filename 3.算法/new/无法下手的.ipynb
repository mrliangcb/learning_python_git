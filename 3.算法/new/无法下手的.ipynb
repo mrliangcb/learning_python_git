{
 "cells": [
  {
   "cell_type": "code",
   "execution_count": null,
   "metadata": {},
   "outputs": [],
   "source": [
    "# 我们可以用2*1的小矩形横着或者竖着去覆盖更大的矩形。\n",
    "# 请问用n个2*1的小矩形无重叠地覆盖一个2*n的大矩形，总共有多少种方法？"
   ]
  },
  {
   "cell_type": "code",
   "execution_count": null,
   "metadata": {},
   "outputs": [],
   "source": [
    "# 首先是不可以重复，因为砖块的面积和刚好等于 全局的"
   ]
  },
  {
   "cell_type": "code",
   "execution_count": 1,
   "metadata": {},
   "outputs": [],
   "source": [
    "# https://www.nowcoder.com/questionTerminal/72a5a919508a4251859fb2cfb987a0e6?f=discussion"
   ]
  },
  {
   "cell_type": "code",
   "execution_count": null,
   "metadata": {},
   "outputs": [],
   "source": [
    "相当于变相dp   dp[i]=dp[i-1]+dp[i-2]"
   ]
  },
  {
   "cell_type": "code",
   "execution_count": 3,
   "metadata": {},
   "outputs": [],
   "source": [
    "class Solution:\n",
    "    def rectCover(self,n):\n",
    "        # write code here\n",
    "        # 这种覆盖问题都不怎么会\n",
    "        # 有点像二维dp\n",
    "        # 从目的推过去  每个格子可以由左边和下面推过来\n",
    "        if number==0:\n",
    "            return 0\n",
    "        \n",
    "        dp=[0 for i in range(n+1)]\n",
    "        dp[0]=1\n",
    "        for i in range(1,n+1):\n",
    "            dp[i]=dp[i-1]\n",
    "            if i>=2:\n",
    "                dp[i]+=dp[i-2]\n",
    "        return dp[-1]"
   ]
  },
  {
   "cell_type": "code",
   "execution_count": null,
   "metadata": {},
   "outputs": [],
   "source": []
  },
  {
   "cell_type": "code",
   "execution_count": null,
   "metadata": {},
   "outputs": [],
   "source": [
    "# 连续和为S 求连续的序列"
   ]
  },
  {
   "cell_type": "code",
   "execution_count": null,
   "metadata": {},
   "outputs": [],
   "source": [
    "# 用双指针，然后等差数列求和公式 (a0+an)*n /2"
   ]
  },
  {
   "cell_type": "code",
   "execution_count": 102,
   "metadata": {},
   "outputs": [],
   "source": [
    "class Solution:\n",
    "    def FindContinuousSequence(self, tsum):\n",
    "        # write code here\n",
    "        # 和为S的连续正数序列\n",
    "        # 从小到大排序\n",
    "        # 我想的是，当某一序列不够S，则往右扩展\n",
    "        # 但大于S时候，又没有=S，那左边右移又重新增长\n",
    "        \n",
    "        # 但不用这样重叠操作,指针都是在往右移,不会往左\n",
    "        # 相当于，大了的话，就考左边的指针(控制小数值微调)\n",
    "        # 假如S=5  某个序列一定含有3的，那在3的时候会>S\n",
    "        if tsum==0 or tsum==1:\n",
    "            return []\n",
    "        S=tsum\n",
    "        cnt=0\n",
    "        i=1\n",
    "        j=2\n",
    "        tem=0\n",
    "        out=[]\n",
    "        while tem!=S and j<=S and i<j:\n",
    "            tem=((i+j)/2)*(j-i+1)\n",
    "            if tem==S:\n",
    "                print(i,j)\n",
    "                out.append([k for k in range(i,j+1)])\n",
    "            if tem<S:\n",
    "                j+=1\n",
    "            if tem>S:\n",
    "                i+=1\n",
    "\n",
    "        return out"
   ]
  },
  {
   "cell_type": "code",
   "execution_count": 105,
   "metadata": {},
   "outputs": [
    {
     "name": "stdout",
     "output_type": "stream",
     "text": [
      "1 2\n"
     ]
    },
    {
     "data": {
      "text/plain": [
       "[[1, 2]]"
      ]
     },
     "execution_count": 105,
     "metadata": {},
     "output_type": "execute_result"
    }
   ],
   "source": [
    "exam=Solution()\n",
    "exam.FindContinuousSequence(3)"
   ]
  },
  {
   "cell_type": "code",
   "execution_count": 104,
   "metadata": {},
   "outputs": [],
   "source": [
    "class Solution:\n",
    "    def FindContinuousSequence(self, tsum):\n",
    "        # write code here\n",
    "        # 和为S的连续正数序列\n",
    "        # 从小到大排序\n",
    "        # 我想的是，当某一序列不够S，则往右扩展\n",
    "        # 但大于S时候，又没有=S，那左边右移又重新增长\n",
    "        \n",
    "        # 但不用这样重叠操作,指针都是在往右移,不会往左\n",
    "        # 相当于，大了的话，就考左边的指针(控制小数值微调)\n",
    "        # 假如S=5  某个序列一定含有3的，那在3的时候会>S\n",
    "        if tsum<3:\n",
    "            return []\n",
    "        S=tsum\n",
    "        \n",
    "        i=1\n",
    "        j=2\n",
    "        tem=0\n",
    "        out=[]\n",
    "        while  j<=S and i<j:\n",
    "            tem=((i+j)/2)*(j-i+1)\n",
    "            if tem==S:\n",
    "                print(i,j)\n",
    "                out.append([k for k in range(i,j+1)])\n",
    "                \n",
    "                break\n",
    "                \n",
    "            if tem<S:\n",
    "                j+=1\n",
    "            if tem>S:\n",
    "                i+=1\n",
    "\n",
    "        return out"
   ]
  },
  {
   "cell_type": "code",
   "execution_count": null,
   "metadata": {},
   "outputs": [],
   "source": []
  },
  {
   "cell_type": "code",
   "execution_count": null,
   "metadata": {},
   "outputs": [],
   "source": []
  },
  {
   "cell_type": "code",
   "execution_count": null,
   "metadata": {},
   "outputs": [],
   "source": []
  },
  {
   "cell_type": "code",
   "execution_count": null,
   "metadata": {},
   "outputs": [],
   "source": []
  },
  {
   "cell_type": "code",
   "execution_count": 1,
   "metadata": {},
   "outputs": [],
   "source": [
    "# 矩阵路径问题\n",
    "# 剑指 矩阵中的路径\n",
    "# 迷宫问题\n",
    "# 贪心匹配"
   ]
  },
  {
   "cell_type": "code",
   "execution_count": 14,
   "metadata": {},
   "outputs": [
    {
     "data": {
      "text/plain": [
       "[0, 1, 2, 3, 4, 5, 6, 7, 8, 9, 10, 11]"
      ]
     },
     "execution_count": 14,
     "metadata": {},
     "output_type": "execute_result"
    }
   ],
   "source": [
    "# 先使一维数组变成二维的\n",
    "r=3\n",
    "c=4\n",
    "a=list(range(12))\n",
    "a"
   ]
  },
  {
   "cell_type": "code",
   "execution_count": 15,
   "metadata": {},
   "outputs": [
    {
     "data": {
      "text/plain": [
       "[[0, 1, 2, 3], [4, 5, 6, 7], [8, 9, 10, 11]]"
      ]
     },
     "execution_count": 15,
     "metadata": {},
     "output_type": "execute_result"
    }
   ],
   "source": [
    "mat=[]\n",
    "for i in range(r):\n",
    "    mat.append(a[i*(c):i*c+r+1])\n",
    "mat\n",
    "\n",
    "\n",
    "\n"
   ]
  },
  {
   "cell_type": "code",
   "execution_count": 26,
   "metadata": {},
   "outputs": [],
   "source": [
    "# 网友解答 100ac\n",
    "class Solution:\n",
    "    def hasPath(self, board, row, col, word):\n",
    "        self.col, self.row = col, row\n",
    "        board = [list(board[col * i:col * i + col]) for i in range(row)]\n",
    "        \n",
    "        for i in range(row):\n",
    "            for j in range(col):\n",
    "                if board[i][j] == word[0]:#匹配首字符\n",
    "                    self.b = False\n",
    "                    self.search(board, word[1:], [(i, j)], i, j)\n",
    "                    if self.b:#贪心：只要有一次搜索成功了，那就直接退出\n",
    "                        return True\n",
    "        return False\n",
    "    \n",
    "    #基于搜索，没有返回的\n",
    "    def search(self, board, word, dict, i, j):# 用字典存路径，dict+[]，上下层间没有影响 ，也可以用 矩阵存，但要记得回退的时候要重置\n",
    "        if word == \"\":\n",
    "            self.b = True\n",
    "            return\n",
    "        #看四个方向有没有匹配的，如果有，而且没有走过，那就走一下\n",
    "        if j != 0 and (i, j - 1) not in dict and board[i][j - 1] == word[0]:\n",
    "            self.search(board, word[1:], dict + [(i, j - 1)], i, j - 1)\n",
    "        if i != 0 and (i - 1, j) not in dict and board[i - 1][j] == word[0]:\n",
    "            self.search(board, word[1:], dict + [(i - 1, j)], i - 1, j)\n",
    "        if j != self.col - 1 and (i, j + 1) not in dict and board[i][j + 1] == word[0]:\n",
    "            self.search(board, word[1:], dict + [(i, j + 1)], i, j + 1)\n",
    "        if i != self.row - 1 and (i + 1, j) not in dict and board[i + 1][j] == word[0]:\n",
    "            self.search(board, word[1:], dict + [(i + 1, j)], i + 1, j)\n",
    "        # 如果要用矩阵存路径 那检查完4个之后假如不匹配就要退掉现路径 比较麻烦\n",
    "        "
   ]
  },
  {
   "cell_type": "code",
   "execution_count": 68,
   "metadata": {},
   "outputs": [],
   "source": [
    "#已经知道ij是匹配了的，直接用递归找上下左右\n",
    "class Solution:\n",
    "    def hasPath(self, board, row, col, word):\n",
    "        self.col=col\n",
    "        self.row=row\n",
    "        mat=[]\n",
    "        for i in range(row):\n",
    "            mat.append(list(board[i*(col):i*col+col]))\n",
    "        print(mat)\n",
    "        for i in range(row):\n",
    "            for j in range(col):#这个是找开头的\n",
    "                self.flag=False\n",
    "                dic=[]\n",
    "                \n",
    "                if mat[i][j]==word[0]:#首匹配\n",
    "                    self.search(mat,word[1:],i,j,dic+[(i,j)])#记得list不能+（） 要list+[()]\n",
    "                if self.flag:\n",
    "                    return True\n",
    "        return False\n",
    "    def search(self,mat,word,i,j,dic):\n",
    "        #结束条件\n",
    "        if not word:\n",
    "            self.flag=True\n",
    "            return\n",
    "        #如果word还有东西，那就搜索一下\n",
    "        #如果有左，而且左边还没遍历，而且元素等于word的首\n",
    "        \n",
    "        if j!=0 and  (i,j-1) not in dic and mat[i][j-1]==word[0]:\n",
    "            self.search(mat,word[1:],i,j-1,dic+[(i,j-1)])\n",
    "        #上\n",
    "        if i!=0 and  (i-1,j) not in dic and mat[i-1][j]==word[0]:\n",
    "            self.search(mat,word[1:],i-1,j,dic+[(i-1,j)])\n",
    "        # 右\n",
    "        if j!=(self.col-1) and  (i,j+1) not in dic and mat[i][j+1]==word[0]:\n",
    "            self.search(mat,word[1:],i,j+1,dic+[(i,j+1)])\n",
    "        # 下\n",
    "        if i!=self.row-1 and  (i+1,j) not in dic and mat[i+1][j]==word[0]:\n",
    "            self.search(mat,word[1:],i+1,j,dic+[(i+1,j)])\n"
   ]
  },
  {
   "cell_type": "code",
   "execution_count": 69,
   "metadata": {},
   "outputs": [
    {
     "name": "stdout",
     "output_type": "stream",
     "text": [
      "[['A', 'B', 'C', 'E'], ['S', 'F', 'C', 'S'], ['A', 'D', 'E', 'E']]\n"
     ]
    },
    {
     "data": {
      "text/plain": [
       "True"
      ]
     },
     "execution_count": 69,
     "metadata": {},
     "output_type": "execute_result"
    }
   ],
   "source": [
    "exa=Solution()\n",
    "exa.hasPath(\"ABCESFCSADEE\",3,4,\"SEE\")"
   ]
  },
  {
   "cell_type": "code",
   "execution_count": 70,
   "metadata": {},
   "outputs": [
    {
     "ename": "NameError",
     "evalue": "name '用例' is not defined",
     "output_type": "error",
     "traceback": [
      "\u001b[1;31m---------------------------------------------------------------------------\u001b[0m",
      "\u001b[1;31mNameError\u001b[0m                                 Traceback (most recent call last)",
      "\u001b[1;32m<ipython-input-70-c6689df687dd>\u001b[0m in \u001b[0;36m<module>\u001b[1;34m\u001b[0m\n\u001b[1;32m----> 1\u001b[1;33m \u001b[0m用例\u001b[0m\u001b[1;33m\u001b[0m\u001b[1;33m\u001b[0m\u001b[0m\n\u001b[0m\u001b[0;32m      2\u001b[0m \u001b[1;34m\"A\"\u001b[0m\u001b[1;33m,\u001b[0m\u001b[1;36m1\u001b[0m\u001b[1;33m,\u001b[0m\u001b[1;36m1\u001b[0m\u001b[1;33m,\u001b[0m\u001b[1;34m\"A\"\u001b[0m\u001b[1;33m\u001b[0m\u001b[1;33m\u001b[0m\u001b[0m\n\u001b[0;32m      3\u001b[0m \u001b[1;34m\"ABCEHJIGSFCSLOPQADEEMNOEADIDEJFMVCEIFGGS\"\u001b[0m\u001b[1;33m,\u001b[0m\u001b[1;36m5\u001b[0m\u001b[1;33m,\u001b[0m\u001b[1;36m8\u001b[0m\u001b[1;33m,\u001b[0m\u001b[1;34m\"SLHECCEIDEJFGGFIE\"\u001b[0m\u001b[1;33m\u001b[0m\u001b[1;33m\u001b[0m\u001b[0m\n\u001b[0;32m      4\u001b[0m \u001b[1;34m\"ABCESFCSADEE\"\u001b[0m\u001b[1;33m,\u001b[0m\u001b[1;36m3\u001b[0m\u001b[1;33m,\u001b[0m\u001b[1;36m4\u001b[0m\u001b[1;33m,\u001b[0m\u001b[1;34m\"SEE\"\u001b[0m\u001b[1;33m\u001b[0m\u001b[1;33m\u001b[0m\u001b[0m\n",
      "\u001b[1;31mNameError\u001b[0m: name '用例' is not defined"
     ]
    }
   ],
   "source": [
    "用例\n",
    "\"A\",1,1,\"A\"\n",
    "\"ABCEHJIGSFCSLOPQADEEMNOEADIDEJFMVCEIFGGS\",5,8,\"SLHECCEIDEJFGGFIE\"\n",
    "\"ABCESFCSADEE\",3,4,\"SEE\""
   ]
  },
  {
   "cell_type": "code",
   "execution_count": 71,
   "metadata": {},
   "outputs": [],
   "source": [
    "# 让递归判断自己，好像很麻烦，不好算\n",
    "class Solution:\n",
    "    def hasPath(self, board, row, col, word):\n",
    "        self.col=col\n",
    "        self.row=row\n",
    "        mat=[]\n",
    "        for i in range(row):\n",
    "            mat.append(board[i*(col):i*col+col])\n",
    "        print(mat)\n",
    "        for i in range(row):\n",
    "            for j in range(col):#这个是找开头的\n",
    "                self.flag=False\n",
    "                dic=[]\n",
    "                self.search(mat,word,i,j,dic)\n",
    "                if self.flag:\n",
    "                    return True\n",
    "        return False\n",
    "    def search(self,mat,word,i,j,dic):\n",
    "        #结束条件\n",
    "        \n",
    "        #如果word还有东西，那就搜索一下\n",
    "        # 判断自己\n",
    "        if mat[i][j]==word[0] and (i,j) not in dic:\n",
    "            #如果匹配而且自己不在路径里，那就走下一步\n",
    "            print('合适',i,j,word)\n",
    "            if not word[1:]:\n",
    "                self.flag=True\n",
    "                return\n",
    "            \n",
    "            #如果有左，而且左边还没遍历，而且元素等于word的首\n",
    "            if j!=0 :\n",
    "                self.search(mat,word[1:],i,j-1,dic+[(i,j)])#已经走了自己，然后去探索左边\n",
    "            #上\n",
    "            if i!=0:\n",
    "                self.search(mat,word[1:],i-1,j,dic+[(i,j)])\n",
    "            # 右\n",
    "            if j!=(self.col-1):\n",
    "                self.search(mat,word[1:],i,j+1,dic+[(i,j)])\n",
    "            # 下\n",
    "            if i!=self.row-1:\n",
    "                self.search(mat,word[1:],i+1,j,dic+[(i,j)])\n"
   ]
  },
  {
   "cell_type": "code",
   "execution_count": 90,
   "metadata": {},
   "outputs": [],
   "source": [
    "# -*- coding:utf-8 -*-\n",
    "class Solution:\n",
    "    # s, pattern都是字符串\n",
    "    def match(self, s, pattern):\n",
    "        # write code here\n",
    "        if len(s)==0 and len(pattern)==0:\n",
    "            return True\n",
    "        \n",
    "        j=0\n",
    "        for i in range(len(s)):\n",
    "            if j==len(pattern)-1:\n",
    "                break\n",
    "            if pattern[j] not in ['*','.']:\n",
    "                if pattern[j]==s[i]and j<len(pattern)-1:\n",
    "                    j+=1\n",
    "                else:\n",
    "                    j=0\n",
    "                continue\n",
    "            else:\n",
    "                if pattern[j]=='.'and j<len(pattern)-1:\n",
    "                    j+=1\n",
    "                    \n",
    "                    continue\n",
    "                if pattern[j]=='*':\n",
    "                    if s[i]==pattern[j-1] and j<len(pattern)-1:\n",
    "                        j+=1\n",
    "                    else:\n",
    "                        j=0\n",
    "                    continue\n",
    "        print(j)\n",
    "        if j==len(pattern)-1:\n",
    "            return True\n",
    "        return False\n",
    "        \n",
    "        \n",
    "        "
   ]
  },
  {
   "cell_type": "code",
   "execution_count": 91,
   "metadata": {},
   "outputs": [
    {
     "name": "stdout",
     "output_type": "stream",
     "text": [
      "2\n"
     ]
    },
    {
     "data": {
      "text/plain": [
       "True"
      ]
     },
     "execution_count": 91,
     "metadata": {},
     "output_type": "execute_result"
    }
   ],
   "source": [
    "exa=Solution()\n",
    "exa.match('\",\"','\",\"')"
   ]
  },
  {
   "cell_type": "code",
   "execution_count": null,
   "metadata": {},
   "outputs": [],
   "source": []
  }
 ],
 "metadata": {
  "kernelspec": {
   "display_name": "Python 3",
   "language": "python",
   "name": "python3"
  },
  "language_info": {
   "codemirror_mode": {
    "name": "ipython",
    "version": 3
   },
   "file_extension": ".py",
   "mimetype": "text/x-python",
   "name": "python",
   "nbconvert_exporter": "python",
   "pygments_lexer": "ipython3",
   "version": "3.6.7"
  }
 },
 "nbformat": 4,
 "nbformat_minor": 2
}
