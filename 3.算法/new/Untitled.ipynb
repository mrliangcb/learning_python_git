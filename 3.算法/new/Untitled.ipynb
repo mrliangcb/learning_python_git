{
 "cells": [
  {
   "cell_type": "code",
   "execution_count": 2,
   "metadata": {},
   "outputs": [
    {
     "name": "stdout",
     "output_type": "stream",
     "text": [
      "2 2\n"
     ]
    },
    {
     "data": {
      "text/plain": [
       "(2, 2)"
      ]
     },
     "execution_count": 2,
     "metadata": {},
     "output_type": "execute_result"
    }
   ],
   "source": [
    "x,y=list(map(int,input().strip().split(' ')))\n",
    "x,y"
   ]
  },
  {
   "cell_type": "code",
   "execution_count": 10,
   "metadata": {},
   "outputs": [],
   "source": [
    "A=[1,-2,3,4]\n",
    "B=[1,2,-3,4]"
   ]
  },
  {
   "cell_type": "code",
   "execution_count": 5,
   "metadata": {},
   "outputs": [
    {
     "data": {
      "text/plain": [
       "[1, 2, 3, 4]"
      ]
     },
     "execution_count": 5,
     "metadata": {},
     "output_type": "execute_result"
    }
   ],
   "source": [
    "sorted(A)"
   ]
  },
  {
   "cell_type": "code",
   "execution_count": 11,
   "metadata": {},
   "outputs": [
    {
     "name": "stdout",
     "output_type": "stream",
     "text": [
      "12\n"
     ]
    }
   ],
   "source": [
    "\n",
    "A=sorted(A)\n",
    "\n",
    "B=sorted(B)\n",
    "print(A[-2]*B[-1])"
   ]
  },
  {
   "cell_type": "code",
   "execution_count": 12,
   "metadata": {},
   "outputs": [
    {
     "ename": "SyntaxError",
     "evalue": "'return' outside function (<ipython-input-12-e5f0a13014e3>, line 1)",
     "output_type": "error",
     "traceback": [
      "\u001b[1;36m  File \u001b[1;32m\"<ipython-input-12-e5f0a13014e3>\"\u001b[1;36m, line \u001b[1;32m1\u001b[0m\n\u001b[1;33m    return str(max(A[1]*B[0],A[-2]*B[-1]))\u001b[0m\n\u001b[1;37m                                          ^\u001b[0m\n\u001b[1;31mSyntaxError\u001b[0m\u001b[1;31m:\u001b[0m 'return' outside function\n"
     ]
    }
   ],
   "source": [
    "print str(max(A[1]*B[0],A[-2]*B[-1]))"
   ]
  },
  {
   "cell_type": "code",
   "execution_count": 35,
   "metadata": {},
   "outputs": [
    {
     "data": {
      "text/plain": [
       "[[1, 10], [4, 5]]"
      ]
     },
     "execution_count": 35,
     "metadata": {},
     "output_type": "execute_result"
    }
   ],
   "source": [
    "a=[[1,10],[2,2],[3,1]]\n",
    "gr=[]\n",
    "gr=a[0:2]\n",
    "gr[1]=[4,5]\n",
    "gr"
   ]
  },
  {
   "cell_type": "code",
   "execution_count": 25,
   "metadata": {},
   "outputs": [
    {
     "name": "stdout",
     "output_type": "stream",
     "text": [
      "[[3, 1], [2, 2], [1, 10]]\n"
     ]
    }
   ],
   "source": [
    "def func(nums):\n",
    "    b=sorted(nums,key=lambda x:x[1])\n",
    "    print(b)\n",
    "func(a)\n",
    "    "
   ]
  },
  {
   "cell_type": "code",
   "execution_count": null,
   "metadata": {},
   "outputs": [],
   "source": []
  },
  {
   "cell_type": "code",
   "execution_count": 26,
   "metadata": {},
   "outputs": [
    {
     "name": "stdout",
     "output_type": "stream",
     "text": [
      "1 2\n"
     ]
    }
   ],
   "source": [
    "n,k=list(map(int,input().strip().split(' ')))"
   ]
  },
  {
   "cell_type": "code",
   "execution_count": 27,
   "metadata": {},
   "outputs": [
    {
     "ename": "TypeError",
     "evalue": "unsupported operand type(s) for +: 'int' and 'list'",
     "output_type": "error",
     "traceback": [
      "\u001b[1;31m---------------------------------------------------------------------------\u001b[0m",
      "\u001b[1;31mTypeError\u001b[0m                                 Traceback (most recent call last)",
      "\u001b[1;32m<ipython-input-27-be023830df6e>\u001b[0m in \u001b[0;36m<module>\u001b[1;34m\u001b[0m\n\u001b[1;32m----> 1\u001b[1;33m \u001b[0msum\u001b[0m\u001b[1;33m(\u001b[0m\u001b[0ma\u001b[0m\u001b[1;33m)\u001b[0m\u001b[1;33m\u001b[0m\u001b[1;33m\u001b[0m\u001b[0m\n\u001b[0m",
      "\u001b[1;31mTypeError\u001b[0m: unsupported operand type(s) for +: 'int' and 'list'"
     ]
    }
   ],
   "source": []
  },
  {
   "cell_type": "code",
   "execution_count": 55,
   "metadata": {},
   "outputs": [],
   "source": [
    "A=[[1,1],[2,2],[3,3]]\n",
    "s=0\n",
    "m=0"
   ]
  },
  {
   "cell_type": "code",
   "execution_count": 47,
   "metadata": {},
   "outputs": [
    {
     "data": {
      "text/plain": [
       "(6, 3)"
      ]
     },
     "execution_count": 47,
     "metadata": {},
     "output_type": "execute_result"
    }
   ],
   "source": [
    "for i in range(3):\n",
    "    a,b=A[i]\n",
    "    s+=a\n",
    "    if s>m:\n",
    "        m=b\n",
    "s,m\n"
   ]
  },
  {
   "cell_type": "code",
   "execution_count": 70,
   "metadata": {},
   "outputs": [],
   "source": [
    "def compu(nums):\n",
    "    s=0\n",
    "    m=nums[0][1]\n",
    "    for i in range(len(nums)):\n",
    "        s+=nums[i][0]\n",
    "        if nums[i][1]<m:\n",
    "            m=nums[i][1]\n",
    "    return s*m"
   ]
  },
  {
   "cell_type": "code",
   "execution_count": 52,
   "metadata": {},
   "outputs": [
    {
     "data": {
      "text/plain": [
       "6"
      ]
     },
     "execution_count": 52,
     "metadata": {},
     "output_type": "execute_result"
    }
   ],
   "source": [
    "compu(A)\n"
   ]
  },
  {
   "cell_type": "code",
   "execution_count": 60,
   "metadata": {},
   "outputs": [
    {
     "data": {
      "text/plain": [
       "[[88, 99], [2, 2], [3, 3]]"
      ]
     },
     "execution_count": 60,
     "metadata": {},
     "output_type": "execute_result"
    }
   ],
   "source": [
    "A[:0]+[[88,99]]+A[0+1:]"
   ]
  },
  {
   "cell_type": "code",
   "execution_count": 85,
   "metadata": {},
   "outputs": [],
   "source": [
    "def compu(nums):\n",
    "    s=0\n",
    "    m=nums[0][1]\n",
    "    for i in range(len(nums)):\n",
    "        s+=nums[i][0]\n",
    "        if nums[i][1]<m:\n",
    "            m=nums[i][1]\n",
    "    return s*m\n",
    "    \n",
    "def ans(que,n,k):\n",
    "    gr=que[0:k]\n",
    "    \n",
    "    dp=[0 for i in range(n-k+1)]\n",
    "    \n",
    "    dp[0]=compu(gr)\n",
    "    print(que)\n",
    "    for i in range(1,n-k+1):\n",
    "        last=dp[i-1]\n",
    "        now_gr=[]\n",
    "        flag=False\n",
    "        for j in range(len(gr)):\n",
    "            print(j,k+i-1,que)\n",
    "            new=gr[:j]+[que[k+i-1]]+gr[(j+1):]\n",
    "            tem=compu(new)\n",
    "            if tem>last:\n",
    "                now_gr=new\n",
    "                flag=True\n",
    "                last=tem\n",
    "        if flag==True:\n",
    "            gr=now_gr\n",
    "            dp[i]=last\n",
    "        else:\n",
    "            dp[i]=dp[i-1]\n",
    "    return dp[-1]"
   ]
  },
  {
   "cell_type": "code",
   "execution_count": 86,
   "metadata": {},
   "outputs": [
    {
     "name": "stdout",
     "output_type": "stream",
     "text": [
      "[[1, 1], [2, 2], [3, 3]]\n",
      "0 2 [[1, 1], [2, 2], [3, 3]]\n",
      "1 2 [[1, 1], [2, 2], [3, 3]]\n"
     ]
    },
    {
     "data": {
      "text/plain": [
       "10"
      ]
     },
     "execution_count": 86,
     "metadata": {},
     "output_type": "execute_result"
    }
   ],
   "source": [
    "ans([[1,1],[2,2],[3,3]],3,2)"
   ]
  },
  {
   "cell_type": "code",
   "execution_count": 91,
   "metadata": {},
   "outputs": [
    {
     "name": "stdout",
     "output_type": "stream",
     "text": [
      "1 1\n",
      "2 3\n",
      "6\n"
     ]
    }
   ],
   "source": [
    "\n",
    "\n",
    "n,k=list(map(int,input().strip().split(' ')))\n",
    "\n",
    "que=[]\n",
    "\n",
    "\n",
    "for i in range(n):\n",
    "    a,b=list(map(int,input().strip().split(' ')))\n",
    "    que.append([a,b])\n",
    "    \n",
    "    \n",
    "def compu(nums):\n",
    "    s=0\n",
    "    m=nums[0][1]\n",
    "    for i in range(len(nums)):\n",
    "        s+=nums[i][0]\n",
    "        if nums[i][1]<m:\n",
    "            m=nums[i][1]\n",
    "    return s*m\n",
    "    \n",
    "def ans(que,n,k):\n",
    "    gr=que[0:k]\n",
    "    \n",
    "    dp=[0 for i in range(n-k+1)]\n",
    "    \n",
    "    dp[0]=compu(gr)\n",
    "    for i in range(1,n-k+1):\n",
    "        last=dp[i-1]\n",
    "        now_gr=[]\n",
    "        flag=False\n",
    "        for j in range(len(gr)):\n",
    "            print(j,k+i-1,que)\n",
    "            new=gr[:j]+[que[k+i-1]]+gr[(j+1):]\n",
    "            tem=compu(new)\n",
    "            if tem>last:\n",
    "                now_gr=new\n",
    "                flag=True\n",
    "                last=tem\n",
    "        if flag==True:\n",
    "            gr=now_gr\n",
    "            dp[i]=last\n",
    "        else:\n",
    "            dp[i]=dp[i-1]\n",
    "    return dp[-1]\n",
    "print(ans(que,n,k))\n",
    "\n",
    "\n",
    "\n",
    "\n"
   ]
  },
  {
   "cell_type": "code",
   "execution_count": 94,
   "metadata": {},
   "outputs": [
    {
     "name": "stdout",
     "output_type": "stream",
     "text": [
      "40\n",
      "280\n",
      "36\n",
      "252\n"
     ]
    },
    {
     "data": {
      "text/plain": [
       "(280, 252)"
      ]
     },
     "execution_count": 94,
     "metadata": {},
     "output_type": "execute_result"
    }
   ],
   "source": [
    "A=[20,18]\n",
    "B=[2,14]\n",
    "t1=A[0]*B[0]\n",
    "t2=A[0]*B[0]\n",
    "for i in A:\n",
    "    for j in B:\n",
    "        tem=i*j\n",
    "        if tem>t1:\n",
    "            t2=t1\n",
    "            t1=tem\n",
    "        if t2<tem<t1:\n",
    "            t2=tem\n",
    "t1,t2\n",
    "            "
   ]
  },
  {
   "cell_type": "code",
   "execution_count": 95,
   "metadata": {},
   "outputs": [
    {
     "name": "stdout",
     "output_type": "stream",
     "text": [
      "abc dc\n"
     ]
    },
    {
     "data": {
      "text/plain": [
       "['abc', 'dc']"
      ]
     },
     "execution_count": 95,
     "metadata": {},
     "output_type": "execute_result"
    }
   ],
   "source": [
    "a=input().strip().split(' ')\n",
    "a"
   ]
  },
  {
   "cell_type": "code",
   "execution_count": 96,
   "metadata": {},
   "outputs": [
    {
     "data": {
      "text/plain": [
       "['abc', 'dc']"
      ]
     },
     "execution_count": 96,
     "metadata": {},
     "output_type": "execute_result"
    }
   ],
   "source": [
    "sorted(a)"
   ]
  },
  {
   "cell_type": "markdown",
   "metadata": {},
   "source": [
    "n,m=list(map(int,input().strip().split(' ')))\n",
    "\n",
    "t1=[]\n",
    "t2=[]\n",
    "for i in range(n):\n",
    "    t1.append(input().strip())\n",
    "t1=t1.sorted()\n",
    "def ans(a,b):\n",
    "    for i in t1:\n",
    "        if i.startswith(a) :\n",
    "            if not i.startswith(b):\n",
    "                return i\n",
    "    return str(-1)\n",
    "for i in range(m):\n",
    "    a,b=input().strip().split(' ')\n",
    "    print(ans(a,b))"
   ]
  },
  {
   "cell_type": "code",
   "execution_count": null,
   "metadata": {},
   "outputs": [],
   "source": [
    "n,m=list(map(int,input().strip().split(' ')))\n",
    "\n",
    "t1=[]\n",
    "t2=[]\n",
    "for i in range(n):\n",
    "    t1.append(input().strip())\n",
    "t1=sorted(t1)\n",
    "def ans(a,b):\n",
    "    for i in t1:\n",
    "        if i.startswith(a) :\n",
    "            if not i.startswith(b):\n",
    "                return i\n",
    "    return str(-1)\n",
    "for i in range(m):\n",
    "    a,b=input().strip().split(' ')\n",
    "    print(ans(a,b))\n",
    "\n"
   ]
  },
  {
   "cell_type": "code",
   "execution_count": null,
   "metadata": {},
   "outputs": [],
   "source": []
  },
  {
   "cell_type": "code",
   "execution_count": null,
   "metadata": {},
   "outputs": [],
   "source": []
  },
  {
   "cell_type": "code",
   "execution_count": null,
   "metadata": {},
   "outputs": [],
   "source": []
  },
  {
   "cell_type": "code",
   "execution_count": null,
   "metadata": {},
   "outputs": [],
   "source": []
  }
 ],
 "metadata": {
  "kernelspec": {
   "display_name": "Python 3",
   "language": "python",
   "name": "python3"
  },
  "language_info": {
   "codemirror_mode": {
    "name": "ipython",
    "version": 3
   },
   "file_extension": ".py",
   "mimetype": "text/x-python",
   "name": "python",
   "nbconvert_exporter": "python",
   "pygments_lexer": "ipython3",
   "version": "3.6.7"
  }
 },
 "nbformat": 4,
 "nbformat_minor": 2
}
