{
 "cells": [
  {
   "cell_type": "code",
   "execution_count": null,
   "metadata": {},
   "outputs": [],
   "source": []
  },
  {
   "cell_type": "code",
   "execution_count": 9,
   "metadata": {},
   "outputs": [],
   "source": [
    "# 167 重点\n",
    "class Solution:\n",
    "    def twoSum(self, x, target): #设置两个指针m,n   m+n=9\n",
    "        sorted(x)\n",
    "        flag=1\n",
    "        m=0\n",
    "        n=len(x)-1\n",
    "        index=[]\n",
    "        while flag:\n",
    "            if len(x)!=0:break\n",
    "            if m+n>target:n-=1\n",
    "            elif m+n<target:m+=1\n",
    "            elif m+n==target:\n",
    "                index.append(m)\n",
    "                index.append(n)\n",
    "        return index\n",
    "            "
   ]
  },
  {
   "cell_type": "code",
   "execution_count": 91,
   "metadata": {},
   "outputs": [
    {
     "name": "stdout",
     "output_type": "stream",
     "text": [
      "取得的条件: 4 11\n",
      "tmp: 5\n",
      "[1, 6, 3, 8, 133, 4, 2, 22, 100, 122, 5]\n",
      "取得的条件: 3 11\n",
      "tmp: 8\n",
      "[1, 6, 3, 100, 133, 4, 2, 22, 8, 122, 5]\n",
      "取得的条件: 2 11\n",
      "tmp: 3\n",
      "[1, 6, 4, 100, 133, 3, 2, 22, 8, 122, 5]\n",
      "取得的条件: 1 11\n",
      "tmp: 6\n",
      "[1, 133, 4, 100, 122, 3, 2, 22, 8, 6, 5]\n",
      "取得的条件: 0 11\n",
      "tmp: 1\n",
      "[133, 122, 4, 100, 6, 3, 2, 22, 8, 1, 5]\n",
      "取得的条件: 0 10\n",
      "tmp: 5\n",
      "[122, 100, 4, 22, 6, 3, 2, 5, 8, 1, 133]\n",
      "取得的条件: 0 9\n",
      "tmp: 1\n",
      "[100, 22, 4, 8, 6, 3, 2, 5, 1, 122, 133]\n",
      "取得的条件: 0 8\n",
      "tmp: 1\n",
      "[22, 8, 4, 5, 6, 3, 2, 1, 100, 122, 133]\n",
      "22\n"
     ]
    }
   ],
   "source": [
    "#215  大顶堆\n",
    "# 先按照下标建立一颗树，完全二叉树，就是左边总是满的\n",
    "#根为1，于是一个点n，他的左孩子： 2n   右孩子2n+1\n",
    "# 这里是根为0   节点n  左孩子 2n+1  右孩子2n+2\n",
    "nums=[1,6,3,8,5,4,2,22,100,122,133]\n",
    "\n",
    "\n",
    "class Solution:\n",
    "    def twoSum(self, nums, k):\n",
    "        return self.heap_sort(nums,k)\n",
    "        \n",
    "    #构建大顶堆\n",
    "    def heap_sort(self,nums,k): #负责把顶绕到list的最后\n",
    "        for i in range(len(nums)//2-1,-1,-1): #遍历起点：最尾一个父节点，一直到0，就是根\n",
    "            self.heap_adjust(nums,i,len(nums)) #处理第i个父节点\n",
    "            #在内类，这个nums为全局变量\n",
    "        #第二步就是把顶元素和末尾元素进行互换，使得末尾元素最大，因为已经保证了前面的都是大元素\n",
    "        cnt = 0 #count 计数器\n",
    "        for i in range(len(nums)-1,0,-1):  #从最末未到1\n",
    "            self.heap_swap(nums,0,i)#0和i互换\n",
    "            cnt+=1\n",
    "            if cnt==k:#只要排好K个就好了，而且返回第K个\n",
    "                return nums[i]\n",
    "            self.heap_adjust(nums,0,i)#还没到的话，就继续查看 父和子的关系\n",
    "            \n",
    "        return nums[len(nums)-k]\n",
    "    \n",
    "    def heap_adjust(self,nums,start,length):#负责把大的值传给父节点\n",
    "        print('取得的条件:',start,length)\n",
    "        tmp=nums[start] #取得父节点value\n",
    "        k=start*2+1 #左孩子\n",
    "        while k<length: #\n",
    "            left=start*2+1\n",
    "            right=left+1\n",
    "            if right<length and nums[right]>nums[left]: #左右孩子取大的，\n",
    "                k=right\n",
    "            if nums[k]>tmp: #大孩子与父亲比\n",
    "                nums[start]=nums[k]#父节点取这个大孩子\n",
    "                start=k #然后以k为父节点\n",
    "            else:\n",
    "                break\n",
    "            k=k*2+1 #k取新的左孩子  这时候超出长度了\n",
    "        print('tmp:',tmp)\n",
    "        nums[start]=tmp\n",
    "        print(nums)\n",
    "    def heap_swap(self,nums,i,j):#互换\n",
    "        nums[i],nums[j]=nums[j],nums[i]\n",
    "        return nums\n",
    "\n",
    "exam=Solution()\n",
    "\n",
    "print(exam.twoSum(nums,4))"
   ]
  },
  {
   "cell_type": "code",
   "execution_count": 27,
   "metadata": {},
   "outputs": [
    {
     "ename": "SyntaxError",
     "evalue": "unexpected EOF while parsing (<ipython-input-27-0fd48a7191d5>, line 5)",
     "output_type": "error",
     "traceback": [
      "\u001b[1;36m  File \u001b[1;32m\"<ipython-input-27-0fd48a7191d5>\"\u001b[1;36m, line \u001b[1;32m5\u001b[0m\n\u001b[1;33m    \u001b[0m\n\u001b[1;37m    ^\u001b[0m\n\u001b[1;31mSyntaxError\u001b[0m\u001b[1;31m:\u001b[0m unexpected EOF while parsing\n"
     ]
    }
   ],
   "source": [
    "nums=[1,6,3,8,5,4,2]\n",
    "class Solution:\n",
    "    def stack_sort(self, nums, k):\n",
    "        for i in range(len(nums)):\n",
    "            "
   ]
  },
  {
   "cell_type": "code",
   "execution_count": 104,
   "metadata": {},
   "outputs": [
    {
     "name": "stdout",
     "output_type": "stream",
     "text": [
      "[1, 2, 3, 4, 6, 7, 9, 10]\n"
     ]
    },
    {
     "data": {
      "text/plain": [
       "6"
      ]
     },
     "execution_count": 104,
     "metadata": {},
     "output_type": "execute_result"
    }
   ],
   "source": [
    "#215快排序 \n",
    "nums=[3,2,10,1,9,4,7,6]\n",
    "class Solution:\n",
    "    def findKthLargest(self, nums, k):\n",
    "        return self.quick_sort(nums,k)\n",
    "    def quick_sort(self,nums,k):\n",
    "        k=len(nums)-k   #我要的是这一位，如果这里拍好了，就可以了\n",
    "        left=0\n",
    "        right=len(nums)-1 #全局初始化左右指针\n",
    "        while left<right:#直到全局 交叉\n",
    "            j=self.partition(nums,left,right)\n",
    "            if j==k:\n",
    "                break\n",
    "            elif j<k:\n",
    "                left=j+1\n",
    "            else:\n",
    "                right=j-1\n",
    "        print(nums)\n",
    "        return nums[k]\n",
    "    def partition(self,nums,left,right):\n",
    "        while True:\n",
    "            while nums[left]<nums[right]:\n",
    "                right-=1\n",
    "            nums[left],nums[right]=nums[right],nums[left]\n",
    "            if left>=right:#交叉\n",
    "                break\n",
    "            right-=1\n",
    "        return left\n",
    "a=Solution()\n",
    "a.findKthLargest(nums,4)"
   ]
  },
  {
   "cell_type": "code",
   "execution_count": 43,
   "metadata": {},
   "outputs": [],
   "source": [
    "def QuickSort(myList,start,end):\n",
    "    #判断low是否小于high,如果为false,直接返回\n",
    "    if start < end:\n",
    "        i,j = start,end\n",
    "        #设置基准数\n",
    "        base = myList[i]\n",
    "\n",
    "        while i < j:\n",
    "            #如果列表后边的数,比基准数大或相等,则前移一位直到有比基准数小的数出现\n",
    "            while (i < j) and (myList[j] >= base):\n",
    "                j = j - 1\n",
    "                \n",
    "            #如找到,则把第j个元素赋值给第个元素i,此时表中i,j个元素相等\n",
    "            #myList[i],myList[j] = myList[j],myList[i]\n",
    "            print('j:',myList)\n",
    "            #同样的方式比较前半区\n",
    "            while (i < j) and (myList[i] <= base):\n",
    "                i = i + 1\n",
    "            myList[i],myList[j] = myList[j],myList[i] #全局变量list改变了\n",
    "            print('i',myList)\n",
    "        #做完第一轮比较之后,列表被分成了两个半区,并且i=j,需要将这个数设置回base\n",
    "        \n",
    "        myList[i],myList[start] = base,myList[i]\n",
    "        \n",
    "        \n",
    "        #递归前后半区\n",
    "        QuickSort(myList, start, i - 1) #在末尾的递归，因为i=j所以直接pass，不满足所有while\n",
    "        QuickSort(myList, j + 1, end) #传入myList ，修改就相当于指针指的值修改\n",
    "#改变数组值的一般不同返回值，如果没有数组的，一般都要返回\n"
   ]
  },
  {
   "cell_type": "code",
   "execution_count": 44,
   "metadata": {},
   "outputs": [
    {
     "name": "stdout",
     "output_type": "stream",
     "text": [
      "Quick Sort: \n",
      "j: [49, 38, 65, 97, 76, 13, 27, 49]\n",
      "i [49, 38, 27, 97, 76, 13, 65, 49]\n",
      "j: [49, 38, 27, 97, 76, 13, 65, 49]\n",
      "i [49, 38, 27, 13, 76, 97, 65, 49]\n",
      "j: [49, 38, 27, 13, 76, 97, 65, 49]\n",
      "i [49, 38, 27, 13, 76, 97, 65, 49]\n",
      "j: [13, 38, 27, 49, 76, 97, 65, 49]\n",
      "i [13, 38, 27, 49, 76, 97, 65, 49]\n",
      "j: [13, 38, 27, 49, 76, 97, 65, 49]\n",
      "i [13, 38, 27, 49, 76, 97, 65, 49]\n",
      "j: [13, 27, 38, 49, 76, 97, 65, 49]\n",
      "i [13, 27, 38, 49, 76, 49, 65, 97]\n",
      "j: [13, 27, 38, 49, 76, 49, 65, 97]\n",
      "i [13, 27, 38, 49, 76, 49, 65, 97]\n",
      "j: [13, 27, 38, 49, 65, 49, 76, 97]\n",
      "i [13, 27, 38, 49, 65, 49, 76, 97]\n",
      "[13, 27, 38, 49, 49, 65, 76, 97]\n"
     ]
    }
   ],
   "source": [
    "myList = [49,38,65,97,76,13,27,49]\n",
    "print(\"Quick Sort: \")\n",
    "QuickSort(myList,0,len(myList)-1)\n",
    "print(myList)"
   ]
  },
  {
   "cell_type": "code",
   "execution_count": 11,
   "metadata": {},
   "outputs": [
    {
     "name": "stdout",
     "output_type": "stream",
     "text": [
      "[[], [3], [2], [1], [], []]\n",
      "[]\n",
      "[]\n",
      "[1]\n",
      "[2]\n"
     ]
    },
    {
     "data": {
      "text/plain": [
       "(1, 2)"
      ]
     },
     "execution_count": 11,
     "metadata": {},
     "output_type": "execute_result"
    }
   ],
   "source": [
    "# 频次前K高的元素  桶排序\n",
    "\n",
    "nums=[1,1,1,2,2,3]\n",
    "k=2\n",
    "class Solution:\n",
    "    \n",
    "    def high_appearance(self, nums, k):\n",
    "        self.nums=nums\n",
    "        dic={}\n",
    "        for i in self.nums:\n",
    "            dic[i]=dic.get(i,0)+1\n",
    "#         建立桶\n",
    "        buc=[[] for i in range(len(self.nums))]\n",
    "        for key,value in dic.items():\n",
    "            \n",
    "            buc[value].append(key)  #行为频次，最下面的行，为最高频次，所以依次输出\n",
    "        print(buc)\n",
    "        result=[]\n",
    "        for x in range(len(self.nums)-1,-1,-1):#从尾到前遍历buc\\\n",
    "            print(buc[x])\n",
    "            if k>0 and buc[x]:\n",
    "                result.extend(buc[x]) #\n",
    "                k-=len(buc[x])\n",
    "            if k==0:\n",
    "                return result\n",
    "        \n",
    "exam=Solution()\n",
    "a,b=exam.high_appearance(nums,2)\n",
    "a,b\n",
    "# print(a.values())\n",
    "# print(a.keys())\n",
    "# print(a)\n",
    "\n",
    "# self变量必须在self函数里面定义，初始化也行"
   ]
  },
  {
   "cell_type": "code",
   "execution_count": 41,
   "metadata": {},
   "outputs": [
    {
     "name": "stdout",
     "output_type": "stream",
     "text": [
      "[2]\n",
      "[2]\n",
      "[2]\n"
     ]
    },
    {
     "data": {
      "text/plain": [
       "[0, 0, 1, 1, 2, 2]"
      ]
     },
     "execution_count": 41,
     "metadata": {},
     "output_type": "execute_result"
    }
   ],
   "source": [
    "# 75 颜色分类\n",
    "# \n",
    "# 0，1，2代表红白蓝\n",
    "# 可以用桶排序的方法，按照0,1,2先后顺序，按照对应频次append进result\n",
    "nums=[2,0,2,1,1,0]\n",
    "# 输出 [0,0,1,1,2,2]\n",
    "class Solution:\n",
    "    def sortColors(self, nums):\n",
    "        dic1={}\n",
    "        big=0\n",
    "        for i in nums:\n",
    "            dic1[i]=dic1.get(i,0)+1\n",
    "            if i>big:big=i\n",
    "        buc=[[] for j in range(big+1)] #这里其实应该要建立 nums中最大数字 个长度\n",
    "        result=[]\n",
    "        for key,val in dic1.items():\n",
    "            buc[key].append(val)\n",
    "        for i in range(len(buc)):\n",
    "            if buc[i]:\n",
    "                print(buc[i])\n",
    "                for j in range(buc[i][0]):  #i是颜色，buc[i]是频次\n",
    "                    result.append(i)\n",
    "        \n",
    "        for i in range(len(result)):#注意 nums=result的话是不行的 ，不能改变全局变量\n",
    "            nums[i]=result[i]\n",
    "        return result\n",
    "        \n",
    "        \n",
    "        \n",
    "exam=Solution()\n",
    "exam.sortColors(nums)\n",
    "nums"
   ]
  },
  {
   "cell_type": "code",
   "execution_count": 18,
   "metadata": {},
   "outputs": [],
   "source": [
    "a=[]#空list会返回False\n",
    "if a:\n",
    "    print('True')"
   ]
  },
  {
   "cell_type": "code",
   "execution_count": 42,
   "metadata": {},
   "outputs": [],
   "source": [
    "#方法二:\n",
    "#1、 定义三个指针  指针i代表当前遍历到的元素   zeroIndex代表当前0元素最大下标的指针（也就是0元素末尾下标）  twoIndex代表当前2元素最小的下标（也就是2元素开头的下标）\n",
    "#2、 遇到0、2则和当前nums[i]交换 更新维护各个指针的值   \n",
    "#3、 注意两个点 点1 当nums[i]==2 是把它交换到了元素2的开头  所以从twoIndex到数组末尾都是遍历过的元素，所以while结束条件是 i<twoIndex即可\n",
    "#              点2 当nums[i]==2 同样是因为把nums[--twoIndex]的一个未遍历的元素交换到了nums[i], 所以i不自增，就是为了遍历这个交换到此处但是还没有遍历的元素;\n",
    "# 就是荷兰国旗问题\n",
    "#三指针p0 p2 curr\n",
    "#p0和curr指向开头0   p2=n-1\n",
    "# while curr<=p2:\n",
    "# curr如果踩到0，则和p0交换，curr和p0都向右移动\n",
    "# curr踩到2，则和p2交换，都向右移动\n",
    "#没有踩到0,2,那curr自己向右移动\n",
    "\n"
   ]
  },
  {
   "cell_type": "code",
   "execution_count": 2,
   "metadata": {},
   "outputs": [
    {
     "name": "stdout",
     "output_type": "stream",
     "text": [
      "停止标志位 5\n",
      "存储: [1]\n",
      "c: 3\n",
      "停止标志位 4\n",
      "存储: [2]\n",
      "c: 3\n",
      "停止标志位 3\n",
      "存储: [3]\n",
      "c: 3\n",
      "停止标志位 2\n",
      "存储: [4]\n",
      "c: 3\n",
      "停止标志位 1\n",
      "存储: [5]\n",
      "c: 3\n"
     ]
    }
   ],
   "source": [
    "# def a(b,x=[1],c=3):\n",
    "#     print('停止标志位',b)\n",
    "#     print('存储:',x)\n",
    "#     print('c:',c)\n",
    "#     c+=1\n",
    "#     b=b-1\n",
    "#     if b==0:\n",
    "#         return 1\n",
    "#     x[0]+=1\n",
    "#     a(b,x)\n",
    "# 两个一样，有无默认一样\n",
    "\n",
    "def a(b,x,c=3):\n",
    "    print('停止标志位',b)\n",
    "    print('存储:',x)\n",
    "    print('c:',c)\n",
    "    c+=1\n",
    "    b=b-1\n",
    "    if b==0:\n",
    "        return 1\n",
    "    x[0]+=1\n",
    "    a(b,x)\n",
    "a(5,[1])\n",
    "# 在递归中，x常作为一个状态存储单位，也就是不管有多少层递归，大家都是共享这个x[]的\n",
    "# 只有数组才有充当 全局状态存储的功能，单个数字不行，例如这里的c\n",
    "# 最好用字典来存 "
   ]
  },
  {
   "cell_type": "code",
   "execution_count": 63,
   "metadata": {},
   "outputs": [
    {
     "name": "stdout",
     "output_type": "stream",
     "text": [
      "有\n"
     ]
    }
   ],
   "source": [
    "a={1:2}\n",
    "if 1 in a.keys():\n",
    "    print('有')"
   ]
  },
  {
   "cell_type": "code",
   "execution_count": 18,
   "metadata": {},
   "outputs": [
    {
     "data": {
      "text/plain": [
       "2"
      ]
     },
     "execution_count": 18,
     "metadata": {},
     "output_type": "execute_result"
    }
   ],
   "source": [
    "# 455 分发饼干\n",
    "# 尽可能先满足可以满足的\n",
    "# 假设饼干1，只能满足1，那就不管2,3.  如果饼干3,   能满足1，那也先给1\n",
    "# 所以算法是：有恰好匹配的优先，然后再找稍微比这个饼小一点的小孩\n",
    "child=[1,1,3]\n",
    "# 可以用桶排序\n",
    "# 贪心算法\n",
    "gift=[1,1]\n",
    "class Solution:\n",
    "    def findContentChildren(self, g, s):\n",
    "        g=sorted(g)\n",
    "        s=sorted(s)#快排序\n",
    "        cnt_g=0\n",
    "        cnt_s=0\n",
    "        while cnt_g<len(g) and cnt_s < len(s):\n",
    "            if g[cnt_g]<=s[cnt_s]: \n",
    "                cnt_g+=1# 满足第一个孩子为主  ，如果不满足，一定要找到满足的饼干为止 ，因为连这个最小的孩子都满足不了的话，后面那些更加满足不了\n",
    "            cnt_s+=1# 遍历礼物\n",
    "        return cnt_g #返回可以满足孩子的数量  \n",
    "\n",
    "\n",
    "a=Solution()\n",
    "a.findContentChildren(child,gift)\n"
   ]
  },
  {
   "cell_type": "code",
   "execution_count": 19,
   "metadata": {},
   "outputs": [
    {
     "name": "stdout",
     "output_type": "stream",
     "text": [
      "8\n",
      "tmp值： 16\n"
     ]
    },
    {
     "data": {
      "text/plain": [
       "4"
      ]
     },
     "execution_count": 19,
     "metadata": {},
     "output_type": "execute_result"
    }
   ],
   "source": [
    "# 求根号二，二分法\n",
    "import math\n",
    "class Solution:\n",
    "    def mySqrt(self, x): #求根号2\n",
    "        left=0\n",
    "        right = math.ceil(x / 2)\n",
    "        print(right)\n",
    "        while left<=right:\n",
    "            mid = left + (right - left) //2\n",
    "            tmp = mid * mid  #取出中点做平方\n",
    "            print('tmp值：',tmp)\n",
    "            if tmp==x:\n",
    "                return mid\n",
    "            elif tmp<x:\n",
    "                left=mid+1\n",
    "            else:\n",
    "                right =mid-1\n",
    "        return right \n",
    "        \n",
    "        \n",
    "exam=Solution()\n",
    "exam.mySqrt(16)"
   ]
  },
  {
   "cell_type": "code",
   "execution_count": 44,
   "metadata": {},
   "outputs": [
    {
     "name": "stdout",
     "output_type": "stream",
     "text": [
      "2\n",
      "+\n",
      "2\n",
      "3\n",
      "*\n",
      "3\n",
      "4\n",
      "4\n",
      "3\n",
      "*\n",
      "2\n",
      "+\n",
      "2\n",
      "3\n",
      "3\n",
      "4\n",
      "4\n"
     ]
    },
    {
     "data": {
      "text/plain": [
       "[14, 20]"
      ]
     },
     "execution_count": 44,
     "metadata": {},
     "output_type": "execute_result"
    }
   ],
   "source": [
    "# 为算法表达式设计优先级\n",
    "class Solution:\n",
    "    def diffWaysToCompute(self, input):\n",
    "        return_list=[]\n",
    "        for i in range(len(input)): \n",
    "            c=input[i] #取出第i个字符，如果找到的是操作符号，则左右两边进入递归\n",
    "            print(c)\n",
    "            if c in ['+','-','*','/']:\n",
    "                left=self.diffWaysToCompute(input[:i])\n",
    "                right=self.diffWaysToCompute(input[i+1:])\n",
    "                for l in left:\n",
    "                    for r in right:\n",
    "                        if c=='+':\n",
    "                            return_list.append(l+r)\n",
    "                        elif c=='-':\n",
    "                            return_list.append(l-r)\n",
    "                        elif c=='*':\n",
    "                            return_list.append(l*r)\n",
    "        if not return_list: #左边或者右边已经没东西了\n",
    "                return_list.append(int(input)) #那就返回这个数\n",
    "        return return_list\n",
    "            \n",
    "nums='2+3*4'\n",
    "exam=Solution()\n",
    "exam.diffWaysToCompute(nums)"
   ]
  },
  {
   "cell_type": "code",
   "execution_count": 27,
   "metadata": {},
   "outputs": [
    {
     "name": "stdout",
     "output_type": "stream",
     "text": [
      "进入\n"
     ]
    }
   ],
   "source": [
    "a={'a':1}\n",
    "if a.get('a',0):\n",
    "    print('进入')\n"
   ]
  },
  {
   "cell_type": "code",
   "execution_count": 29,
   "metadata": {},
   "outputs": [
    {
     "name": "stdout",
     "output_type": "stream",
     "text": [
      "8\n",
      "7\n",
      "6\n",
      "5\n",
      "4\n",
      "3\n",
      "2\n",
      "1\n",
      "0\n"
     ]
    }
   ],
   "source": [
    "def example(x):\n",
    "    \n",
    "    print(x)\n",
    "\n",
    "    if x!=0:\n",
    "        example(x-1)\n",
    "example(8)"
   ]
  },
  {
   "cell_type": "code",
   "execution_count": 35,
   "metadata": {},
   "outputs": [
    {
     "name": "stdout",
     "output_type": "stream",
     "text": [
      "ok\n"
     ]
    }
   ],
   "source": [
    "nums=[]\n",
    "if not nums: #空的话为none\n",
    "    print('ok')"
   ]
  },
  {
   "cell_type": "code",
   "execution_count": 4,
   "metadata": {},
   "outputs": [],
   "source": [
    "import torch \n",
    "import numpy as np\n",
    "from torch.autograd import Variable"
   ]
  },
  {
   "cell_type": "code",
   "execution_count": 30,
   "metadata": {},
   "outputs": [
    {
     "data": {
      "text/plain": [
       "tensor([[0.3000, 0.7000],\n",
       "        [0.9000, 0.1000],\n",
       "        [0.2000, 0.8000]], requires_grad=True)"
      ]
     },
     "execution_count": 30,
     "metadata": {},
     "output_type": "execute_result"
    }
   ],
   "source": [
    "tensor1 = torch.Tensor(np.array([[0.3,0.7],[0.9,0.1],[0.2,0.8]]))   \n",
    "var=Variable(tensor1, requires_grad=True)\n",
    "var"
   ]
  },
  {
   "cell_type": "code",
   "execution_count": 33,
   "metadata": {},
   "outputs": [
    {
     "data": {
      "text/plain": [
       "array([[0.3, 0.7],\n",
       "       [0.9, 0.1],\n",
       "       [0.2, 0.8]], dtype=float32)"
      ]
     },
     "execution_count": 33,
     "metadata": {},
     "output_type": "execute_result"
    }
   ],
   "source": [
    "np1=var.data.numpy()\n",
    "np1"
   ]
  },
  {
   "cell_type": "code",
   "execution_count": 13,
   "metadata": {},
   "outputs": [
    {
     "data": {
      "text/plain": [
       "array([0.7, 0.6, 0.8], dtype=float32)"
      ]
     },
     "execution_count": 13,
     "metadata": {},
     "output_type": "execute_result"
    }
   ],
   "source": [
    "np2=np1[:,1]\n",
    "np2"
   ]
  },
  {
   "cell_type": "code",
   "execution_count": 19,
   "metadata": {},
   "outputs": [
    {
     "data": {
      "text/plain": [
       "array([0.5, 0.5, 0.5], dtype=float32)"
      ]
     },
     "execution_count": 19,
     "metadata": {},
     "output_type": "execute_result"
    }
   ],
   "source": [
    "np1.mean(axis=1)"
   ]
  },
  {
   "cell_type": "code",
   "execution_count": 23,
   "metadata": {},
   "outputs": [
    {
     "data": {
      "text/plain": [
       "array([0.3, 0.7], dtype=float32)"
      ]
     },
     "execution_count": 23,
     "metadata": {},
     "output_type": "execute_result"
    }
   ],
   "source": [
    "np3=np.mean(np1,axis=0)\n",
    "np3"
   ]
  },
  {
   "cell_type": "code",
   "execution_count": 36,
   "metadata": {},
   "outputs": [
    {
     "data": {
      "text/plain": [
       "1"
      ]
     },
     "execution_count": 36,
     "metadata": {},
     "output_type": "execute_result"
    }
   ],
   "source": [
    "np.argmax(np3,axis=0)"
   ]
  },
  {
   "cell_type": "code",
   "execution_count": 1,
   "metadata": {},
   "outputs": [],
   "source": [
    "#160\n",
    "class Solution(object):\n",
    "    def getIntersectionNode(self, headA, headB): # 从A,B节点走，什么时候相交\n",
    "        if headA is None or headB is None:\n",
    "            return None\n",
    "        L1=headA\n",
    "        L2=headB\n",
    "        \n",
    "        while L1!=L2:\n",
    "            if L1 :#检测反向\n",
    "                L1=L1.next\n",
    "            else:#检查同向关系\n",
    "                L1=headB\n",
    "            if L2:\n",
    "                L2=L2.next\n",
    "            else:\n",
    "                L2=headA\n",
    "        return L1\n",
    "                \n",
    "        \n",
    "        \n",
    "        "
   ]
  },
  {
   "cell_type": "code",
   "execution_count": 2,
   "metadata": {},
   "outputs": [],
   "source": [
    "# 232 栈实现队列\n",
    "class MyQueue(object):\n",
    "\n",
    "    def __init__(self):\n",
    "        \"\"\"\n",
    "        Initialize your data structure here.\n",
    "        \"\"\"\n",
    "        \n",
    "\n",
    "    def push(self, x):\n",
    "        \"\"\"\n",
    "        Push element x to the back of queue.\n",
    "        :type x: int\n",
    "        :rtype: None\n",
    "        \"\"\"\n",
    "        \n",
    "\n",
    "    def pop(self):\n",
    "        \"\"\"\n",
    "        Removes the element from in front of queue and returns that element.\n",
    "        :rtype: int\n",
    "        \"\"\"\n",
    "        \n",
    "\n",
    "    def peek(self):\n",
    "        \"\"\"\n",
    "        Get the front element.\n",
    "        :rtype: int\n",
    "        \"\"\"\n",
    "        \n",
    "\n",
    "    def empty(self):\n",
    "        \"\"\"\n",
    "        Returns whether the queue is empty.\n",
    "        :rtype: bool\n",
    "        \"\"\"\n",
    "\n"
   ]
  },
  {
   "cell_type": "code",
   "execution_count": 8,
   "metadata": {},
   "outputs": [
    {
     "name": "stdout",
     "output_type": "stream",
     "text": [
      "发现这个 5\n",
      "[2, 4]\n",
      "发现这个 6\n",
      "[1, 5]\n",
      "发现这个 7\n",
      "[0, 6]\n"
     ]
    }
   ],
   "source": [
    "# 1 两数之和\n",
    "class MyQueue(object):\n",
    "    def twoSum(self,nums,target):\n",
    "        dic={}\n",
    "        for i in range(len(nums)):# 遍历列表\n",
    "            if target-nums[i] in dic:\n",
    "                print('发现这个',nums[i])\n",
    "                print( [dic[target-nums[i]],i])  #dic里面存着读过的元素\n",
    "            dic[nums[i]]=i # dic[元素]=第i个位置\n",
    "\n",
    "\n",
    "nums=[1,2,3,4,5,6,7]\n",
    "exam=MyQueue()\n",
    "exam.twoSum(nums,8)\n"
   ]
  },
  {
   "cell_type": "code",
   "execution_count": 1,
   "metadata": {},
   "outputs": [
    {
     "data": {
      "text/plain": [
       "3"
      ]
     },
     "execution_count": 1,
     "metadata": {},
     "output_type": "execute_result"
    }
   ],
   "source": [
    "# 232 栈实现队列\n",
    "\n",
    "class MyQueue:\n",
    "    def __init(self):\n",
    "        self.stack_in=[]\n",
    "        self.stack_out=[]\n",
    "    def push(self,x=None):#输入整数\n",
    "        self.stack_in.append(x)# [[原来的],[要进来的]]  #这个队列从右边进序列，从右边出一个元素\n",
    "    def pop(self):\n",
    "        if self.stace_out:#输出缓存非空\n",
    "            return self.stack_out.pop() #丢出最右边一个\n",
    "        else:\n",
    "            while self.stack_in:#输出缓存没东西，那就把输入缓存放到输出缓存\n",
    "                self.stack_out.append(self.stack_in.pop())#不断从输入队列的右边提取\n",
    "            return self.stack_out.pop() \n",
    "    def peek(self):#整数\n",
    "        if self.stack_out: #有东西，就输出最后一个，且保留原有\n",
    "            return self.stack_out[-1]\n",
    "        else:\n",
    "            while self.stack_in:\n",
    "                self.stack_out.append(self.stack_int.pop())#如果out没有东西，那就一直把in的右边拿进来\n",
    "            return self.stack_out[-1]\n",
    "    def empty(self):#bool型 \n",
    "        return not self.stack_in and not self.stack_out\n",
    "    "
   ]
  },
  {
   "cell_type": "code",
   "execution_count": null,
   "metadata": {},
   "outputs": [],
   "source": [
    "#上题简化版\n",
    ".append(x)\n",
    ".pop(0)\n",
    "stack[0]\n",
    "return stack==[]\n"
   ]
  },
  {
   "cell_type": "code",
   "execution_count": 25,
   "metadata": {},
   "outputs": [
    {
     "data": {
      "text/plain": [
       "4"
      ]
     },
     "execution_count": 25,
     "metadata": {},
     "output_type": "execute_result"
    }
   ],
   "source": [
    "# 409 最长回文串\n",
    "class Solution:\n",
    "    def longestPalindrome(self, s):\n",
    "        k = len(s)\n",
    "        olist = [0] * k\n",
    "        nList = [0] * k\n",
    "        logestSubStr = \"\"\n",
    "        logestLen = 0\n",
    " \n",
    "        for j in range(0, k):\n",
    "            for i in range(0, j + 1):\n",
    "                if j - i <= 1:\n",
    "                    if s[i] == s[j]:\n",
    "                        nList[i] = 1\n",
    "                        len_t = j - i + 1\n",
    "                        if logestLen < len_t:\n",
    "                            logestSubStr = s[i:j + 1]\n",
    "                            logestLen = len_t\n",
    "                else:\n",
    "                    if s[i] == s[j] and olist[i+1]:\n",
    "                        nList[i] = 1\n",
    "                        len_t = j - i + 1\n",
    "                        if logestLen < len_t:\n",
    "                            logestSubStr = s[i:j + 1]\n",
    "                            logestLen = len_t\n",
    "            olist = nList\n",
    "            nList = [0] * k\n",
    "        return len(logestSubStr)\n",
    " \n",
    "        \n",
    "        \n",
    "nums='abccccdd'\n",
    "exam=Solution()\n",
    "exam.longestPalindrome(nums)\n",
    "        \n",
    "#这个答案没有考虑头尾是可以循环的\n",
    "\n",
    "        \n",
    "        "
   ]
  },
  {
   "cell_type": "code",
   "execution_count": 33,
   "metadata": {},
   "outputs": [],
   "source": [
    "#这是这道题是不用考虑顺序问题的，给出的字符串相当于一个字符集和\n",
    "import math\n",
    "#字典统计每个字符出现的个数，每个字符有偶数个就可以用来构成回文\n",
    "#最中间的字符可以单独出现 所以单独出现的字符放中间\n",
    "\n",
    "class Solution:\n",
    "    def longestPalindrome(self, s):\n",
    "        cnts={}\n",
    "        for c in s:#把字符出现的次数统计到cnts计数器\n",
    "            cnts[c]=cnts.get(c,0)+1\n",
    "        palindrome=0\n",
    "        for (key,value) in cnts.items():#取出统计字典 \n",
    "            palindrome+=math.floor(value/2)*2  #返回数字的下舍整数 其实用int就可以了  加上偶数个\n",
    "        if palindrome<len(s):\n",
    "            palindrome+=1\n",
    "        return palindrome\n",
    "        \n",
    "        \n",
    "        \n",
    "        \n",
    "        "
   ]
  },
  {
   "cell_type": "code",
   "execution_count": 30,
   "metadata": {},
   "outputs": [
    {
     "data": {
      "text/plain": [
       "0"
      ]
     },
     "execution_count": 30,
     "metadata": {},
     "output_type": "execute_result"
    }
   ],
   "source": [
    "2&1 #维运算\n"
   ]
  },
  {
   "cell_type": "code",
   "execution_count": 37,
   "metadata": {},
   "outputs": [
    {
     "data": {
      "text/plain": [
       "(3, 3)"
      ]
     },
     "execution_count": 37,
     "metadata": {},
     "output_type": "execute_result"
    }
   ],
   "source": [
    "math.floor(3.8),int(3.8)"
   ]
  },
  {
   "cell_type": "code",
   "execution_count": 23,
   "metadata": {},
   "outputs": [
    {
     "data": {
      "text/plain": [
       "[3]"
      ]
     },
     "execution_count": 23,
     "metadata": {},
     "output_type": "execute_result"
    }
   ],
   "source": [
    "# 260 只出现一次数字\n",
    "# 这个属于位运算\n",
    "# 普通方法\n",
    "#这种方法虽然很快，但内存占了很多\n",
    "nums=[1,2,3,1,2]\n",
    "class Solution(object):\n",
    "    def singleNumber(self, nums):\n",
    "        dic1={}\n",
    "        for i in range(len(nums)):\n",
    "            dic1[nums[i]]=dic1.get(nums[i],0)+1\n",
    "        result=[]\n",
    "        \n",
    "        for m,n in dic1.items():\n",
    "            if n==1:\n",
    "                result.append(m)\n",
    "        return result\n",
    "exam=Solution()\n",
    "exam.singleNumber(nums)"
   ]
  },
  {
   "cell_type": "code",
   "execution_count": 64,
   "metadata": {},
   "outputs": [
    {
     "name": "stdout",
     "output_type": "stream",
     "text": [
      "0b110\n",
      "0b10\n"
     ]
    },
    {
     "data": {
      "text/plain": [
       "[5, 3]"
      ]
     },
     "execution_count": 64,
     "metadata": {},
     "output_type": "execute_result"
    }
   ],
   "source": [
    "nums=[1,2,3,1,2,5]\n",
    "#这种方法更快，内存消耗更少\n",
    "#位运算  ^异或  &求与  任何元素异或他自己都等于0   如果整个数组内，按顺序前后异或完，最终的结果刚好是那个出现一次的数字，因为出现过两次的都被抵消了\n",
    "\n",
    "\n",
    "diff=0\n",
    "for num in nums:\n",
    "    diff=diff ^ num #把全部元素放上车，出现两次的，自己下车\n",
    "print(bin(diff))\n",
    "diff=diff & (-diff)#负数的二进制，就是原码求反，然后取1  意思就是，反码的时候，前面的0都变成1，然后加1，导致进位到原码的第一个1的位置，\n",
    "#这两个只出现一次的数，在最低的位置上，绝对一个是1，另一个数是0，这样才异或出1\n",
    "\n",
    "print(bin(diff))\n",
    "ret=[0,0]\n",
    "for num in nums:\n",
    "    if(diff & num==0): #现在的diff 是在原来diff第一个1出现的位置上有1，其他位置都为0，这里求与，看看遍历的这个数在这个位置上是否为1\n",
    "        ret[0]=ret[0]^num  #其中一个数，也就是最低位为1的那个数，所可能在的堆,然后在这个堆再次取异或，这次全部数异或完之后，\n",
    "        #就等于只有一次出现的那个了\n",
    "    else:\n",
    "        ret[1]=ret[1]^num #最低位非0的那个数所在堆，自己求异或\n",
    "ret"
   ]
  },
  {
   "cell_type": "code",
   "execution_count": null,
   "metadata": {},
   "outputs": [],
   "source": [
    "#启发 就是位运算的效率很高"
   ]
  },
  {
   "cell_type": "code",
   "execution_count": 46,
   "metadata": {},
   "outputs": [
    {
     "data": {
      "text/plain": [
       "(0, 2)"
      ]
     },
     "execution_count": 46,
     "metadata": {},
     "output_type": "execute_result"
    }
   ],
   "source": [
    "1^1,2^1^1"
   ]
  },
  {
   "cell_type": "code",
   "execution_count": 32,
   "metadata": {},
   "outputs": [
    {
     "data": {
      "text/plain": [
       "1"
      ]
     },
     "execution_count": 32,
     "metadata": {},
     "output_type": "execute_result"
    }
   ],
   "source": [
    "2^3^1^1  #这里是等于2^3的"
   ]
  },
  {
   "cell_type": "code",
   "execution_count": 45,
   "metadata": {},
   "outputs": [
    {
     "data": {
      "text/plain": [
       "(1, 3, 0)"
      ]
     },
     "execution_count": 45,
     "metadata": {},
     "output_type": "execute_result"
    }
   ],
   "source": [
    "2^3,(2^3)^(-(2^3))&2,(2^3)^(-2^3)&3    #可以看出中途异或偶数次的，相当于没有参与过异或，那怎么把他拆开呢"
   ]
  },
  {
   "cell_type": "markdown",
   "metadata": {},
   "source": []
  },
  {
   "cell_type": "code",
   "execution_count": 63,
   "metadata": {},
   "outputs": [
    {
     "data": {
      "text/plain": [
       "(1, '0b1')"
      ]
     },
     "execution_count": 63,
     "metadata": {},
     "output_type": "execute_result"
    }
   ],
   "source": [
    "(3&(-3)),bin(1)#这里的负数自动取反码和加1"
   ]
  },
  {
   "cell_type": "code",
   "execution_count": 4,
   "metadata": {},
   "outputs": [
    {
     "data": {
      "text/plain": [
       "'20'"
      ]
     },
     "execution_count": 4,
     "metadata": {},
     "output_type": "execute_result"
    }
   ],
   "source": [
    "# 转化为7进制数\n",
    "num=14\n",
    "class Solution(object):\n",
    "    def convertToBase7(self, num):\n",
    "        if num==0:\n",
    "            return 0\n",
    "        res=\"\"\n",
    "        is_neg=num<0\n",
    "        if num<0:\n",
    "            num=-num#先转为正数\n",
    "        while num>0:\n",
    "            res+=str(num%7)\n",
    "            num//=7\n",
    "        res=res[::-1] #\n",
    "        if is_neg:\n",
    "            res=\"-\"+res\n",
    "        return res\n",
    "        \n",
    "exam=Solution()\n",
    "exam.convertToBase7(num)\n",
    "\n",
    "\n"
   ]
  },
  {
   "cell_type": "code",
   "execution_count": 5,
   "metadata": {},
   "outputs": [
    {
     "data": {
      "text/plain": [
       "[3, 2, 1]"
      ]
     },
     "execution_count": 5,
     "metadata": {},
     "output_type": "execute_result"
    }
   ],
   "source": [
    "a=[1,2,3]\n",
    "a[::-1]"
   ]
  },
  {
   "cell_type": "code",
   "execution_count": null,
   "metadata": {},
   "outputs": [],
   "source": [
    "# # 树 递归110\n",
    "class Solution(object):\n",
    "    def isBalanced(self, root): #递归看是否左子树等于右子树\n",
    "        1.判断是否到末端 或 一开始就空\n",
    "        2.进入循环 isBalanced()\n",
    "        3. 非端点要干嘛 \n",
    "\n",
    "# \n"
   ]
  },
  {
   "cell_type": "code",
   "execution_count": 1,
   "metadata": {},
   "outputs": [
    {
     "name": "stdout",
     "output_type": "stream",
     "text": [
      "0 1\n",
      "1 2\n",
      "2 3\n",
      "3 4\n"
     ]
    }
   ],
   "source": [
    "a=[1,2,3,4]\n",
    "for i,j in enumerate(a):\n",
    "    print(i,j)"
   ]
  },
  {
   "cell_type": "code",
   "execution_count": null,
   "metadata": {},
   "outputs": [],
   "source": [
    "#\n",
    "def 遍历所有节点\n",
    "    获得根\n",
    "    是末端返回1\n",
    "    \n",
    "    中间层: 把下一个孩子当做根，给递归，当做表层\n",
    "    表层：返回左子树和右子树是否相等，相等为true(因为return 会屏蔽掉最后面的)\n",
    "    \n",
    "    \n",
    "def \n",
    "    拿到一个子树\n",
    "    遇到端点 return 1\n",
    "    \n",
    "    \n",
    "    左高度=递归，左子树\n",
    "    右高度递归，右子树\n",
    "    return 最大（左，右）\n",
    "    \n",
    "    \n",
    "    "
   ]
  },
  {
   "cell_type": "code",
   "execution_count": 35,
   "metadata": {},
   "outputs": [],
   "source": [
    "class Solution(object):\n",
    "    def isBalanced(self, root):\n",
    "        if root is None:\n",
    "            return True \n",
    "        left=self.getHeight(root.left)\n",
    "        right=self.getHeight(root.right)\n",
    "        if abs(left-right)>1:\n",
    "            return False\n",
    "        return self.isBalanced(root.left) and self.isBalanced(root.right)  \n",
    "        \n",
    "    def getHeight(self,root):\n",
    "        if root is None:\n",
    "            return 0\n",
    "        left=self.getHeight(root.left)\n",
    "        right=self.getHeight(root.right)\n",
    "        #如果这里return max(深度(left),深度(right))+1这样会慢一点\n",
    "        return max(left,right)+1 #不明白+1 如果底部返回1，这里不加1呢 不行  因为这里不加1，相当于没有积累高度"
   ]
  },
  {
   "cell_type": "code",
   "execution_count": null,
   "metadata": {},
   "outputs": [],
   "source": [
    "# 递归分析过程\n",
    "# 1\n",
    "def 是否平衡(根)\n",
    "    return 左子树平衡  and 右子树平衡\n",
    "如何获得左根深度呢\n",
    "def 求深度(根):\n",
    "    return max(左高度,右高度)+1"
   ]
  },
  {
   "cell_type": "code",
   "execution_count": null,
   "metadata": {},
   "outputs": [],
   "source": [
    "# 2细化\n",
    "def 是否平衡(根)\n",
    "    return 是否平衡(左) and 是否平衡(右)\n",
    "如何获得左根深度呢\n",
    "def 求深度(根):\n",
    "    return max(求深度(左),求深度(右))+1"
   ]
  },
  {
   "cell_type": "code",
   "execution_count": null,
   "metadata": {},
   "outputs": [],
   "source": [
    "# 3端点\n",
    "# 2细化\n",
    "def 是否平衡(根)\n",
    "    if 端点 :return 1\n",
    "    \n",
    "    if 非端点:\n",
    "        if 深度(左)==深度(右): return 是否平衡(左) and 是否平衡(右) #若这个节点是平衡，则继续检查左和右\n",
    "        else: return False  #这个放前面会比较好\n",
    "        \n",
    "        \n",
    "如何获得左根深度呢\n",
    "def 求深度(根):\n",
    "    if 端点:return 0  #因为端点的父亲深度应该为1  爷爷应该为2\n",
    "    \n",
    "    if 非端点:\n",
    "        return max(求深度(左),求深度(右))+1"
   ]
  },
  {
   "cell_type": "code",
   "execution_count": null,
   "metadata": {},
   "outputs": [],
   "source": [
    "# 144 前序遍历\n",
    "def 前序遍历(根):\n",
    "    res=[]#这个是形参吗  对， 因为每次进入都会新建一个res ，每一层递归中，res都是独立的\n",
    "    if 端点:\n",
    "        return 空\n",
    "    if 非端点:\n",
    "        res.append(根)#根放在前面所以前序遍历\n",
    "        res.append(前序遍历(左))\n",
    "        res.append(前序遍历(右))\n",
    "        return res"
   ]
  },
  {
   "cell_type": "code",
   "execution_count": 6,
   "metadata": {},
   "outputs": [
    {
     "name": "stdout",
     "output_type": "stream",
     "text": [
      "[2]\n",
      "[3]\n",
      "[4]\n",
      "[5]\n",
      "[5]\n",
      "[4]\n",
      "[3]\n",
      "[2]\n"
     ]
    }
   ],
   "source": [
    "def a(x):\n",
    "    if x>=5:return 0\n",
    "    x+=1\n",
    "    res=[]\n",
    "    res.append(x)\n",
    "    print(res)\n",
    "    a(x)\n",
    "    print(res)\n",
    "a(1)"
   ]
  },
  {
   "cell_type": "code",
   "execution_count": 16,
   "metadata": {},
   "outputs": [],
   "source": [
    "class Solution:\n",
    "    def preorderTraversal(self,root):\n",
    "        result=[]\n",
    "        if not root:\n",
    "            return result\n",
    "        else:\n",
    "            result.append(root.val)#先序遍历，所以先放根\n",
    "            result.extend(self.preorderTraversal(root.left))\n",
    "            result.extend(self.preorderTraversal(root.right))\n",
    "            return result"
   ]
  },
  {
   "cell_type": "code",
   "execution_count": 17,
   "metadata": {},
   "outputs": [
    {
     "data": {
      "text/plain": [
       "[1, 2, 3, 2]"
      ]
     },
     "execution_count": 17,
     "metadata": {},
     "output_type": "execute_result"
    }
   ],
   "source": [
    "a=[1,2,3]\n",
    "a+=[2]\n",
    "a.extend([])\n",
    "a"
   ]
  },
  {
   "cell_type": "code",
   "execution_count": 19,
   "metadata": {},
   "outputs": [],
   "source": [
    "# 513 找树最下面那行的最左边的值\n",
    "#同一层的，从右到左遍历\n",
    "class Solution:\n",
    "    def findBottomLeftValue(self,root):\n",
    "        q=[root]\n",
    "        while q:\n",
    "            root=q.pop(0)\n",
    "            if root.right:\n",
    "                q.append(root.right)\n",
    "            if root.left:\n",
    "                q.append(root.left)\n",
    "        return root.val \n"
   ]
  },
  {
   "cell_type": "code",
   "execution_count": 20,
   "metadata": {},
   "outputs": [
    {
     "ename": "SyntaxError",
     "evalue": "invalid character in identifier (<ipython-input-20-707e82c46dfb>, line 4)",
     "output_type": "error",
     "traceback": [
      "\u001b[1;36m  File \u001b[1;32m\"<ipython-input-20-707e82c46dfb>\"\u001b[1;36m, line \u001b[1;32m4\u001b[0m\n\u001b[1;33m    当 根不为空：\u001b[0m\n\u001b[1;37m          ^\u001b[0m\n\u001b[1;31mSyntaxError\u001b[0m\u001b[1;31m:\u001b[0m invalid character in identifier\n"
     ]
    }
   ],
   "source": [
    "#\n",
    "def 遍历():\n",
    "    q取得[根]\n",
    "    当 根不为空：\n",
    "        弹出一个根\n",
    "        将右加入q\n",
    "        将左加入q\n",
    "        \n",
    "[1]\n",
    "[3,2]#pop了1节点  因为1有右节点所以加入3，有左所以加入2\n",
    "[2,5,4]#查找了右3节点的左右为4,5\n",
    "[5,4,7,6]\n",
    "pop了5发现5没有左，右，不工作   直到pop了6(最后一行的左边)，就返回这个数的val"
   ]
  },
  {
   "cell_type": "code",
   "execution_count": null,
   "metadata": {},
   "outputs": [],
   "source": [
    "# 230 bst 二叉搜索树中第k小的元素\n",
    "# 二叉搜索树   就是总是 左<根<右\n",
    "\n",
    "#第一种做法，就是把全部元素按照大小取出\n",
    "#第二种方法，中序遍历，先沉到底，+1,倒数第二行再+1就=2,\n"
   ]
  },
  {
   "cell_type": "code",
   "execution_count": null,
   "metadata": {},
   "outputs": [],
   "source": [
    "#猜想\n",
    "#def 中序(根):\n",
    "    result.extend(左子树的集)\n",
    "    result.append(根)\n",
    "    result.extend(右子树的集)\n",
    "    return result"
   ]
  },
  {
   "cell_type": "code",
   "execution_count": null,
   "metadata": {},
   "outputs": [],
   "source": [
    "# 进一步\n",
    "# def 中序(根)：\n",
    "    if 端点:\n",
    "        return [根.val]\n",
    "    \n",
    "    if 非端点:\n",
    "        result=[]\n",
    "        result.extend(中序(左子树的集))  \n",
    "        result.append(根)\n",
    "        result.extend(中序(右子树的集))\n",
    "        return result\n",
    "    然后再取出第K个出来"
   ]
  },
  {
   "cell_type": "code",
   "execution_count": null,
   "metadata": {},
   "outputs": [],
   "source": [
    "# 方法二\n",
    "value全局变量如何做？如果在类里面self.value就可以def之间调用  递归也可以（递归可以理解为不是调用自己，而是调用自己一样的函数）\n",
    "全局cnt\n",
    "# def 计算第K个(根，k):\n",
    "    中序(根,k)\n",
    "    return value\n",
    "\n",
    "def 中序(根,k):#带着K递归 其实也可以把k放在全局变量\n",
    "    \n",
    "    if 空端点:\n",
    "        return \n",
    "    else 非空端点:\n",
    "        中序(左)\n",
    "        self.cnt+1#第一个是末端点   对每个节点，有return返回到本层时候，都会+1\n",
    "        if self.cnt==k   计数器达到了k次  \n",
    "            return 左.val\n",
    "        #到底点之后\n",
    "        self.cnt+1 #若没有到k 继续找右子树\n",
    "        中序(右)"
   ]
  },
  {
   "cell_type": "code",
   "execution_count": null,
   "metadata": {},
   "outputs": [],
   "source": [
    "class Solution:\n",
    "    def kthSmallest(self,root,k):\n",
    "        self.cnt,self.val=0,0\n",
    "        self.inOrder(root,k)\n",
    "        return self.val\n",
    "    def inOrder(self,root,k):\n",
    "        if not root:\n",
    "            return \n",
    "        self.inOrder(root.left,k)\n",
    "        self.cnt+=1\n",
    "        if self.cnt==k:\n",
    "            self.val=root.val\n",
    "            return\n",
    "        self.inOrder(root.right,k)\n",
    "\n",
    "    "
   ]
  },
  {
   "cell_type": "code",
   "execution_count": null,
   "metadata": {},
   "outputs": [],
   "source": [
    "# 208 前缀树\n",
    "\n",
    "clase node(self):\n",
    "    self.children={} #每个节点都有个字典装孩子\n",
    "    node.is_leaf=False   #初始为非叶子\n",
    "\n",
    "\n",
    "\n",
    "class trie:\n",
    "    def __init__(self):# 建立一棵树的时候，先建立一个根节点\n",
    "        self.root=Node()\n",
    "        \n",
    "    def 将字符串插入到树中(self,word)：\n",
    "        node取得根\n",
    "        for c in 遍历word:\n",
    "            如果第一个字符在node的孩子中没有出现，则把新根节点赋值给根节点的孩子字典中 第一字符:新建节点\n",
    "            根换到第一个字符所对的节点\n",
    "        node.is_leaf=True   #遍历到最后的节点，则令这个节点为叶子节点\n",
    "    def 查找是否存在此字符串():  #要么中途就没有匹配到，要么匹配完了条件字符串，却还没到树叶节点\n",
    "        node=self.根\n",
    "        c 遍历条件字符串\n",
    "            c在 当前节点的孩子字典里\n",
    "                node=c在孩子字典里对应的节点\n",
    "                \n",
    "            不在:\n",
    "                return false #中途没匹配到\n",
    "        遍历完后，看看node.is_leaf()  #若是叶子节点，那就是整个字符串都匹配上了\n",
    "        \n",
    "    def 查找是否前缀匹配():#不需要一直匹配到叶子节点   认为 abcdef 也含有abc\n",
    "        跟上面一样\n",
    "        遍历完后，直接return true\n",
    "\n",
    "        \n",
    "        "
   ]
  },
  {
   "cell_type": "code",
   "execution_count": null,
   "metadata": {},
   "outputs": [],
   "source": [
    "# 785 判断二分图\n"
   ]
  },
  {
   "cell_type": "code",
   "execution_count": 3,
   "metadata": {},
   "outputs": [
    {
     "data": {
      "text/plain": [
       "[3, 2, 1]"
      ]
     },
     "execution_count": 3,
     "metadata": {},
     "output_type": "execute_result"
    }
   ],
   "source": [
    "a=[1,2,3]\n",
    "list.reverse(a)\n",
    "a"
   ]
  },
  {
   "cell_type": "code",
   "execution_count": null,
   "metadata": {},
   "outputs": [],
   "source": [
    "###  关于序列"
   ]
  },
  {
   "cell_type": "code",
   "execution_count": 26,
   "metadata": {},
   "outputs": [],
   "source": [
    "# 583  字符序列\n",
    "\n",
    "class Solution():\n",
    "    def minDistance(self,word1,word2):\n",
    "        m=len(word1)\n",
    "        n=len(word2)\n",
    "        dp=[[0]*(n+1) for _ in range(m+1)]   #表格法\n",
    "        for i in range(1,m+1):\n",
    "            for j in range(1,n+1):\n",
    "                if word1[i-1]==word2[j-1]:  #如果两个符号相同，则+1，再找左上角的最佳匹配长度\n",
    "                    dp[i][j]=dp[i-1][j-1]+1\n",
    "                else:\n",
    "                    dp[i][j]=max(dp[i][j-1],dp[i-1][j])  #如果不匹配，就只删除一个字符，左或者上的最佳匹配\n",
    "        return dp[m][n]"
   ]
  },
  {
   "cell_type": "code",
   "execution_count": 22,
   "metadata": {},
   "outputs": [
    {
     "data": {
      "text/plain": [
       "0"
      ]
     },
     "execution_count": 22,
     "metadata": {},
     "output_type": "execute_result"
    }
   ],
   "source": [
    "b=[[0]*3]*4\n",
    "b\n",
    "b[2][2]\n"
   ]
  },
  {
   "cell_type": "code",
   "execution_count": 27,
   "metadata": {},
   "outputs": [
    {
     "data": {
      "text/plain": [
       "3"
      ]
     },
     "execution_count": 27,
     "metadata": {},
     "output_type": "execute_result"
    }
   ],
   "source": [
    "a=Solution()\n",
    "a.minDistance(\"abcdefg\",\"bdg\")"
   ]
  },
  {
   "cell_type": "code",
   "execution_count": 32,
   "metadata": {},
   "outputs": [],
   "source": [
    "## 300   数字序列\n",
    "# 最长的递增序列长度\n",
    "class Solution:\n",
    "    def lengthOfLIS(self,nums):\n",
    "        if len(nums)==0:\n",
    "            return 0\n",
    "        LIS=[1]*len(nums)\n",
    "        for i in range(1,len(nums)):#i是右指针，j是左指针\n",
    "            LIS[i]=max([1+LIS[j] for j in range(i) if nums[j]<nums[i]] +1) #对于每个i，都要和前面i-1个比较，而不是只和小于自己的比较，\n",
    "        #可以设置从i开始，右到左扫，遇到小于i数的，就用它来+1就够了，\n",
    "        return max(LIS)\n"
   ]
  },
  {
   "cell_type": "code",
   "execution_count": null,
   "metadata": {},
   "outputs": [],
   "source": []
  },
  {
   "cell_type": "code",
   "execution_count": null,
   "metadata": {},
   "outputs": [],
   "source": [
    "# 416  背包分割等和子集\n",
    "#如果可以分割，则返回true\n",
    "# 背包总容量，就是相等的和 这个值\n",
    "class Solution:\n",
    "    def canPartition(self,nums):\n",
    "        c=sum(nums)\n",
    "        if c\n",
    "\n",
    "\n",
    "\n",
    "\n",
    "\n",
    "\n"
   ]
  },
  {
   "cell_type": "code",
   "execution_count": null,
   "metadata": {},
   "outputs": [],
   "source": []
  },
  {
   "cell_type": "code",
   "execution_count": null,
   "metadata": {},
   "outputs": [],
   "source": []
  },
  {
   "cell_type": "code",
   "execution_count": null,
   "metadata": {},
   "outputs": [],
   "source": []
  },
  {
   "cell_type": "code",
   "execution_count": null,
   "metadata": {},
   "outputs": [],
   "source": []
  }
 ],
 "metadata": {
  "kernelspec": {
   "display_name": "Python 3",
   "language": "python",
   "name": "python3"
  },
  "language_info": {
   "codemirror_mode": {
    "name": "ipython",
    "version": 3
   },
   "file_extension": ".py",
   "mimetype": "text/x-python",
   "name": "python",
   "nbconvert_exporter": "python",
   "pygments_lexer": "ipython3",
   "version": "3.6.7"
  }
 },
 "nbformat": 4,
 "nbformat_minor": 2
}
