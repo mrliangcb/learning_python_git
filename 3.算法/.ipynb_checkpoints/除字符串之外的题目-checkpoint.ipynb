{
 "cells": [
  {
   "cell_type": "code",
   "execution_count": 1,
   "metadata": {},
   "outputs": [],
   "source": [
    "#动态规划 "
   ]
  },
  {
   "cell_type": "code",
   "execution_count": 2,
   "metadata": {},
   "outputs": [],
   "source": [
    "# 一直青蛙 每次只能跳1到2级 到n级有多少种跳法\n",
    "# 跟摆红花白花很像\n",
    "\n",
    "class Solution:\n",
    "    def jumpFloor(self, number):\n",
    "        # write code here\n",
    "        dp=[0]*(number+1)\n",
    "        dp[0]=1\n",
    "        for i in range(1,len(dp)):\n",
    "            if i-2>=0:\n",
    "                dp[i]=dp[i-2]+dp[i-1]\n",
    "            else:\n",
    "                dp[i]=dp[i-1]\n",
    "        return dp[-1]\n"
   ]
  },
  {
   "cell_type": "code",
   "execution_count": 54,
   "metadata": {},
   "outputs": [],
   "source": [
    "# 搜索  经典用二分法  但是二分法不适用于 含有相等元素的\n",
    "\n",
    "# 数1\n",
    "#30有343个1   分别当10位为0 1 2\n",
    "#31"
   ]
  },
  {
   "cell_type": "code",
   "execution_count": null,
   "metadata": {},
   "outputs": [],
   "source": []
  },
  {
   "cell_type": "code",
   "execution_count": null,
   "metadata": {},
   "outputs": [],
   "source": []
  },
  {
   "cell_type": "code",
   "execution_count": 45,
   "metadata": {},
   "outputs": [],
   "source": [
    "#  给定一个数，问从0数到这个数，一共有多少个1\n",
    "\n",
    "class Solution:\n",
    "    def NumberOf1Between1AndN_Solution(self, n):\n",
    "        # write code here\n",
    "        n_=str(n)\n",
    "        lon=len(n_)\n",
    "        cnt=0\n",
    "        for i in range(lon):\n",
    "            m=lon-1-i #个位 的n=0，m=长度-1\n",
    "            \n",
    "            #第i位是什么\n",
    "            now=n_[m]\n",
    "            if now =='0':\n",
    "                \n",
    "                cnt+= int(n/(10**(i+1)))*(10**i)\n",
    "                \n",
    "            elif now >='2':\n",
    "                    cnt+= int(n/(10**(i+1))+1)*(10**i)\n",
    "            elif now == '1':\n",
    "                #算个位数时候\n",
    "                b=(n%(10**i))\n",
    "                print(b)\n",
    "                if i==0:\n",
    "                    cnt+= int(n/(10**(i+1)))*(10**i)+1\n",
    "                else:\n",
    "                    print(int(n/(10**(i+1)))*(10**i)+(b+1))\n",
    "                    cnt+= int(n/(10**(i+1)))*(10**i)+(b+1)\n",
    "        return cnt"
   ]
  },
  {
   "cell_type": "code",
   "execution_count": 46,
   "metadata": {},
   "outputs": [
    {
     "name": "stdout",
     "output_type": "stream",
     "text": [
      "5\n",
      "1000\n",
      "5\n",
      "1000\n",
      "5\n",
      "1000\n",
      "5\n",
      "1000\n",
      "5\n",
      "0\n",
      "1\n"
     ]
    },
    {
     "data": {
      "text/plain": [
       "4001"
      ]
     },
     "execution_count": 46,
     "metadata": {},
     "output_type": "execute_result"
    }
   ],
   "source": [
    "exam=Solution()\n",
    "exam.NumberOf1Between1AndN_Solution(10000)"
   ]
  },
  {
   "cell_type": "code",
   "execution_count": 1,
   "metadata": {},
   "outputs": [],
   "source": [
    "#微众专题\n"
   ]
  },
  {
   "cell_type": "code",
   "execution_count": null,
   "metadata": {},
   "outputs": [],
   "source": [
    "# 1 有限域\n",
    "\n",
    "# 存在一个大小为q的有限域当且仅当q是某个素数p的方幂，即q=pk\n",
    "# 第一行包含一个整数，数的范围在[1,10000]\n",
    "\n",
    "# 输入37  输出19\n",
    "# 当n 为 37 时，在 1-37 范围内，\n",
    "# 以下 19 个整数可以表示成某个素数的方幂：2，3，4，5，7，8，9，11，13，16，17，19，23，25，27，29，31，32，37。"
   ]
  },
  {
   "cell_type": "code",
   "execution_count": 51,
   "metadata": {},
   "outputs": [
    {
     "name": "stdout",
     "output_type": "stream",
     "text": [
      "1\n",
      "2\n",
      "3\n"
     ]
    },
    {
     "data": {
      "text/plain": [
       "[2, 3, 5, 7, 11, 13]"
      ]
     },
     "execution_count": 51,
     "metadata": {},
     "output_type": "execute_result"
    }
   ],
   "source": [
    "#一看就知道用查表法  dp\n",
    "# 检查某个数i是否素数，硬算就是 i把2 到 i-1 都% 取余一遍，如果发现余0的就是质数\n",
    "n=13    # 只能输入偶数\n",
    "result=[2,3]\n",
    "for i in range(1,n):\n",
    "    print(i)\n",
    "    a=i*6-1\n",
    "    if a>n:\n",
    "        break\n",
    "    result.append(a)\n",
    "    b=a+2\n",
    "    \n",
    "    if b>n:\n",
    "        break\n",
    "    result.append(b)\n",
    "    \n",
    "result\n"
   ]
  },
  {
   "cell_type": "code",
   "execution_count": 52,
   "metadata": {},
   "outputs": [
    {
     "name": "stdout",
     "output_type": "stream",
     "text": [
      "2 1\n",
      "2 2\n",
      "2 3\n",
      "3 1\n",
      "3 2\n",
      "5 1\n",
      "7 1\n",
      "11 1\n",
      "13 1\n"
     ]
    },
    {
     "data": {
      "text/plain": [
       "9"
      ]
     },
     "execution_count": 52,
     "metadata": {},
     "output_type": "execute_result"
    }
   ],
   "source": [
    "#制好表之后 算是1次方的\n",
    "# 逐次计算k次方，《= 目标的，cnt就++\n",
    "cnt=0\n",
    "for i in range(len(result)):\n",
    "    k=1\n",
    "    while result[i]**k <=n:\n",
    "        print(result[i],k)\n",
    "        cnt+=1\n",
    "        k+=1\n",
    "cnt\n",
    "\n",
    "# 有缺点 6*4=24  23 25    25不是素数"
   ]
  },
  {
   "cell_type": "code",
   "execution_count": null,
   "metadata": {},
   "outputs": [],
   "source": [
    "\n",
    "x = int(input())\n",
    "num = 0\n",
    "for i in range(2, x+1):\n",
    "    flag = True\n",
    "    count = 0\n",
    "    for j in range(2, i+1):\n",
    "        if i % j == 0:\n",
    "            count += 1\n",
    "        if count >= 2:\n",
    "            flag = False\n",
    "            break\n",
    "    if flag:\n",
    "        num += 1\n",
    "        y = i ** 2\n",
    "        while y <= x:\n",
    "            num += 1\n",
    "            y *= i #还有其他次方\n",
    "print(num)\n",
    "\n",
    "#别人的"
   ]
  },
  {
   "cell_type": "code",
   "execution_count": null,
   "metadata": {},
   "outputs": [],
   "source": [
    "# 求素数的方法\n",
    "# 比如求9 9 把2到9都取余% 一遍 如果余数为0 则返回false\n",
    "\n",
    "\n"
   ]
  },
  {
   "cell_type": "code",
   "execution_count": null,
   "metadata": {},
   "outputs": [],
   "source": []
  },
  {
   "cell_type": "code",
   "execution_count": 92,
   "metadata": {},
   "outputs": [
    {
     "name": "stdout",
     "output_type": "stream",
     "text": [
      "1 2 3\n"
     ]
    },
    {
     "data": {
      "text/plain": [
       "(1, 2, 3)"
      ]
     },
     "execution_count": 92,
     "metadata": {},
     "output_type": "execute_result"
    }
   ],
   "source": [
    "tuple(map(int,input().strip().split(' ')))"
   ]
  },
  {
   "cell_type": "code",
   "execution_count": 123,
   "metadata": {},
   "outputs": [
    {
     "data": {
      "text/plain": [
       "[[[], [], []], [[], [], []], [[], [], []]]"
      ]
     },
     "execution_count": 123,
     "metadata": {},
     "output_type": "execute_result"
    }
   ],
   "source": [
    "\n",
    "\n",
    "dp=[[[] for i in range(m)] for  j in range(m)]\n",
    "dp"
   ]
  },
  {
   "cell_type": "code",
   "execution_count": 20,
   "metadata": {},
   "outputs": [
    {
     "data": {
      "text/plain": [
       "[[0, 0, 0], [0, 0, 0], [0, 0, 0]]"
      ]
     },
     "execution_count": 20,
     "metadata": {},
     "output_type": "execute_result"
    }
   ],
   "source": [
    "\n",
    "dp"
   ]
  },
  {
   "cell_type": "code",
   "execution_count": 21,
   "metadata": {
    "scrolled": false
   },
   "outputs": [],
   "source": [
    "# dp=[[2,2,0],\n",
    "#   [1,0,2],\n",
    "#   [0,2,2]]\n",
    "# n=len(dp)\n",
    "# m=len(dp[0])\n",
    "# req=11\n",
    "# cnt=0\n",
    "# while req>0:\n",
    "#     cnt+=1\n",
    "#     print(req)\n",
    "#     pool=set()\n",
    "#     for i in range(n):\n",
    "#         for j in range(m):\n",
    "            \n",
    "#             if dp[i][j]!=0 and (j not in pool):\n",
    "#                 print(i,j,dp[i][j],pool)\n",
    "#                 if dp[i][j]<=2:\n",
    "                    \n",
    "                    \n",
    "#                     req-=dp[i][j]\n",
    "#                     dp[i][j]=0#直接置零\n",
    "#                     pool.add(j)\n",
    "#                 else:#>2的\n",
    "                    \n",
    "#                     req=req-2\n",
    "#                     pool.add(j)\n",
    "#                     dp[i][j]-=2\n",
    "#                 print('处理一次',req)\n",
    "#                 break\n",
    "    "
   ]
  },
  {
   "cell_type": "code",
   "execution_count": 143,
   "metadata": {},
   "outputs": [
    {
     "data": {
      "text/plain": [
       "2"
      ]
     },
     "execution_count": 143,
     "metadata": {},
     "output_type": "execute_result"
    }
   ],
   "source": [
    "cnt"
   ]
  },
  {
   "cell_type": "code",
   "execution_count": 126,
   "metadata": {},
   "outputs": [
    {
     "data": {
      "text/plain": [
       "1"
      ]
     },
     "execution_count": 126,
     "metadata": {},
     "output_type": "execute_result"
    }
   ],
   "source": [
    "a=2\n",
    "a-=1\n",
    "a"
   ]
  },
  {
   "cell_type": "code",
   "execution_count": 146,
   "metadata": {},
   "outputs": [
    {
     "data": {
      "text/plain": [
       "'28'"
      ]
     },
     "execution_count": 146,
     "metadata": {},
     "output_type": "execute_result"
    }
   ],
   "source": [
    "a='1233333333333333333333333333'\n",
    "str(len(a))"
   ]
  },
  {
   "cell_type": "code",
   "execution_count": 147,
   "metadata": {},
   "outputs": [
    {
     "data": {
      "text/plain": [
       "'a28b'"
      ]
     },
     "execution_count": 147,
     "metadata": {},
     "output_type": "execute_result"
    }
   ],
   "source": [
    "'28'.join(['a','b'])  #28插入到后面的元素之间"
   ]
  },
  {
   "cell_type": "code",
   "execution_count": 149,
   "metadata": {},
   "outputs": [
    {
     "name": "stdout",
     "output_type": "stream",
     "text": [
      "aaaaaaaaaaaaaaaaaaaaaaaaaaaaaaaaaaaaaaaaaaaaaaaaaaaaaaaaaaaaaaaaaaaaaaaaaaaaaaaaaaaaaaaaaaaaaaaaaaaaaaaaaa\n",
      "a104a\n"
     ]
    }
   ],
   "source": [
    "n=1\n",
    "\n",
    "def ans(nums):\n",
    "    if len(nums)<10:\n",
    "        return nums\n",
    "    else:#>10\n",
    "        tem=str(len(nums)-2)\n",
    "        out=nums[0]+tem+nums[-1]\n",
    "        return out\n",
    "\n",
    "for i in range(n):\n",
    "    x=input().strip()\n",
    "    print(ans(x))"
   ]
  },
  {
   "cell_type": "code",
   "execution_count": 20,
   "metadata": {},
   "outputs": [
    {
     "data": {
      "text/plain": [
       "[[0, 0, 0], [0, 0, 0]]"
      ]
     },
     "execution_count": 20,
     "metadata": {},
     "output_type": "execute_result"
    }
   ],
   "source": [
    "req=0\n",
    "a=2\n",
    "b=3\n",
    "dp=[[0 for i in range(b)] for i in range(a)]\n",
    "dp"
   ]
  },
  {
   "cell_type": "code",
   "execution_count": 21,
   "metadata": {},
   "outputs": [
    {
     "name": "stdout",
     "output_type": "stream",
     "text": [
      "1 3\n",
      "0 [3] 1\n",
      "3 1 2 3\n",
      "0 [1, 2, 3] 4\n",
      "1 [1, 2, 3] 4\n",
      "2 [1, 2, 3] 4\n"
     ]
    }
   ],
   "source": [
    "for i in range(a):\n",
    "    tem=list(map(int,input().strip().split(' ')))\n",
    "    req=req+tem[0]\n",
    "    k=tem.pop(0)\n",
    "    for j in range(k):\n",
    "        print(j,tem,req)\n",
    "        dp[i][tem[j]-1]=1"
   ]
  },
  {
   "cell_type": "code",
   "execution_count": 22,
   "metadata": {},
   "outputs": [
    {
     "data": {
      "text/plain": [
       "[[0, 0, 1], [1, 1, 1]]"
      ]
     },
     "execution_count": 22,
     "metadata": {},
     "output_type": "execute_result"
    }
   ],
   "source": [
    "dp"
   ]
  },
  {
   "cell_type": "code",
   "execution_count": 13,
   "metadata": {},
   "outputs": [],
   "source": [
    "dp[0][0].append(2)"
   ]
  },
  {
   "cell_type": "code",
   "execution_count": 15,
   "metadata": {},
   "outputs": [
    {
     "data": {
      "text/plain": [
       "[[[0, 2], 1, 1], [[0], 1, [0]]]"
      ]
     },
     "execution_count": 15,
     "metadata": {},
     "output_type": "execute_result"
    }
   ],
   "source": [
    "dp"
   ]
  },
  {
   "cell_type": "code",
   "execution_count": 23,
   "metadata": {},
   "outputs": [
    {
     "name": "stdout",
     "output_type": "stream",
     "text": [
      "4\n",
      "处理一次 3\n",
      "处理一次 2\n",
      "2\n",
      "处理一次 1\n",
      "1\n",
      "处理一次 0\n"
     ]
    }
   ],
   "source": [
    "n=len(dp)\n",
    "m=len(dp[0])\n",
    "\n",
    "cnt=0\n",
    "while req>0:\n",
    "    cnt+=1\n",
    "    print(req)\n",
    "    pool=set()\n",
    "    for i in range(n):\n",
    "        for j in range(m):\n",
    "            if dp[i][j]!=0 and (j not in pool):\n",
    "                if dp[i][j]<=2:\n",
    "                    req-=dp[i][j]\n",
    "                    dp[i][j]=0#直接置零\n",
    "                    pool.add(j)\n",
    "                else:#>2的\n",
    "                    req=req-2\n",
    "                    pool.add(j)\n",
    "                    dp[i][j]-=2\n",
    "                print('处理一次',req)\n",
    "                break"
   ]
  },
  {
   "cell_type": "code",
   "execution_count": 18,
   "metadata": {},
   "outputs": [
    {
     "name": "stdout",
     "output_type": "stream",
     "text": [
      "3 3\n",
      "2 1 2\n",
      "2 1 3\n",
      "2 2 3\n",
      "1 1\n",
      "2 1 3\n",
      "2 2 3\n",
      "[[2, 2, 0], [1, 0, 2], [0, 2, 2]] 11\n"
     ]
    }
   ],
   "source": [
    "a,b=list(map(int,input().strip().split(' ')))\n",
    "\n",
    "dp=[[0 for i in range(b)] for i in range(a)]\n",
    "req=0\n",
    "for i in range(a):\n",
    "    tem=list(map(int,input().strip().split(' ')))\n",
    "    req=req+tem[0]\n",
    "    k=tem.pop(0)\n",
    "    for j in range(k):\n",
    "        dp[i][tem[j]-1]=1 #编号是从0起\n",
    "for i in range(b):\n",
    "    tem=list(map(int,input().strip().split(' ')))\n",
    "    req=req+tem[0]\n",
    "    k=tem.pop(0)\n",
    "    for j in range(k):\n",
    "        dp[tem[j]-1][i]+=1 #编号是从0起\n",
    "print(dp,req)\n",
    "        \n",
    "        \n",
    "\n"
   ]
  },
  {
   "cell_type": "code",
   "execution_count": 16,
   "metadata": {},
   "outputs": [
    {
     "data": {
      "text/plain": [
       "(11, [[2, 2, 0], [1, 0, 2], [0, 2, 2]])"
      ]
     },
     "execution_count": 16,
     "metadata": {},
     "output_type": "execute_result"
    }
   ],
   "source": [
    "dp=[[2, 2, 0], [1, 0, 2], [0, 2, 2]]\n",
    "req=11\n",
    "req,dp"
   ]
  },
  {
   "cell_type": "code",
   "execution_count": 19,
   "metadata": {},
   "outputs": [
    {
     "name": "stdout",
     "output_type": "stream",
     "text": [
      "11\n",
      "5\n",
      "2\n"
     ]
    }
   ],
   "source": [
    "\n",
    "cnt=0\n",
    "while req>0:\n",
    "    cnt+=1\n",
    "    print(req)\n",
    "    pool=set()\n",
    "    for i in range(a):\n",
    "        for j in range(b):\n",
    "            if dp[i][j]!=0 and (j not in pool):\n",
    "                if dp[i][j]<=2:\n",
    "                    req-=dp[i][j]\n",
    "                    dp[i][j]=0#直接置零\n",
    "                    pool.add(j)\n",
    "                else:#>2的\n",
    "                    req=req-2\n",
    "                    pool.add(j)\n",
    "                    dp[i][j]-=2\n",
    "                break\n",
    "print(cnt)"
   ]
  },
  {
   "cell_type": "code",
   "execution_count": null,
   "metadata": {},
   "outputs": [],
   "source": []
  },
  {
   "cell_type": "code",
   "execution_count": null,
   "metadata": {},
   "outputs": [],
   "source": []
  }
 ],
 "metadata": {
  "kernelspec": {
   "display_name": "Python 3",
   "language": "python",
   "name": "python3"
  },
  "language_info": {
   "codemirror_mode": {
    "name": "ipython",
    "version": 3
   },
   "file_extension": ".py",
   "mimetype": "text/x-python",
   "name": "python",
   "nbconvert_exporter": "python",
   "pygments_lexer": "ipython3",
   "version": "3.6.7"
  }
 },
 "nbformat": 4,
 "nbformat_minor": 2
}
