{
 "cells": [
  {
   "cell_type": "code",
   "execution_count": 1,
   "metadata": {},
   "outputs": [],
   "source": [
    "import numpy as np\n",
    "#from numpy.linalg import cholesky\n",
    "import matplotlib.pyplot as plt\n",
    "from functools import reduce"
   ]
  },
  {
   "cell_type": "code",
   "execution_count": 9,
   "metadata": {
    "scrolled": true
   },
   "outputs": [
    {
     "name": "stdout",
     "output_type": "stream",
     "text": [
      "[[2 1]\n",
      " [1 2]]\n",
      "[[ 0.66666667 -0.33333333]\n",
      " [-0.33333333  0.66666667]]\n"
     ]
    },
    {
     "data": {
      "text/plain": [
       "<matplotlib.legend.Legend at 0x22427a6d048>"
      ]
     },
     "execution_count": 9,
     "metadata": {},
     "output_type": "execute_result"
    },
    {
     "data": {
      "image/png": "[encoded data removed]",
      "text/plain": [
       "<Figure size 432x288 with 1 Axes>"
      ]
     },
     "metadata": {
      "needs_background": "light"
     },
     "output_type": "display_data"
    }
   ],
   "source": [
    "sampleNo = 100\n",
    "mu = np.array([[0, 2]])\n",
    "mu1 = np.array([[1.5, 0]])\n",
    "Sigma = np.array([[2, 1], [1, 2]])\n",
    "#R = cholesky(Sigma).T  #风险函数\n",
    "#va,vc = np.linalg.eig(Sigma); R2 = (np.diag(va)**0.5)@vc.T\n",
    "\n",
    "s1 = np.random.multivariate_normal(mu[0],Sigma,sampleNo) \n",
    "s2 = np.random.multivariate_normal(mu1[0],Sigma,sampleNo) \n",
    "\n",
    "# s1,s2 各自生成100个 (x,y)\n",
    "# multivariate_normal(mean, cov, size=None, check_valid=None, tol=None)   均值，协方差，size\n",
    "\n",
    "x = range(-100,100,1)\n",
    "print(Sigma)\n",
    "C = np.linalg.inv(Sigma)  #矩阵求逆，反过来然后放在分母\n",
    "print(C)\n",
    "\n",
    "w = 2*np.dot(C, mu1.T-mu.T)\n",
    "b = reduce(np.dot, [mu,C,mu.T])- reduce(np.dot, [mu1,C,mu1.T])   #(函数,迭代对象)\n",
    "w0 = (-w[0]/w[1])[0]\n",
    "y= np.dot(w0, x)+(-b/w[1])\n",
    "\n",
    "plt.plot(*s1.T,'.',label = 's1')\n",
    "plt.plot(*s2.T,'.',label = 's2')\n",
    "plt.axis('scaled')\n",
    "plt.plot(mu[0],mu1[0],'-')\n",
    "plt.plot(x,y[0],'-')\n",
    "plt.legend()"
   ]
  },
  {
   "cell_type": "code",
   "execution_count": null,
   "metadata": {},
   "outputs": [],
   "source": []
  }
 ],
 "metadata": {
  "kernelspec": {
   "display_name": "Python 3",
   "language": "python",
   "name": "python3"
  },
  "language_info": {
   "codemirror_mode": {
    "name": "ipython",
    "version": 3
   },
   "file_extension": ".py",
   "mimetype": "text/x-python",
   "name": "python",
   "nbconvert_exporter": "python",
   "pygments_lexer": "ipython3",
   "version": "3.6.7"
  }
 },
 "nbformat": 4,
 "nbformat_minor": 2
}
