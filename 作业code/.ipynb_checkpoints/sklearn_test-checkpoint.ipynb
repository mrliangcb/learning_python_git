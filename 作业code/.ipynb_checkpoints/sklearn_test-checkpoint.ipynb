{
 "cells": [
  {
   "cell_type": "code",
   "execution_count": 2,
   "metadata": {},
   "outputs": [
    {
     "name": "stdout",
     "output_type": "stream",
     "text": [
      "标准化前: [[ 10.    2.7   3.6]\n",
      " [100.    1.    2. ]\n",
      " [120.   20.   40. ]]\n",
      "标准化后: [[-1.39346603 -0.60577157 -0.66102858]\n",
      " [ 0.48771311 -0.80381228 -0.75220493]\n",
      " [ 0.90575292  1.40958385  1.41323351]]\n"
     ]
    }
   ],
   "source": [
    "from sklearn import preprocessing\n",
    "import numpy as np\n",
    "a=np.array([[10,2.7,3.6],[100,1,2],[120,20,40]])\n",
    "print('标准化前:',a)\n",
    "print('标准化后:',preprocessing.scale(a))\n"
   ]
  },
  {
   "cell_type": "code",
   "execution_count": 3,
   "metadata": {},
   "outputs": [],
   "source": [
    "#交叉验证\n",
    "from sklearn.datasets import load_iris\n",
    "from sklearn.model_selection import train_test_split\n",
    "from sklearn.neighbors import KNeighborsClassifier\n",
    "from sklearn.model_selection import cross_val_score"
   ]
  },
  {
   "cell_type": "code",
   "execution_count": 4,
   "metadata": {},
   "outputs": [],
   "source": [
    "iris=load_iris()\n",
    "X=iris.data\n",
    "y=iris.target\n",
    "X_train,X_test,y_train,y_test=train_test_split(X,y,test_size=0.3\n",
    "                                            )"
   ]
  },
  {
   "cell_type": "code",
   "execution_count": 5,
   "metadata": {},
   "outputs": [
    {
     "name": "stdout",
     "output_type": "stream",
     "text": [
      "[0.96666667 1.         0.93333333 0.96666667 1.        ]\n",
      "平均评分: 0.9733333333333334\n"
     ]
    }
   ],
   "source": [
    "knn=KNeighborsClassifier(n_neighbors=5)\n",
    "scores=cross_val_score(knn,X,y,cv=5,scoring='accuracy')\n",
    "print(scores)#每组评分\n",
    "print('平均评分:',scores.mean())"
   ]
  },
  {
   "cell_type": "code",
   "execution_count": 7,
   "metadata": {},
   "outputs": [],
   "source": [
    "#learning_curve()\n",
    "#validation_curve()\n",
    "#from sklearn.externals import joblib #导入自带模型\n",
    "#joblib.dump(model,sklearn_save/clf.pkl) #保存模型\n",
    "#model2=joblib.load('sklearn_save/clf.pkl') #重新加载模型\n",
    "\n"
   ]
  },
  {
   "cell_type": "code",
   "execution_count": null,
   "metadata": {},
   "outputs": [],
   "source": []
  }
 ],
 "metadata": {
  "kernelspec": {
   "display_name": "Python 3",
   "language": "python",
   "name": "python3"
  },
  "language_info": {
   "codemirror_mode": {
    "name": "ipython",
    "version": 3
   },
   "file_extension": ".py",
   "mimetype": "text/x-python",
   "name": "python",
   "nbconvert_exporter": "python",
   "pygments_lexer": "ipython3",
   "version": "3.6.7"
  }
 },
 "nbformat": 4,
 "nbformat_minor": 2
}
