{
 "cells": [
  {
   "cell_type": "code",
   "execution_count": 5,
   "metadata": {},
   "outputs": [],
   "source": [
    "import numpy as np\n",
    "import KNearestNeighbor as model"
   ]
  },
  {
   "cell_type": "code",
   "execution_count": 6,
   "metadata": {},
   "outputs": [
    {
     "data": {
      "text/plain": [
       "<KNearestNeighbor.KNearestNeighbor at 0x2e1fc1a0f60>"
      ]
     },
     "execution_count": 6,
     "metadata": {},
     "output_type": "execute_result"
    }
   ],
   "source": []
  },
  {
   "cell_type": "code",
   "execution_count": 6,
   "metadata": {},
   "outputs": [
    {
     "name": "stdout",
     "output_type": "stream",
     "text": [
      "[-3 -2 -1  0  1  2  3  4]\n",
      "[0 1 2 4 5 6 7]\n"
     ]
    }
   ],
   "source": [
    "x = np.arange(-3,5)\n",
    "x_flat=np.flatnonzero(x)\n",
    "#idxs = np.flatnonzero(y_train == y)\n",
    "print(x)\n",
    "print(x_flat) #这个函数是平移到0开头的"
   ]
  },
  {
   "cell_type": "code",
   "execution_count": 9,
   "metadata": {},
   "outputs": [
    {
     "data": {
      "text/plain": [
       "array([0], dtype=int64)"
      ]
     },
     "execution_count": 9,
     "metadata": {},
     "output_type": "execute_result"
    }
   ],
   "source": [
    "np.flatnonzero(x==-3) #返回-3的位置"
   ]
  },
  {
   "cell_type": "code",
   "execution_count": 24,
   "metadata": {},
   "outputs": [
    {
     "data": {
      "text/plain": [
       "array([[19, 19],\n",
       "       [19, 10],\n",
       "       [10, 19]])"
      ]
     },
     "execution_count": 24,
     "metadata": {},
     "output_type": "execute_result"
    }
   ],
   "source": [
    "# numpy.random.choice(a, size=None, replace=True, p=None)  a数组  size生成数组维度,replace:设置false则抽样不重复   p样本出现概率\n",
    "np.random.choice([10,19],[3,2]) #含重复"
   ]
  },
  {
   "cell_type": "code",
   "execution_count": 51,
   "metadata": {},
   "outputs": [
    {
     "name": "stdout",
     "output_type": "stream",
     "text": [
      "[12 10 11]\n"
     ]
    }
   ],
   "source": [
    "#np.random.choice(range(10,17),3,p=[0,0,0.1,0.6,0.3]) \n",
    "print(  np.random.choice(range(10,13,1),3,p=[0.4,0.3,0.3],replace=False))  #p代表[10,13]里面每个数的概率  样本不重复"
   ]
  },
  {
   "cell_type": "code",
   "execution_count": 54,
   "metadata": {},
   "outputs": [
    {
     "data": {
      "text/plain": [
       "array([3, 2, 1, 0, 4], dtype=int64)"
      ]
     },
     "execution_count": 54,
     "metadata": {},
     "output_type": "execute_result"
    }
   ],
   "source": []
  },
  {
   "cell_type": "code",
   "execution_count": 3,
   "metadata": {},
   "outputs": [
    {
     "data": {
      "text/plain": [
       "array([1, 3, 2, 0, 1], dtype=int64)"
      ]
     },
     "execution_count": 3,
     "metadata": {},
     "output_type": "execute_result"
    }
   ],
   "source": [
    "# 样本转为次数\n",
    "x = np.array([0,1,2,2,1,1,4])\n",
    "np.bincount(x)  #[1,3,2] 表示0出现1次，1出现3次"
   ]
  },
  {
   "cell_type": "code",
   "execution_count": 4,
   "metadata": {},
   "outputs": [
    {
     "data": {
      "text/plain": [
       "array([3, 2, 1, 0, 4], dtype=int64)"
      ]
     },
     "execution_count": 4,
     "metadata": {},
     "output_type": "execute_result"
    }
   ],
   "source": [
    "#次数转为坐标\n",
    "x = np.array([5,3,0,-1,9])\n",
    "np.argsort(x)   #范湖数组中从小到大的值对应的索引"
   ]
  },
  {
   "cell_type": "code",
   "execution_count": 53,
   "metadata": {},
   "outputs": [],
   "source": [
    "# Knn算法也就是，即时用 测试集与训练集所有数据求距离，距离哪个类近，就判决为哪个类"
   ]
  },
  {
   "cell_type": "code",
   "execution_count": 66,
   "metadata": {},
   "outputs": [],
   "source": [
    "def compute_distances_two_loops(test,train):  # X为训练集，Y为测试集，维度【张数，每一张所含元素】\n",
    "    # 500\n",
    "    num_test = test.shape[0]\n",
    "    # 5000\n",
    "    num_train = train.shape[0]\n",
    "    # 生成一个shape(500,5000)的全为0矩阵  其实就是邻接矩阵\n",
    "    dists = np.zeros((num_test, num_train))\n",
    "    # 两重for循环\n",
    "    for i in range(num_test):\n",
    "        for j in range(num_train):\n",
    "            # 利用欧式距离计算\n",
    "            dists[i,j]=np.sqrt(np.sum(np.square(Y[i,:]-X[j,:])))  #每个元素相减，然后求平方，再相加，再开根号\n",
    "    return dists\n",
    "\n",
    "def predict_labels(dists, k=1):#dists  一行行就是一张测试图片\n",
    "    num_test = dists.shape[0]  #每行为一个测试图像，和所有train的距离\n",
    "    y_pred = np.zeros(num_test)\n",
    "    # 上面两层循环的得出dists shape(500,5000)\n",
    "    # 下面通过循环来得出测试图片500张与训练图片5000张距离最近的前k个\n",
    "    for i in range(num_test):#遍历500个test图片\n",
    "        closest_y = []\n",
    "        # 目的是得出测试图片500张与训练图片5000张距离最近的前k个\n",
    "        closest_y = train[np.argsort(dists[i,:])[:k]]  #先求每行数据最小的那个索引，然后显示前K个\n",
    "        # 投票得出预测值\n",
    "        y_pred[i] = np.argmax(np.bincount(closest_y)) #统计k个label中，每个label的次数，然后argmax取出最大次数的索引，就是预测结果\n",
    "    return y_pred"
   ]
  },
  {
   "cell_type": "code",
   "execution_count": 10,
   "metadata": {},
   "outputs": [
    {
     "data": {
      "text/plain": [
       "array([[1, 4, 9]], dtype=int32)"
      ]
     },
     "execution_count": 10,
     "metadata": {},
     "output_type": "execute_result"
    }
   ],
   "source": [
    "#不用循环，实现计算欧氏距离  这样十分的高效， 矩阵运算  VS 循环\n",
    "# 这里有技巧 (x-y)^2=x^2+y^2-2xy  注意xy，对应矩阵要转置\n",
    "# 矩阵每个元素平方  np.square 或者 X**2   \n",
    "def compute_distances_no_loops(self, X):\n",
    "        num_test = X.shape[0]\n",
    "        num_train = self.X_train.shape[0]\n",
    "        dists = np.zeros((num_test, num_train))\n",
    "        dists = np.sqrt(np.sum(X**2, axis=1, keepdims=True) + (-2 * np.dot(X, self.X_train.T)) + np.sum(self.X_train**2, axis=1))\n",
    "        return dists\n",
    "a=np.array([[1,2,3]])\n",
    "np.square(a)\n",
    "a**2"
   ]
  },
  {
   "cell_type": "code",
   "execution_count": null,
   "metadata": {},
   "outputs": [],
   "source": [
    "class KNearestNeighbor():\n",
    "    "
   ]
  },
  {
   "cell_type": "code",
   "execution_count": 8,
   "metadata": {},
   "outputs": [
    {
     "data": {
      "text/plain": [
       "array([[14]], dtype=int32)"
      ]
     },
     "execution_count": 8,
     "metadata": {},
     "output_type": "execute_result"
    }
   ],
   "source": [
    "# 多折：\n",
    "\n",
    "# X_train_folds = np.array_split(X_train, num_folds, axis=0) # list\n",
    "a=np.array([[1,2,3]])\n",
    "np.sum(a**2,axis=1,keepdims=True)#保持原来的维度   0表示垂直统计，1表示横向操作"
   ]
  },
  {
   "cell_type": "code",
   "execution_count": 12,
   "metadata": {},
   "outputs": [
    {
     "data": {
      "text/plain": [
       "[array([[1, 1],\n",
       "        [1, 0]]), array([[2, 0],\n",
       "        [3, 0]])]"
      ]
     },
     "execution_count": 12,
     "metadata": {},
     "output_type": "execute_result"
    }
   ],
   "source": [
    "x = np.arange(6)\n",
    "x=[[1,1],[1,0],[2,0],[3,0]]\n",
    "xx=np.array_split(x,2,axis=0)  # 交叉验证常用，分割成3组  顺序不变  输入可以是list或者numpy 一维数组\n",
    "xx\n",
    "#然后通过concat把几个组连起来"
   ]
  },
  {
   "cell_type": "code",
   "execution_count": 18,
   "metadata": {},
   "outputs": [
    {
     "data": {
      "text/plain": [
       "array([[1, 1],\n",
       "       [1, 0],\n",
       "       [2, 0],\n",
       "       [3, 0]])"
      ]
     },
     "execution_count": 18,
     "metadata": {},
     "output_type": "execute_result"
    }
   ],
   "source": [
    "np.concatenate(xx[0:2],axis=0)  # 相当于二维list，每行为一个样本,列为样本数\n"
   ]
  },
  {
   "cell_type": "code",
   "execution_count": 8,
   "metadata": {},
   "outputs": [
    {
     "ename": "NameError",
     "evalue": "name 'X_train_folds' is not defined",
     "output_type": "error",
     "traceback": [
      "\u001b[1;31m---------------------------------------------------------------------------\u001b[0m",
      "\u001b[1;31mNameError\u001b[0m                                 Traceback (most recent call last)",
      "\u001b[1;32m<ipython-input-8-065d5e53c326>\u001b[0m in \u001b[0;36m<module>\u001b[1;34m\u001b[0m\n\u001b[0;32m      2\u001b[0m \u001b[1;32mfor\u001b[0m \u001b[0mi\u001b[0m \u001b[1;32min\u001b[0m \u001b[0mrange\u001b[0m\u001b[1;33m(\u001b[0m\u001b[0mnum_folds\u001b[0m\u001b[1;33m)\u001b[0m\u001b[1;33m:\u001b[0m\u001b[1;33m\u001b[0m\u001b[1;33m\u001b[0m\u001b[0m\n\u001b[0;32m      3\u001b[0m     \u001b[1;31m# train / validation split (80% 20%)\u001b[0m\u001b[1;33m\u001b[0m\u001b[1;33m\u001b[0m\u001b[1;33m\u001b[0m\u001b[0m\n\u001b[1;32m----> 4\u001b[1;33m     \u001b[0mX_train_batch\u001b[0m \u001b[1;33m=\u001b[0m \u001b[0mnp\u001b[0m\u001b[1;33m.\u001b[0m\u001b[0mconcatenate\u001b[0m\u001b[1;33m(\u001b[0m\u001b[0mX_train_folds\u001b[0m\u001b[1;33m[\u001b[0m\u001b[1;36m1\u001b[0m\u001b[1;33m:\u001b[0m\u001b[0mnum_folds\u001b[0m\u001b[1;33m]\u001b[0m\u001b[1;33m)\u001b[0m\u001b[1;33m\u001b[0m\u001b[1;33m\u001b[0m\u001b[0m\n\u001b[0m\u001b[0;32m      5\u001b[0m     \u001b[0my_train_batch\u001b[0m \u001b[1;33m=\u001b[0m \u001b[0mnp\u001b[0m\u001b[1;33m.\u001b[0m\u001b[0mconcatenate\u001b[0m\u001b[1;33m(\u001b[0m\u001b[0my_train_folds\u001b[0m\u001b[1;33m[\u001b[0m\u001b[1;36m1\u001b[0m\u001b[1;33m:\u001b[0m\u001b[0mnum_folds\u001b[0m\u001b[1;33m]\u001b[0m\u001b[1;33m)\u001b[0m\u001b[1;33m\u001b[0m\u001b[1;33m\u001b[0m\u001b[0m\n\u001b[0;32m      6\u001b[0m     \u001b[0mX_valid_batch\u001b[0m \u001b[1;33m=\u001b[0m \u001b[0mX_train_folds\u001b[0m\u001b[1;33m[\u001b[0m\u001b[1;36m0\u001b[0m\u001b[1;33m]\u001b[0m\u001b[1;33m\u001b[0m\u001b[1;33m\u001b[0m\u001b[0m\n",
      "\u001b[1;31mNameError\u001b[0m: name 'X_train_folds' is not defined"
     ]
    }
   ],
   "source": [
    "num_folds=5\n",
    "\n",
    "\n",
    "for i in range(num_folds):\n",
    "    # train / validation split (80% 20%)\n",
    "    X_train_batch = np.concatenate(X_train_folds[1:num_folds])   \n",
    "    y_train_batch = np.concatenate(y_train_folds[1:num_folds])\n",
    "    X_valid_batch = X_train_folds[0]   \n",
    "    y_valid_batch = y_train_folds[0]\n",
    "    # swap data (for next iteration)\n",
    "    if i < num_folds - 1:\n",
    "        tmp = X_train_folds[0]\n",
    "        X_train_folds[0] = X_train_folds[i+1]\n",
    "        X_train_folds[i+1] = tmp\n",
    "        tmp = y_train_folds[0]\n",
    "        y_train_folds[0] = y_train_folds[i+1]\n",
    "        y_train_folds[i+1] = tmp\n",
    "    # train model\n",
    "    model = model.KNearestNeighbor() #建立一个KNN类，里面的方法就是上面写的compute_distance\n",
    "    model.train(X_train_batch, y_train_batch) \n",
    "    dists = model.compute_distances_no_loops(X_valid_batch)\n",
    "    # compute accuracy for each k \n",
    "    for k in k_choices:\n",
    "        y_valid_pred = model.predict_labels(dists, k=k)\n",
    "        # compute validation accuracy\n",
    "        num_correct = np.sum(y_valid_pred == y_valid_batch)\n",
    "        accuracy = float(num_correct) / y_valid_batch.shape[0]\n",
    "        # accumulate accuracy into dictionary\n",
    "        if i == 0:\n",
    "            k_to_accuracies[k] = [] \n",
    "        k_to_accuracies[k].append(accuracy)"
   ]
  },
  {
   "cell_type": "code",
   "execution_count": null,
   "metadata": {},
   "outputs": [],
   "source": []
  }
 ],
 "metadata": {
  "kernelspec": {
   "display_name": "Python 3",
   "language": "python",
   "name": "python3"
  },
  "language_info": {
   "codemirror_mode": {
    "name": "ipython",
    "version": 3
   },
   "file_extension": ".py",
   "mimetype": "text/x-python",
   "name": "python",
   "nbconvert_exporter": "python",
   "pygments_lexer": "ipython3",
   "version": "3.6.7"
  }
 },
 "nbformat": 4,
 "nbformat_minor": 2
}
